{
 "cells": [
  {
   "cell_type": "markdown",
   "id": "d15a29c0-3fc1-4e46-b123-8a3f7358eb12",
   "metadata": {},
   "source": [
    "# Streamlit\n",
    "\n",
    "## your first app\n",
    "Streamlit, like voila, panel, shiny and flask, is an alternative to using dash. At this moment, dash seems to be the most popular solution for python dashboarding. However, streamlit seems to be gaining traction. Streamlit is very easy to learn.\n",
    "\n",
    "For installation, simply do\n",
    "\n",
    "```\n",
    "pip install streamlit\n",
    "```\n",
    "\n",
    "Now, create a python file. Now create a file, say `app1.py`, with the following code:\n",
    "\n",
    "```\n",
    "import streamlit as st\n",
    "\n",
    "st.write(\"\"\"\n",
    "# Streamlit can use markdown syntax\n",
    "## Level 2\n",
    "\n",
    "+ bullet 1\n",
    "+ bullet 2\n",
    "\"\"\"\n",
    ")\n",
    "```\n",
    "\n",
    "Now open up a terminal in the directory of your app and type\n",
    "```\n",
    "streamlit run app1.py\n",
    "```\n",
    "It should pop up a browser with your app running!"
   ]
  },
  {
   "cell_type": "markdown",
   "id": "05d1361d-0d80-412b-b7bd-69664ecca6e9",
   "metadata": {},
   "source": [
    "## Input / output\n",
    "\n",
    "Streamlit is very easy for programming I/O. Here's a simple example \n",
    "\n",
    "```\n",
    "import streamlit as st\n",
    "import pandas as pd\n",
    "import numpy as np\n",
    "\n",
    "cb = st.checkbox(\"Did you check the box\")\n",
    "if cb:\n",
    "    st.write(\"Yes you did! :-)\")\n",
    "else:\n",
    "    st.write(\"No you didn't :-(\")\n",
    "\n",
    "\n",
    "rb = st.radio(\n",
    "     \"Pick an option\",\n",
    "     ('Option 1', 'Option 2', 'Option 3'))\n",
    "st.write(\"you picked \" + rb)\n",
    "\n",
    "\n",
    "## Adding a chart\n",
    "\n",
    "nsims = st.number_input('Put in a number of sims', value = 10)\n",
    "if nsims < 10 : \n",
    "    st.write(\"Pick a bigger number\")\n",
    "else :\n",
    "    chart_data = pd.DataFrame(\n",
    "         np.random.randn(np.round(nsims), 2),\n",
    "         columns=['a', 'b'])\n",
    "    st.line_chart(chart_data)\n",
    "```\n",
    "\n",
    "simply save this in a file, say `app2.py` and type `streamlit run app2.py`. Also, the app has a button that allows you to deploy it to the streamlit hosting service.\n",
    "\n"
   ]
  }
 ],
 "metadata": {
  "kernelspec": {
   "display_name": "Python 3 (ipykernel)",
   "language": "python",
   "name": "python3"
  },
  "language_info": {
   "codemirror_mode": {
    "name": "ipython",
    "version": 3
   },
   "file_extension": ".py",
   "mimetype": "text/x-python",
   "name": "python",
   "nbconvert_exporter": "python",
   "pygments_lexer": "ipython3",
   "version": "3.9.7"
  }
 },
 "nbformat": 4,
 "nbformat_minor": 5
}
