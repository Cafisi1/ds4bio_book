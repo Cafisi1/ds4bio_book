{
 "cells": [
  {
   "cell_type": "markdown",
   "metadata": {},
   "source": [
    "# Data structures\n",
    "\n",
    "The topic of data structures focuses on how we represent, access and store data, ideally in ways efficient for our purpose. This chapter is a low level teaser of data structures geared towards students who haven't been exposed to the ideas much at all. \n",
    "\n",
    "## Hash tables\n",
    "\n",
    "A common starting point for data structures is a hash table. Suppose we want to store a set of `values` associated with a set of `keys`. Consider a list of some students and their PhD theses. \n",
    "\n",
    "| key | value | \n",
    "|:----|:------|\n",
    "| Leena    | Modelling biomedical data and the foundations of bioequivalence|\n",
    "| Xianbin  | Modeling composite outcomes and their component parts |\n",
    "| Shu-Chih | Structure/function relationships in the analysis of anatomical and functional neuroimaging data|\n",
    "| Haley | Statistical methods for inter-subject analysis of neuroscience data |\n",
    "| Bruce | From individuals to populations: application and insights concerning the generalized linear mixed model|\n",
    "\n",
    "If we stored these in an text array, say, and we wanted to look up Bruce's thesis title, we'd have to check each key in turn until we arived at Bruce and then looked up his thesis. This has a worst case scenario of n operations. (Question, if we looked in the order of a random permutation, what is the expected number of lookups?)\n",
    "\n",
    "Hash tables map the keys to a specific lookup number. Thus, when trying to find Bruce's value, the has function would perform `hash(\"Bruce\")` to get the hash value, then to straight to that point in the array. Sounds great!\n",
    "\n",
    "There are some details, of course. Most (all) programming languages have hash tables, or libraries that add on hash tables. For example, the `dict` structure in python. Since that exists, let's work in R and create our own hash table. \n",
    "\n",
    "We need a hash function. Let's create one as the sum of its utf8 values"
   ]
  },
  {
   "cell_type": "code",
   "execution_count": null,
   "metadata": {},
   "outputs": [],
   "source": [
    "hash = function(string, mod) sum(utf8ToInt(string)) %% mod\n",
    "hash(\"Bruce\", 5)\n",
    "hash(\"Bruce2\", 5)\n",
    "hash(\"Haley\", 5)"
   ]
  },
  {
   "cell_type": "markdown",
   "metadata": {},
   "source": [
    "Here the mod is used to truncate our integer value so that our it fits in our list. In our case, let's assume the list is of length no larger than 5. Ideally, you want you hash functions to have as few `collisions`, instances where different key texts give the same hash value, as possible. For our simple example, we're not going to stress out over this much and our hash function is going to give lots of collisions. Let's create an empty hash table"
   ]
  },
  {
   "cell_type": "code",
   "execution_count": null,
   "metadata": {},
   "outputs": [],
   "source": [
    "hash_table = vector(mode = \"list\", length = 5)"
   ]
  },
  {
   "cell_type": "markdown",
   "metadata": {},
   "source": [
    "Now, let's add an element"
   ]
  },
  {
   "cell_type": "code",
   "execution_count": null,
   "metadata": {},
   "outputs": [],
   "source": [
    "##Note this operates on hash_table outside of the function\n",
    "add_pair = function(key, value, hash_table){\n",
    "    n = length(hash_table)\n",
    "    new_entry = list(c(key, value))\n",
    "    hash_value = hash(key, n)\n",
    "    hash_entry = hash_table[[hash_value]]\n",
    "    if (is.null(hash_entry)){\n",
    "        hash_table[[hash_value]] = new_entry\n",
    "    }\n",
    "    else {\n",
    "        hash_table[[hash_value]] = c(hash_entry, new_entry)\n",
    "    }\n",
    "    return(hash_table)\n",
    "}\n",
    "hash_table = add_pair(\"Bruce\", \"From individuals to populations\", hash_table)\n",
    "hash_table = add_pair(\"Bruce2\", \"From individuals to populations2\", hash_table)\n",
    "hash_table = add_pair(\"Haley\", \"Statistical methods\", hash_table)\n",
    "hash_table\n",
    "```\n",
    "\n",
    "A nefarious character named `Bruce2` submitted an incremental thesis. But, alas, must go into the hash table. The keys `Bruce` and `Bruce2` result in collisions from our hash function, keys that have the same hash value. We're adopting a collision strategy where we just add collision keys in turn. We should also write some code that prevents us from adding the same exact key twice. As it stands we could add Bruce twice when keys need to be unique.\n",
    "\n",
    "Let's write a retrieval function. It needs to find the appropriate hash value, then search within that list for the appropriate key.\n"
   ]
  },
  {
   "cell_type": "markdown",
   "metadata": {},
   "source": [
    "A nefarious character named `Bruce2` submitted an incremental thesis. But, alas, must go into the hash table. The keys `Bruce` and `Bruce2` result in collisions from our hash function, keys that have the same hash value. We're adopting a collision strategy where we just add collision keys in turn. We should also write some code that prevents us from adding the same exact key twice. As it stands we could add Bruce twice when keys need to be unique.\n",
    "\n",
    "Let's write a retrieval function. It needs to find the appropriate hash value, then search within that list for the appropriate key.\n"
   ]
  },
  {
   "cell_type": "code",
   "execution_count": null,
   "metadata": {},
   "outputs": [],
   "source": [
    "retrieve = function(key, hash_table){\n",
    "    n = length(hash_table)\n",
    "    hash_value = hash(key, n)\n",
    "    hash_entry = hash_table[[hash_value]]\n",
    "    ## If there's nothing there return null\n",
    "    if (is.null(hash_entry)){\n",
    "        return(NULL)\n",
    "    }\n",
    "    else {\n",
    "        keys = sapply(hash_entry, function(x) x[1])\n",
    "        key_test = key == keys\n",
    "        if (any(key_test)){\n",
    "            key_index = which(key_test) \n",
    "            return(hash_entry[[key_index]][2])\n",
    "        }\n",
    "        ## If the key isn't there return null\n",
    "        else return(NULL)\n",
    "    }\n",
    "}\n",
    "retrieve(\"Bruce\", hash_table)\n",
    "retrieve(\"Bruce2\", hash_table)\n",
    "retrieve(\"bruce\", hash_table)\n"
   ]
  }
 ],
 "metadata": {
  "kernelspec": {
   "display_name": "Python 3.10.4 ('ds4bio')",
   "language": "python",
   "name": "python3"
  },
  "language_info": {
   "name": "python",
   "version": "3.10.4"
  },
  "orig_nbformat": 4,
  "vscode": {
   "interpreter": {
    "hash": "79f87720972903b6188d40b03afb0115543bf63f5f0af29aadb196967754f61a"
   }
  }
 },
 "nbformat": 4,
 "nbformat_minor": 2
}
