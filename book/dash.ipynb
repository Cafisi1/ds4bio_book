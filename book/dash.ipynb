{
 "cells": [
  {
   "cell_type": "markdown",
   "id": "dd5de001-05cb-4ca8-a17a-7a23dbadc0d2",
   "metadata": {},
   "source": [
    "# Dash\n",
    "\n",
    "Dash is a framework for developing dashboards and creating web based data apps in R, python or Julia. Dash is more popular among the python focused, while shiny, a related platform, is more popular among R focused, but also applies much more broadly than just for R apps.\n",
    "\n",
    "Because we're focusing on python as our base language, we'll focus on dash. There's a wonderful set of tutorials [here](https://dash.plotly.com/introduction). Follow the instructions there on installation. We'll build a simple app here building on that tutorial. Let's take the first plotly example and use one of our examples.\n",
    "\n",
    "\n"
   ]
  },
  {
   "cell_type": "markdown",
   "id": "0057baf8-d288-48ba-baae-7f58b75ea88c",
   "metadata": {},
   "source": [
    "Put this code below in a file, say dashApp.py (in the github repo it's in `assetts/dash`), then run it with `python dashApp.py`. If all has gone well, your app should be running locally at `http://127.0.0.1:8050/` (so visit that site in a browser). \n",
    "\n",
    "\n",
    "\n",
    "\n",
    "```{note}\n",
    "import dash\n",
    "import dash_core_components as dcc\n",
    "import dash_html_components as html\n",
    "import plotly.express as px\n",
    "import pandas as pd\n",
    "import numpy as np\n",
    "\n",
    "## Define the app\n",
    "app = dash.Dash(__name__)\n",
    "\n",
    "## Read in our data\n",
    "dat = pd.read_csv(\"PATH TO THE DATA/kirby21.csv\").drop(['Unnamed: 0'], axis = 1)\n",
    "dat = dat.assign(id_char = \"id_\"+dat.id.astype(str))\n",
    "fig = px.bar(dat, x = \"id_char\", y = \"volume\", color = \"roi\")\n",
    "\n",
    "app.layout = html.Div(children=[\n",
    "    html.H1(children='Subject level compositional data'),\n",
    "    dcc.Graph(\n",
    "        id = 'graph',\n",
    "        figure = fig\n",
    "    )\n",
    "])\n",
    "\n",
    "if __name__ == '__main__':\n",
    "    app.run_server(debug=True)\n",
    "```\n",
    "\n",
    "The resulting website looks like this for me:\n",
    "\n",
    "![Grahpic](assetts/dashExample.png)"
   ]
  }
 ],
 "metadata": {
  "kernelspec": {
   "display_name": "Python 3 (ipykernel)",
   "language": "python",
   "name": "python3"
  },
  "language_info": {
   "codemirror_mode": {
    "name": "ipython",
    "version": 3
   },
   "file_extension": ".py",
   "mimetype": "text/x-python",
   "name": "python",
   "nbconvert_exporter": "python",
   "pygments_lexer": "ipython3",
   "version": "3.9.7"
  }
 },
 "nbformat": 4,
 "nbformat_minor": 5
}
