{
 "cells": [
  {
   "cell_type": "markdown",
   "id": "f6439a25-d257-4a01-91d2-21c7eee0fe26",
   "metadata": {},
   "source": [
    "[![Binder](https://mybinder.org/badge_logo.svg)](https://mybinder.org/v2/gh/smart-stats/ds4bio_book/HEAD)\n",
    "\n",
    "# R from python \n",
    "\n",
    "Python has an R api called `Rpy2`. You can install it with `conda install rpy2` or `pip install rpy2`. We'll just cover some really basic examples. "
   ]
  },
  {
   "cell_type": "code",
   "execution_count": 1,
   "id": "9ac4df7a-41d7-4cc9-b482-42947ee4ec37",
   "metadata": {},
   "outputs": [],
   "source": [
    "import rpy2\n",
    "import rpy2.rinterface as ri\n",
    "import rpy2.robjects as ro\n",
    "from rpy2.robjects.packages import importr\n",
    "\n",
    "#ri.initr()"
   ]
  },
  {
   "cell_type": "markdown",
   "id": "b4e42eda-e624-4bb2-be75-09f4548a6a06",
   "metadata": {},
   "source": [
    "The robjects sub-library contains the simplest variation of the interface. Here's an example of executing R code in a python session."
   ]
  },
  {
   "cell_type": "code",
   "execution_count": 2,
   "id": "c5703895-538f-4892-b474-2b508c60e60f",
   "metadata": {},
   "outputs": [
    {
     "name": "stdout",
     "output_type": "stream",
     "text": [
      "     [,1] [,2]\n",
      "[1,]   12   22\n",
      "[2,]   14   24\n",
      "[3,]   16   26\n",
      "[4,]   18   28\n",
      "[5,]   20   30\n",
      "\n"
     ]
    }
   ],
   "source": [
    "z = ro.r('''\n",
    "     x = matrix(1 : 10, 5, 2)\n",
    "     y = matrix(11 : 20, 5, 2)\n",
    "     x + y;\n",
    "     ''')\n",
    "print(z)"
   ]
  },
  {
   "cell_type": "markdown",
   "id": "eec892aa-310f-46d7-b1dc-943bb95937e0",
   "metadata": {},
   "source": [
    "You can then operate on this matrix in python. Here's an example where we import the plotting library and use it."
   ]
  },
  {
   "cell_type": "code",
   "execution_count": 16,
   "id": "81a11c9d-3918-47fc-8594-ab664a044c2e",
   "metadata": {},
   "outputs": [
    {
     "data": {
      "text/html": [
       "\n",
       "        <span>FloatVector with 5 elements.</span>\n",
       "        <table>\n",
       "        <tbody>\n",
       "          <tr>\n",
       "          \n",
       "            <td>\n",
       "            34.000000\n",
       "            </td>\n",
       "          \n",
       "            <td>\n",
       "            38.000000\n",
       "            </td>\n",
       "          \n",
       "            <td>\n",
       "            42.000000\n",
       "            </td>\n",
       "          \n",
       "            <td>\n",
       "            46.000000\n",
       "            </td>\n",
       "          \n",
       "            <td>\n",
       "            50.000000\n",
       "            </td>\n",
       "          \n",
       "          </tr>\n",
       "        </tbody>\n",
       "        </table>\n",
       "        "
      ],
      "text/plain": [
       "<rpy2.robjects.vectors.FloatVector object at 0x7ea2bc470940> [RTYPES.REALSXP]\n",
       "R classes: ('numeric',)\n",
       "[34.000000, 38.000000, 42.000000, 46.000000, 50.000000]"
      ]
     },
     "execution_count": 16,
     "metadata": {},
     "output_type": "execute_result"
    }
   ],
   "source": [
    "base = ro.packages.importr('base')\n",
    "base.rowSums(z)"
   ]
  },
  {
   "cell_type": "markdown",
   "id": "2d4e7c16-0bd9-4f86-bb17-f87dbe65a36a",
   "metadata": {},
   "source": [
    "Here's an example of defining a function in R and using it in python."
   ]
  },
  {
   "cell_type": "code",
   "execution_count": 5,
   "id": "ae1c7366-2c09-448a-a081-fcd1424734ed",
   "metadata": {},
   "outputs": [
    {
     "data": {
      "text/html": [
       "\n",
       "        <span>FloatVector with 1 elements.</span>\n",
       "        <table>\n",
       "        <tbody>\n",
       "          <tr>\n",
       "          \n",
       "            <td>\n",
       "            0.867301\n",
       "            </td>\n",
       "          \n",
       "          </tr>\n",
       "        </tbody>\n",
       "        </table>\n",
       "        "
      ],
      "text/plain": [
       "<rpy2.robjects.vectors.FloatVector object at 0x7ea2fc137240> [RTYPES.REALSXP]\n",
       "R classes: ('numeric',)\n",
       "[0.867301]"
      ]
     },
     "execution_count": 5,
     "metadata": {},
     "output_type": "execute_result"
    }
   ],
   "source": [
    "fishersz = ro.r('function(r) .5 * log((1 + r) / (1 - r))')\n",
    "fishersz(.7)"
   ]
  }
 ],
 "metadata": {
  "kernelspec": {
   "display_name": "Python 3 (ipykernel)",
   "language": "python",
   "name": "python3"
  },
  "language_info": {
   "codemirror_mode": {
    "name": "ipython",
    "version": 3
   },
   "file_extension": ".py",
   "mimetype": "text/x-python",
   "name": "python",
   "nbconvert_exporter": "python",
   "pygments_lexer": "ipython3",
   "version": "3.9.7"
  }
 },
 "nbformat": 4,
 "nbformat_minor": 5
}
