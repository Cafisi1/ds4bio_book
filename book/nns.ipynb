{
 "cells": [
  {
   "cell_type": "markdown",
   "id": "e02bd2f5-b780-47cf-b231-954a981d6472",
   "metadata": {},
   "source": [
    "# Neural networks\n",
    "\n",
    "## Basics\n",
    "Let's start by relating neural networks to regression. Consider a simple case where we have two nodes, $1$ and $X$ pointing to an outcome $Y$. What does this mean? Let's first put some context around the problem. Imagine that we want to use a subject's BMI $X$ to predict their blood pressure, $Y$. This diagram represents that."
   ]
  },
  {
   "cell_type": "code",
   "execution_count": 41,
   "id": "bab16458-0143-479f-96bc-e6bd32353392",
   "metadata": {
    "tags": [
     "hide-input"
    ]
   },
   "outputs": [
    {
     "data": {
      "image/png": "[encoded data removed]",
      "text/plain": [
       "<Figure size 144x144 with 1 Axes>"
      ]
     },
     "metadata": {},
     "output_type": "display_data"
    }
   ],
   "source": [
    "import networkx as nx\n",
    "import matplotlib.pyplot as plt\n",
    "import numpy as np\n",
    "\n",
    "plt.figure(figsize=[2, 2])\n",
    "#G = nx.Graph()\n",
    "G = nx.DiGraph()\n",
    "\n",
    "G.add_node(\"1\", pos = (0, 1) )\n",
    "G.add_node(\"X\", pos = (1, 1) )\n",
    "G.add_node(\"Y\", pos = (.5, 0))\n",
    "G.add_edge(\"1\", \"Y\")\n",
    "G.add_edge(\"X\", \"Y\")\n",
    "nx.draw(G, \n",
    "        nx.get_node_attributes(G, 'pos'), \n",
    "        with_labels=True, \n",
    "        font_weight='bold', \n",
    "        node_size = 2000,\n",
    "        node_color = \"lightblue\",\n",
    "        linewidths = 3)\n",
    "ax= plt.gca()\n",
    "ax.collections[0].set_edgecolor(\"#000000\")\n",
    "ax.set_xlim([-.3, 1.3])\n",
    "ax.set_ylim([-.3, 1.3])\n",
    "plt.show()"
   ]
  },
  {
   "cell_type": "markdown",
   "id": "222d933d-d518-4c63-92fb-4d01ab6dd78e",
   "metadata": {},
   "source": [
    "To interpret this diagram as a neural network, consider the following rule:\n",
    "\n",
    ":::{note}\n",
    "Parent nodes that point to a child node are multiplied by weights then added together then operated on by an activation function to form the child node.\n",
    ":::\n",
    "\n",
    "If the parent nodes point to the outcome, then the nodes are combined the operated on by a known function, called the **activation function** to form a prediction. So, in this case, this is saying that the intercept (node labeled $1$)times a weight plus BMI (node labeled $X$) times a different weight get combined to form a prediction for SBP $Y$. Or, in other words\n",
    "\n",
    "$$\n",
    "\\hat Y = g(w_0 \\times 1 + w_1 \\times X)\n",
    "$$\n",
    "\n",
    "where $g$ is a function that we specify. So in this case, if $w_0 = 120$, $w_1 = .1$ and $g$ is an idenity function, $g(a) = a$, and a subject had a BMI of 30, then the prediction would be \n",
    "\n",
    "$$\n",
    "\\hat Y = g(120 + .1 * 30) = 120.3\n",
    "$$\n",
    "\n",
    "Note $g$ is not shown in the diagram (though maybe you could with the shape of the child node) or something like that0. Also not shown in the daigram is:\n",
    "\n",
    "+ The loss function, i.e. how to measure the different between $\\hat Y$ and $Y$.\n",
    "+ The way the loss function combines subjects; we have multiple BMIs and SBPs\n",
    "+ How we obtain the weights, $W_0$ and $W_1$; this is done by minmizing the loss function using an algorithm\n",
    "\n",
    "So, imagine the case where $g$ is an identity function, our loss function for different subjects is squared error and we combine different losses by adding them up. Then, our weights are obtained by minmizing\n",
    "\n",
    "$$\n",
    "\\sum_{i=1}^N (Y_i - \\hat Y_i)^2 \n",
    "$$\n",
    "\n",
    "and so, presuming our optimization algorithm works well, it should be idential to linear regression. \n",
    "\n",
    "Consider a different setting. Imagine if our $Y$ is 0 or 1 based on whether or not the subject is taking anti-hypertensive mediations. Further, let $g$ be the sigmoid function, $g(a) = 1 / \\{1 + \\exp(-a)\\}$. Our prediction is\n",
    "\n",
    "$$\n",
    "\\hat Y = \\{1 + \\exp(-W_0 - W_1 X)\\}^{-1}\n",
    "$$\n",
    "\n",
    "which is the logistic regression prediction with intercept $W_0$ and slope $W_1$. Consider a case where\n",
    "$W_0 = -4$, $W_1 = .1$ and $X=30$, then our $\\hat Y = 1 / \\{1 + \\exp[-(-4 + .1\\times 30)\\}]\\approx .27$. Thus, this model estimates a 27% probability that a subject with a BMI of 30 has hypertension.\n",
    "\n",
    "Further, if we specify that the loss function is binary cross entropy\n",
    "\n",
    "$$\n",
    "- \\sum_{i=1}^n \\{ Y_i \\log(\\hat Y_i) + (1 - Y_i) \\log(1 - \\hat Y_i)\\} / N\n",
    "$$\n",
    "\n",
    "then minmizing our loss function is identical to maximizing the likelihood for logistic regression. "
   ]
  },
  {
   "cell_type": "code",
   "execution_count": 27,
   "id": "fa2fed7a-baa3-4152-b3ae-e09c1cb7e5c4",
   "metadata": {},
   "outputs": [
    {
     "data": {
      "text/plain": [
       "0.2689414213699951"
      ]
     },
     "execution_count": 27,
     "metadata": {},
     "output_type": "execute_result"
    }
   ],
   "source": [
    "1 / (1 + np.exp(-(-4 + .1 * 30)))"
   ]
  },
  {
   "cell_type": "markdown",
   "id": "d7c4279f-59fc-4b57-b2d4-bd29b3692289",
   "metadata": {},
   "source": [
    "## More layers\n",
    "\n",
    "Of course, there'd be no point in using NNs for problems that we can just solve with generalized linear models. NNs get better when we add more layers, since then they can discover interactions and non-linearities. Consider the following model. Notice we quit explicitly adding the bias (intercept) term / node. In general assume the bias term is included unless otherwise specified."
   ]
  },
  {
   "cell_type": "code",
   "execution_count": 40,
   "id": "77f04c97-3a64-4c1e-98b6-05cdf7ebd9f0",
   "metadata": {
    "tags": [
     "hide-input"
    ]
   },
   "outputs": [
    {
     "data": {
      "image/png": "[encoded data removed]",
      "text/plain": [
       "<Figure size 432x288 with 1 Axes>"
      ]
     },
     "metadata": {},
     "output_type": "display_data"
    }
   ],
   "source": [
    "#plt.figure(figsize=[2, 2])\n",
    "G = nx.DiGraph()\n",
    "\n",
    "G.add_node(\"X1\",  pos = (0, 3) )\n",
    "G.add_node(\"X2\",  pos = (1, 3) )\n",
    "G.add_node(\"H11\", pos = (0, 2) )\n",
    "G.add_node(\"H12\", pos = (1, 2) )\n",
    "G.add_node(\"H21\", pos = (0, 1) )\n",
    "G.add_node(\"H22\", pos = (1, 1) )\n",
    "G.add_node(\"Y\", pos = (.5, 0))\n",
    "G.add_edges_from([ (\"X1\", \"H11\"),  (\"X1\", \"H12\"),  (\"X2\", \"H11\"),  (\"X2\", \"H12\")])\n",
    "G.add_edges_from([(\"H11\", \"H21\"), (\"H11\", \"H22\"), (\"H12\", \"H21\"), (\"H12\", \"H22\")])\n",
    "G.add_edges_from([(\"H21\", \"Y\"), (\"H22\", \"Y\")])\n",
    "nx.draw(G, \n",
    "        nx.get_node_attributes(G, 'pos'), \n",
    "        with_labels=True, \n",
    "        font_weight='bold', \n",
    "        node_size = 2000,\n",
    "        node_color = \"lightblue\",\n",
    "        linewidths = 3)\n",
    "ax= plt.gca()\n",
    "ax.collections[0].set_edgecolor(\"#000000\")\n",
    "ax.set_xlim([-.3, 3.3])\n",
    "ax.set_ylim([-.3, 3.3])\n",
    "plt.show()"
   ]
  },
  {
   "cell_type": "markdown",
   "id": "f6ca8ef1-cb07-442b-b0da-f4480e6d76a4",
   "metadata": {},
   "source": [
    "Usually, the nodes are added in so called layers. $(X_1, X_2)$ is the input layer, $(H_{11}, H_{12})$ is the first hidden layer, $(H_{21}, H_{22})$ is the second hidden layer and $Y$ is the output layer. Imagine plugging an $X_1$ and $X_2$ into this network. It would feed forward through the network as\n",
    "\n",
    "$$\n",
    "\\begin{align}\n",
    "H_{11} = & g_1(W_{011} + W_{111} X_1 + W_{211} X_2) \\\\\n",
    "H_{12} = & g_1(W_{012} + W_{112} X_1 + W_{212} X_2) \\\\\n",
    "H_{21} = & g_2(W_{021} + W_{121} H_{11} + W_{221} H_{12}) \\\\\n",
    "H_{22} = & g_2(W_{022} + W_{122} H_{12} + W_{222} H_{12}) \\\\\n",
    "\\hat Y = & g_3(W_{031} + W_{131} H_{21} + W_{231} H_{22})\n",
    "\\end{align}\n",
    "$$\n",
    "\n",
    "where $g_k$ are specified activation functions. Typically, we would have a different activation function for the output layer than the others, and the other would have the same activation function. So, for example, if $Y$ was binary, like hypertension diagnosis, then $g_1=g_2$ and $g_3$ would be a sigmoid."
   ]
  }
 ],
 "metadata": {
  "kernelspec": {
   "display_name": "Python 3 (ipykernel)",
   "language": "python",
   "name": "python3"
  },
  "language_info": {
   "codemirror_mode": {
    "name": "ipython",
    "version": 3
   },
   "file_extension": ".py",
   "mimetype": "text/x-python",
   "name": "python",
   "nbconvert_exporter": "python",
   "pygments_lexer": "ipython3",
   "version": "3.9.7"
  }
 },
 "nbformat": 4,
 "nbformat_minor": 5
}
