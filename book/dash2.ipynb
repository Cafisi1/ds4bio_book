{
 "cells": [
  {
   "cell_type": "markdown",
   "id": "dd5de001-05cb-4ca8-a17a-7a23dbadc0d2",
   "metadata": {},
   "source": [
    "# Dash callbacks\n",
    "\n",
    "Our previous dash application wasn't that impressive. We'd like to take user input and modify our page. TO do this, we need callbacks. In this example, we create a dropdown menu that selects which graph we're going to show.\n",
    "\n"
   ]
  },
  {
   "cell_type": "markdown",
   "id": "0057baf8-d288-48ba-baae-7f58b75ea88c",
   "metadata": {},
   "source": [
    "\n",
    "```\n",
    "from dash import Dash, dcc, html, Input, Output\n",
    "import plotly.express as px\n",
    "import pandas as pd\n",
    "\n",
    "\n",
    "dat = pd.read_csv('kirby21AllLevels.csv')\n",
    "dat = dat.loc[dat['type'] == 1].groupby([\"roi\", \"level\"])['volume'].mean().reset_index()\n",
    "\n",
    "app = Dash(__name__)\n",
    "\n",
    "app.layout = html.Div([\n",
    "    dcc.Dropdown(options = [\n",
    "            {'label' : '1', 'value' : 1},\n",
    "            {'label' : '2', 'value' : 2},\n",
    "            {'label' : '3', 'value' : 3},\n",
    "            {'label' : '2', 'value' : 4},\n",
    "            {'label' : '2', 'value' : 5}\n",
    "        ],\n",
    "        value = 1, id = 'input-level'\n",
    "                ),\n",
    "    dcc.Graph(id = 'output-graph')\n",
    "])\n",
    "\n",
    "\n",
    "@app.callback(\n",
    "    Output('output-graph', 'figure'),\n",
    "    Input('input-level', 'value'))\n",
    "def update_figure(selected_level):\n",
    "    subdat = dat.loc[dat['level'] == int(selected_level)].sort_values(by = ['volume'])\n",
    "    fig = px.bar(subdat, x='roi', y='volume')\n",
    "    return fig\n",
    "\n",
    "if __name__ == '__main__':\n",
    "    app.run_server(debug=True, host = '127.0.0.1')\n",
    "```\n",
    "\n",
    "The result looks like the followingm, where you can see the dropdown selection.\n",
    "\n",
    "![Grahpic](assetts/dashExample2.png)\n"
   ]
  }
 ],
 "metadata": {
  "kernelspec": {
   "display_name": "Python 3 (ipykernel)",
   "language": "python",
   "name": "python3"
  },
  "language_info": {
   "codemirror_mode": {
    "name": "ipython",
    "version": 3
   },
   "file_extension": ".py",
   "mimetype": "text/x-python",
   "name": "python",
   "nbconvert_exporter": "python",
   "pygments_lexer": "ipython3",
   "version": "3.9.7"
  }
 },
 "nbformat": 4,
 "nbformat_minor": 5
}
