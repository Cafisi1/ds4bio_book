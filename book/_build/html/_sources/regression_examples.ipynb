{
  "nbformat": 4,
  "nbformat_minor": 2,
  "metadata": {
    "colab": {
      "name": "regression_examples",
      "provenance": [],
      "authorship_tag": "ABX9TyPD6YfE7eh7Lu8TLxXjNkFR",
      "include_colab_link": true
    },
    "kernelspec": {
      "name": "python3",
      "display_name": "Python 3"
    }
  },
  "cells": [
    {
      "cell_type": "markdown",
      "source": [
        "<a href=\"https://colab.research.google.com/github/smart-stats/ds4bio_book/blob/main/book/regression_examples.ipynb\" target=\"_parent\"><img src=\"https://colab.research.google.com/assets/colab-badge.svg\" alt=\"Open In Colab\"/></a>"
      ],
      "metadata": {
        "id": "view-in-github",
        "colab_type": "text"
      }
    },
    {
      "cell_type": "markdown",
      "source": [
        "# Linear models: a classic example"
      ],
      "metadata": {}
    },
    {
      "cell_type": "code",
      "execution_count": 43,
      "source": [
        "import pandas as pd\n",
        "import numpy as np\n",
        "from sklearn.linear_model import LinearRegression\n",
        "import matplotlib.pyplot as plt\n"
      ],
      "outputs": [],
      "metadata": {
        "id": "oIimJROu2Hc_",
        "colab_type": "code",
        "colab": {}
      }
    },
    {
      "cell_type": "code",
      "execution_count": 45,
      "source": [
        "dat = pd.read_csv(\"https://raw.githubusercontent.com/bcaffo/ds4bme_intro/master/data/swiss.csv\")\n",
        "dat.head()\n"
      ],
      "outputs": [
        {
          "output_type": "execute_result",
          "data": {
            "text/html": [
              "<div>\n",
              "<style scoped>\n",
              "    .dataframe tbody tr th:only-of-type {\n",
              "        vertical-align: middle;\n",
              "    }\n",
              "\n",
              "    .dataframe tbody tr th {\n",
              "        vertical-align: top;\n",
              "    }\n",
              "\n",
              "    .dataframe thead th {\n",
              "        text-align: right;\n",
              "    }\n",
              "</style>\n",
              "<table border=\"1\" class=\"dataframe\">\n",
              "  <thead>\n",
              "    <tr style=\"text-align: right;\">\n",
              "      <th></th>\n",
              "      <th>Region</th>\n",
              "      <th>Fertility</th>\n",
              "      <th>Agriculture</th>\n",
              "      <th>Examination</th>\n",
              "      <th>Education</th>\n",
              "      <th>Catholic</th>\n",
              "      <th>Infant.Mortality</th>\n",
              "    </tr>\n",
              "  </thead>\n",
              "  <tbody>\n",
              "    <tr>\n",
              "      <th>0</th>\n",
              "      <td>Courtelary</td>\n",
              "      <td>80.2</td>\n",
              "      <td>17.0</td>\n",
              "      <td>15</td>\n",
              "      <td>12</td>\n",
              "      <td>9.96</td>\n",
              "      <td>22.2</td>\n",
              "    </tr>\n",
              "    <tr>\n",
              "      <th>1</th>\n",
              "      <td>Delemont</td>\n",
              "      <td>83.1</td>\n",
              "      <td>45.1</td>\n",
              "      <td>6</td>\n",
              "      <td>9</td>\n",
              "      <td>84.84</td>\n",
              "      <td>22.2</td>\n",
              "    </tr>\n",
              "    <tr>\n",
              "      <th>2</th>\n",
              "      <td>Franches-Mnt</td>\n",
              "      <td>92.5</td>\n",
              "      <td>39.7</td>\n",
              "      <td>5</td>\n",
              "      <td>5</td>\n",
              "      <td>93.40</td>\n",
              "      <td>20.2</td>\n",
              "    </tr>\n",
              "    <tr>\n",
              "      <th>3</th>\n",
              "      <td>Moutier</td>\n",
              "      <td>85.8</td>\n",
              "      <td>36.5</td>\n",
              "      <td>12</td>\n",
              "      <td>7</td>\n",
              "      <td>33.77</td>\n",
              "      <td>20.3</td>\n",
              "    </tr>\n",
              "    <tr>\n",
              "      <th>4</th>\n",
              "      <td>Neuveville</td>\n",
              "      <td>76.9</td>\n",
              "      <td>43.5</td>\n",
              "      <td>17</td>\n",
              "      <td>15</td>\n",
              "      <td>5.16</td>\n",
              "      <td>20.6</td>\n",
              "    </tr>\n",
              "  </tbody>\n",
              "</table>\n",
              "</div>"
            ],
            "text/plain": [
              "         Region  Fertility  Agriculture  ...  Education  Catholic  Infant.Mortality\n",
              "0    Courtelary       80.2         17.0  ...         12      9.96              22.2\n",
              "1      Delemont       83.1         45.1  ...          9     84.84              22.2\n",
              "2  Franches-Mnt       92.5         39.7  ...          5     93.40              20.2\n",
              "3       Moutier       85.8         36.5  ...          7     33.77              20.3\n",
              "4    Neuveville       76.9         43.5  ...         15      5.16              20.6\n",
              "\n",
              "[5 rows x 7 columns]"
            ]
          },
          "metadata": {
            "tags": []
          },
          "execution_count": 45
        }
      ],
      "metadata": {
        "id": "vsVJc6lS2Qov",
        "colab_type": "code",
        "colab": {
          "base_uri": "https://localhost:8080/",
          "height": 201
        },
        "outputId": "fc0b2fe3-eccd-4f2a-819f-084bc8e2602d"
      }
    },
    {
      "cell_type": "code",
      "execution_count": 49,
      "source": [
        "y = dat.Fertility\n",
        "x = dat.drop(['Region', 'Fertility'], axis=1)\n",
        "fit = LinearRegression().fit(x, y)\n",
        "yhat = fit.predict(x)\n",
        "[fit.intercept_, fit.coef_]\n"
      ],
      "outputs": [
        {
          "output_type": "execute_result",
          "data": {
            "text/plain": [
              "[66.91518167896871,\n",
              " array([-0.17211397, -0.25800824, -0.87094006,  0.10411533,  1.07704814])]"
            ]
          },
          "metadata": {
            "tags": []
          },
          "execution_count": 49
        }
      ],
      "metadata": {
        "id": "T34j2o8u2cH_",
        "colab_type": "code",
        "colab": {
          "base_uri": "https://localhost:8080/",
          "height": 54
        },
        "outputId": "61309a3a-8ff6-489d-9dfd-c1ea40be99d8"
      }
    },
    {
      "cell_type": "code",
      "execution_count": 50,
      "source": [
        "x2 = x\n",
        "x2['Test'] = x2.Agriculture + x2.Examination\n",
        "fit2 = LinearRegression().fit(x2, y)\n",
        "yhat2 = fit2.predict(x2)"
      ],
      "outputs": [],
      "metadata": {
        "id": "Dwova9_d5BKe",
        "colab_type": "code",
        "colab": {}
      }
    },
    {
      "cell_type": "code",
      "execution_count": 51,
      "source": [
        "plt.plot(yhat, yhat2)"
      ],
      "outputs": [
        {
          "output_type": "execute_result",
          "data": {
            "text/plain": [
              "[<matplotlib.lines.Line2D at 0x7f908ad145f8>]"
            ]
          },
          "metadata": {
            "tags": []
          },
          "execution_count": 51
        },
        {
          "output_type": "display_data",
          "data": {
            "image/png": "[encoded data removed]",
            "text/plain": [
              "<Figure size 432x288 with 1 Axes>"
            ]
          },
          "metadata": {
            "tags": [],
            "needs_background": "light"
          }
        }
      ],
      "metadata": {
        "id": "RAIz1jJs6YFg",
        "colab_type": "code",
        "colab": {
          "base_uri": "https://localhost:8080/",
          "height": 283
        },
        "outputId": "de9beb6e-d3e6-4033-eba9-27689bac6ff4"
      }
    },
    {
      "cell_type": "code",
      "execution_count": 53,
      "source": [
        "x3 = x2.drop(['Agriculture'], axis = 1)\n",
        "fit3 = LinearRegression().fit(x3, y)\n",
        "yhat3 = fit3.predict(x3)\n",
        "plt.plot(yhat, yhat3)\n"
      ],
      "outputs": [
        {
          "output_type": "execute_result",
          "data": {
            "text/plain": [
              "[<matplotlib.lines.Line2D at 0x7f908ac51128>]"
            ]
          },
          "metadata": {
            "tags": []
          },
          "execution_count": 53
        },
        {
          "output_type": "display_data",
          "data": {
            "image/png": "[encoded data removed]",
            "text/plain": [
              "<Figure size 432x288 with 1 Axes>"
            ]
          },
          "metadata": {
            "tags": [],
            "needs_background": "light"
          }
        }
      ],
      "metadata": {
        "id": "626Z0Ql66qWx",
        "colab_type": "code",
        "colab": {
          "base_uri": "https://localhost:8080/",
          "height": 283
        },
        "outputId": "12617691-af4e-47d3-d080-10223101ec81"
      }
    }
  ]
}