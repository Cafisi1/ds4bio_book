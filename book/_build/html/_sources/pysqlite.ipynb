{
 "cells": [
  {
   "cell_type": "markdown",
   "id": "96549bb7-9943-4c04-97ab-bdee8d493bd6",
   "metadata": {},
   "source": [
    "[![Binder](https://mybinder.org/badge_logo.svg)](https://mybinder.org/v2/gh/smart-stats/ds4bio_book/HEAD)\n",
    "\n",
    "# sqlite in python\n",
    "\n",
    "An sqlite3 library ships with python. In this tutorial, we'll discuss how to utilize this library and read sqlite tables into pandas. With this, you can generalize to other python APIs to other databases. First, let's continue on with our work from the previous notebook. A nice little tutorial can be found [here](https://datacarpentry.org/python-ecology-lesson/09-working-with-sql/index.html). "
   ]
  },
  {
   "cell_type": "code",
   "execution_count": 8,
   "id": "6dc9eb71-e4eb-4a7e-8c78-11d8bc266353",
   "metadata": {},
   "outputs": [
    {
     "data": {
      "text/plain": [
       "<function Connection.close>"
      ]
     },
     "execution_count": 8,
     "metadata": {},
     "output_type": "execute_result"
    }
   ],
   "source": [
    "import sqlite3 as sq3\n",
    "import pandas as pd\n",
    "\n",
    "con = sq3.connect(\"sql/opioid.db\")\n",
    "# cursor() creates an object that can execute functions in the sqlite cursor\n",
    "\n",
    "sql = con.cursor()\n",
    "\n",
    "for row in sql.execute(\"select * from county_info limit 5;\"):\n",
    "    print(row)\n",
    "\n",
    "    \n",
    "# you have to close the connection\n",
    "con.close"
   ]
  },
  {
   "cell_type": "markdown",
   "id": "ae5fc83a-3440-42f4-a938-ecff8f43988e",
   "metadata": {},
   "source": [
    "Let's read this dataset into pandas."
   ]
  },
  {
   "cell_type": "code",
   "execution_count": 13,
   "id": "b54a4a17-8dc6-421e-80e7-08f39893e28a",
   "metadata": {},
   "outputs": [
    {
     "data": {
      "text/plain": [
       "<bound method NDFrame.head of                BUYER_COUNTY BUYER_STATE countyfips STATE COUNTY  \\\n",
       "0          1        AUTAUGA          AL      01001     1      1   \n",
       "1          2        BALDWIN          AL      01003     1      3   \n",
       "2          3        BARBOUR          AL      01005     1      5   \n",
       "3          4           BIBB          AL      01007     1      7   \n",
       "4          5         BLOUNT          AL      01009     1      9   \n",
       "...      ...            ...         ...        ...   ...    ...   \n",
       "28260  28261       WASHAKIE          WY      56043    56     43   \n",
       "28261  28262         WESTON          WY      56045    56     45   \n",
       "28262  28263        SKAGWAY          AK      02230     2    230   \n",
       "28263  28264  HOONAH ANGOON          AK      02105     2    105   \n",
       "28264  28265     PETERSBURG          AK      02195     2    195   \n",
       "\n",
       "         county_name                               NAME    variable  year  \\\n",
       "0            Autauga            Autauga County, Alabama  B01003_001  2006   \n",
       "1            Baldwin            Baldwin County, Alabama  B01003_001  2006   \n",
       "2            Barbour            Barbour County, Alabama  B01003_001  2006   \n",
       "3               Bibb               Bibb County, Alabama  B01003_001  2006   \n",
       "4             Blount             Blount County, Alabama  B01003_001  2006   \n",
       "...              ...                                ...         ...   ...   \n",
       "28260       Washakie           Washakie County, Wyoming  B01003_001  2014   \n",
       "28261         Weston             Weston County, Wyoming  B01003_001  2014   \n",
       "28262        Skagway       Skagway Municipality, Alaska  B01003_001  2014   \n",
       "28263  Hoonah Angoon  Hoonah-Angoon Census Area, Alaska  B01003_001  2014   \n",
       "28264     Petersburg         Petersburg Borough, Alaska  B01003_001  2014   \n",
       "\n",
       "      population           Areaname LND110210D  \n",
       "0          51328        Autauga, AL     594.44  \n",
       "1         168121        Baldwin, AL    1589.78  \n",
       "2          27861        Barbour, AL     884.88  \n",
       "3          22099           Bibb, AL     622.58  \n",
       "4          55485         Blount, AL     644.78  \n",
       "...          ...                ...        ...  \n",
       "28260       8444       Washakie, WY    2238.55  \n",
       "28261       7135         Weston, WY    2398.09  \n",
       "28262        996        Skagway, AK     452.33  \n",
       "28263       2126  Hoonah-Angoon, AK    7524.92  \n",
       "28264       3212     Petersburg, AK    3281.98  \n",
       "\n",
       "[28265 rows x 13 columns]>"
      ]
     },
     "execution_count": 13,
     "metadata": {},
     "output_type": "execute_result"
    }
   ],
   "source": [
    "con = sq3.connect(\"sql/opioid.db\")\n",
    "\n",
    "county_info = pd.read_sql_query(\"SELECT * from county_info\", con)\n",
    "\n",
    "# you have to close the connection\n",
    "con.close\n",
    "\n",
    "county_info.head"
   ]
  }
 ],
 "metadata": {
  "kernelspec": {
   "display_name": "Python 3 (ipykernel)",
   "language": "python",
   "name": "python3"
  },
  "language_info": {
   "codemirror_mode": {
    "name": "ipython",
    "version": 3
   },
   "file_extension": ".py",
   "mimetype": "text/x-python",
   "name": "python",
   "nbconvert_exporter": "python",
   "pygments_lexer": "ipython3",
   "version": "3.9.7"
  }
 },
 "nbformat": 4,
 "nbformat_minor": 5
}
