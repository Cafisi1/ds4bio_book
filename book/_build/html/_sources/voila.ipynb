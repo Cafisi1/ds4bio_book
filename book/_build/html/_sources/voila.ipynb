{
 "cells": [
  {
   "cell_type": "markdown",
   "id": "640dd3e6-5aac-4b39-b10f-f8e8586b632b",
   "metadata": {},
   "source": [
    "# Jupyterwidgets and voila\n",
    "\n",
    "A very nice client server web app solution is given by jupyter widgets. This is a simplified framework that allows for widgets and sliders embedded into jupyter notebooks. They also work in google colab. Once you have a working notebook, you can host it on a web site if you'd like using a platform called voila. Or, you can just distribute the notebook as a notebook. \n",
    "\n",
    "(Note, it doesn't work with the published version of the book, since the book is simply running on a web server, not a voila server instance. So, we'll just show you screenshots.)\n",
    "\n",
    "You first need to install jupyter widgets  with pip or conda. Then, restart your runtime and you're off to the races. In the next chapter, we'll introduce a more fully featured client server framework called dash. If you just want a simple app, especially if you want to distribute it as a notebook, voila should be your goto. If you need a full web application, then use dash (or one of the other python web frameworks)."
   ]
  },
  {
   "cell_type": "code",
   "execution_count": 2,
   "id": "b5fc2a5e-c6c5-4170-b81c-5c5356cdf122",
   "metadata": {},
   "outputs": [],
   "source": [
    "import ipywidgets as widgets"
   ]
  },
  {
   "cell_type": "markdown",
   "id": "42d06804-71f3-49d7-bee1-434984361926",
   "metadata": {},
   "source": [
    "## Sliders\n",
    "\n",
    "There are integer sliders and float sliders. Let's first figure out integer sliders."
   ]
  },
  {
   "cell_type": "code",
   "execution_count": 3,
   "id": "8111e706-9645-4343-9f9c-a30fd828a316",
   "metadata": {},
   "outputs": [
    {
     "data": {
      "application/vnd.jupyter.widget-view+json": {
       "model_id": "8b675497a8854dbf8d558fbb7af2018a",
       "version_major": 2,
       "version_minor": 0
      },
      "text/plain": [
       "IntSlider(value=0)"
      ]
     },
     "metadata": {},
     "output_type": "display_data"
    },
    {
     "data": {
      "application/vnd.jupyter.widget-view+json": {
       "model_id": "1cd8468f9d0946a79a3f04c2e0bf76e0",
       "version_major": 2,
       "version_minor": 0
      },
      "text/plain": [
       "IntSlider(value=0)"
      ]
     },
     "metadata": {},
     "output_type": "display_data"
    }
   ],
   "source": [
    "\n",
    "a = widgets.IntSlider()\n",
    "b = widgets.IntSlider()\n",
    "\n",
    "display(a)\n",
    "display(b)"
   ]
  },
  {
   "cell_type": "code",
   "execution_count": 4,
   "id": "b6a9c62c-17a4-4300-bf32-5e446c25962e",
   "metadata": {},
   "outputs": [
    {
     "name": "stdout",
     "output_type": "stream",
     "text": [
      "[0, 0]\n"
     ]
    }
   ],
   "source": [
    "print([a.value, b.value])"
   ]
  },
  {
   "cell_type": "code",
   "execution_count": 5,
   "id": "596cb72b-c463-4e3e-b2c6-69184d4d8083",
   "metadata": {},
   "outputs": [
    {
     "data": {
      "application/vnd.jupyter.widget-view+json": {
       "model_id": "64c8afee0301437d91fcd8f2e7af1eed",
       "version_major": 2,
       "version_minor": 0
      },
      "text/plain": [
       "Checkbox(value=False, description='Check me', indent=False)"
      ]
     },
     "metadata": {},
     "output_type": "display_data"
    },
    {
     "data": {
      "application/vnd.jupyter.widget-view+json": {
       "model_id": "3c5dd5bb103b4ff0a16bbb72c1d6815b",
       "version_major": 2,
       "version_minor": 0
      },
      "text/plain": [
       "Checkbox(value=False, description='No check me', indent=False)"
      ]
     },
     "metadata": {},
     "output_type": "display_data"
    }
   ],
   "source": [
    "a1 = widgets.Checkbox(\n",
    "    value=False,\n",
    "    description='Check me',\n",
    "    disabled=False,\n",
    "    indent=False\n",
    ")\n",
    "a2 = widgets.Checkbox(\n",
    "    value=False,\n",
    "    description='No check me',\n",
    "    disabled=False,\n",
    "    indent=False\n",
    ")\n",
    "display(a1)\n",
    "display(a2)\n"
   ]
  },
  {
   "cell_type": "code",
   "execution_count": 6,
   "id": "8dcc073d-f0bf-43f1-ac3c-931697cca6ad",
   "metadata": {},
   "outputs": [
    {
     "name": "stdout",
     "output_type": "stream",
     "text": [
      "[False, False]\n"
     ]
    }
   ],
   "source": [
    "print([a1.value, a2.value])"
   ]
  },
  {
   "cell_type": "markdown",
   "id": "a2c3f0f2-c657-4d96-ad28-1a83d942b680",
   "metadata": {},
   "source": [
    "## Showing real time widget interactions"
   ]
  },
  {
   "cell_type": "code",
   "execution_count": 7,
   "id": "4d57a1d0-1f3a-4f9a-8b5f-f3fbc8653fde",
   "metadata": {},
   "outputs": [
    {
     "data": {
      "application/vnd.jupyter.widget-view+json": {
       "model_id": "1f1873c1219c43b693db9ebd357ce077",
       "version_major": 2,
       "version_minor": 0
      },
      "text/plain": [
       "HBox(children=(VBox(children=(IntSlider(value=0, description='a'), IntSlider(value=0, description='b'), IntSli…"
      ]
     },
     "metadata": {},
     "output_type": "display_data"
    }
   ],
   "source": [
    "a = widgets.IntSlider(description='a')\n",
    "b = widgets.IntSlider(description='b')\n",
    "c = widgets.IntSlider(description='c')\n",
    "\n",
    "def f(a, b, c):\n",
    "    print(a + b + c)\n",
    "\n",
    "out = widgets.interactive_output(f, {'a': a, 'b': b, 'c': c})\n",
    "\n",
    "widgets.HBox([widgets.VBox([a, b, c]), out])\n"
   ]
  }
 ],
 "metadata": {
  "kernelspec": {
   "display_name": "Python 3 (ipykernel)",
   "language": "python",
   "name": "python3"
  },
  "language_info": {
   "codemirror_mode": {
    "name": "ipython",
    "version": 3
   },
   "file_extension": ".py",
   "mimetype": "text/x-python",
   "name": "python",
   "nbconvert_exporter": "python",
   "pygments_lexer": "ipython3",
   "version": "3.9.7"
  }
 },
 "nbformat": 4,
 "nbformat_minor": 5
}
