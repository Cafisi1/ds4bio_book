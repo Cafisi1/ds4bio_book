{
 "cells": [
  {
   "cell_type": "markdown",
   "id": "d8da447f-6849-49ec-8260-9880f0a5ef27",
   "metadata": {},
   "source": [
    "# Git, github\n",
    "\n",
    "In the live versions of these classes, we use the version control system git and git hosting service github. If you work in data science should have a working knowledge of both git and at least one cloud hosting service (like github).\n",
    "For git, you work in a *repository*, which is basically a project directory on your\n",
    "computer with some extra files that help git work. Git is then used for *version control*\n",
    "so that you keep track of states of your project. Github, is a hosting service for\n",
    "git repositories. Typically, you have your repository on your computer and you coordinate\n",
    "it with the one on the server. Github is just one of several hosting services, bitbucket\n",
    "is another, or you could even relatively easily start your own. However, github has front\n",
    "end web services that allows you to interact with your remote repository easily. This is\n",
    "very convenient. \n",
    "\n",
    "## The least you need to know\n",
    "I'm not going to fully recreate git / github tutorials here; [here's one I recommend](https://seankross.com/the-unix-workbench/git-and-github.html) by Sean Kross. Instead, I'm going to go through a typical git / github workflow.\n",
    "\n",
    "1. **Initialization** I almost always initialize my git repository on github with a `readme.md` file.\n",
    "2. **Clone** I typically *clone* the repository to my local computer using the command line or a local git gui that works with github, like [this one](https://desktop.github.com/). Note that you only have to clone the repo once. After it's cloned\n",
    "you have a full local copy of the repository.\n",
    "3. **add** new files to track and **stage** them after I've worked with them.\n",
    "4. **commit** the changes to the local repository with a meaningful commit message.\n",
    "5. **push** the changes to the repository.\n",
    "6. If there's changes on the remote repository not represented in my local repository, I **pull** those changes to my local repo.\n",
    "\n",
    "For larger projects, you're likely  working with multiple people, some of whom you've given access to your remote repository and\n",
    "some of whom you have not. The ones who can't directly push to the remote repo might have their own version of the\n",
    "code and their own version on github. If they think you should incorporate those changes, they might issue a **pull request** to\n",
    "you. You can then opt to pull their changes into your repo on github, then pull them from github to your local repo. One of the\n",
    "reasons why services like github and bitbucket are so popular is that they make this coordination fairly easy, along with having\n",
    "nice project messaging and management tools. \n",
    "\n",
    "In our class, we use github classroom. For github classroom, you'll get a link to a repo to put your submission files into. When you push to the remote repository, you'll have submitted. *But, up to the due date you can make changes an push again.* "
   ]
  },
  {
   "cell_type": "markdown",
   "id": "74b3d228-9228-4b57-88ab-9d52adc9a7e9",
   "metadata": {
    "tags": []
   },
   "source": [
    "## A little more detail\n",
    "\n",
    "### Getting started\n",
    "Git is a version control system invented by Linus Torvalds, the invetor of the linux operating system. A github repository is a directory that the software git is using to keep track of versions. Install [git](https://git-scm.com/book/en/v2/Getting-Started-Installing-Git), it's already installed on most cloud services and many operaiting systems.\n",
    "You can initialize a repository in a directory with the command `git init` in that directory. Honestly, I almost never start a git repo this way, because I've connected my repo to a cloud server. But, more on that later. After you've initialized it, your git repo is a locally version controlled system.\n",
    "\n",
    "### Adding files\n",
    "\n",
    "OK, now you want to add some of your files to your repo. You have a directory You can add files with the command\n",
    "```\n",
    "git add FILENAME\n",
    "```\n",
    "The file `FILENAME` is now staged to be part of the repository, but isn't added yet!  Files that you haven't added won't be tracked. This is good, since there's many files, llike log files, that we don't want to track. \n",
    "You only need to add the files once, then they are being tracked. Try it out with a readme markdown file in your repository.\n",
    "\n",
    "### Checking status\n",
    "One of the most useful git commands is \n",
    "```\n",
    "git status\n",
    "```\n",
    "This gives the status of which files are being tracked, which are not and which have changes.\n",
    "\n",
    "\n",
    "### Commiting changes\n",
    "You have to actually commit your changes to the repository to have them represented. Committing changes is a local operation, subsequently, we'll show you how to coordinate with a remote repository. Here's the command I use to commit most often\n",
    "```\n",
    "git commit -a -m \"COMMIT MESSAGE\"\n",
    "``` \n",
    "Here the flag `-a` means commit all files staged for commits. You can also commit individual files or a collection of specific files. The `-m \"COMMIT MESSAGE\"` is the message associated with your commit. Make your commit messages more informative. If you don't add `-m` github will bring up an editor for you to enter your commit message.\n",
    "\n",
    "\n",
    "### Remote repositories\n",
    "Git becomes much more useful when it's coordinated with a remote repository. Github is a server for hosting remote git repositories, there are several others, bitbucket is an example. Github also includes a great deal of functionality for working with the remote repository through the website. There's many git and github guis that you could use if you want. I always liked to github one and magit in emacs.\n",
    "\n",
    "#### Connecting your remote and local repos\n",
    "You need to connect your local repo to the remote repo. First create a version of the repo on github (actually then it gives you instructions). Then you can either\n",
    "\n",
    "  1. *Clone* the repo from the server `git clone REMOTE SERVER`\n",
    "  2. Connect the server to your local repository \n",
    "\n",
    "For 2. you use a command like:\n",
    "\n",
    "```\n",
    "git remote add origin git@github.com:USERNAME/REPONAME.git\n",
    "```\n",
    "\n",
    "Personally, I find it easier just to create the repo on github and clone it. You can clone over ssh or https, if you don't know what ssh is use https and then switch over to ssh as you learn how to use it.\n",
    "\n",
    "#### Pushing changes "
   ]
  },
  {
   "cell_type": "code",
   "execution_count": 1,
   "id": "eed83690-7094-424d-815e-e4c729648d02",
   "metadata": {
    "tags": [
     "hide-input"
    ]
   },
   "outputs": [
    {
     "data": {
      "image/png": "[encoded data removed]",
      "text/plain": [
       "<Figure size 200x200 with 1 Axes>"
      ]
     },
     "metadata": {},
     "output_type": "display_data"
    }
   ],
   "source": [
    "import networkx as nx\n",
    "import matplotlib.pyplot as plt\n",
    "#import numpy as np\n",
    "#import sklearn as skl\n",
    "\n",
    "plt.figure(figsize=[2, 2])\n",
    "G = nx.DiGraph()\n",
    "\n",
    "G.add_node(\"GH\",    pos = (.5, 1) )\n",
    "G.add_node(\"Local\", pos = (.5, 0))\n",
    "#G.add_edge(\"GH\", \"Local\")\n",
    "G.add_edge(\"Local\", \"GH\")\n",
    "nx.draw(G, \n",
    "        nx.get_node_attributes(G, 'pos'), \n",
    "        with_labels=True, \n",
    "        font_weight='bold', \n",
    "        node_size = 2000,\n",
    "        node_color = \"lightblue\",\n",
    "        linewidths = 3)\n",
    "ax= plt.gca()\n",
    "ax.collections[0].set_edgecolor(\"#000000\")\n",
    "ax.set_xlim([-.3, 1.3])\n",
    "ax.set_ylim([-.3, 1.3])\n",
    "plt.show()\n"
   ]
  },
  {
   "cell_type": "markdown",
   "id": "b190ab05-a446-4096-b74f-09503f4b0059",
   "metadata": {},
   "source": [
    "You push from the repo you're working on to another (remote repo). So, for me, this typically means pushing from my local computer repo to github or to a scientific computing cluster.\n",
    "\n",
    "```\n",
    "git push origin main\n",
    "```\n",
    "\n",
    "The above command could be read as \"push my new committed changes from my origin to the main branch on my remote repo\".  Older repos had the default branch `master` instead of `main`. But, github switched in [2020 or so](https://github.com/github/renaming). So, some older documentation may not have this switch.\n",
    "\n",
    "#### Pulling changes"
   ]
  },
  {
   "cell_type": "code",
   "execution_count": 2,
   "id": "3d40b5ab-c1ac-47f5-af6b-df4780686cf8",
   "metadata": {
    "tags": [
     "hide-input"
    ]
   },
   "outputs": [
    {
     "data": {
      "image/png": "[encoded data removed]",
      "text/plain": [
       "<Figure size 200x200 with 1 Axes>"
      ]
     },
     "metadata": {},
     "output_type": "display_data"
    }
   ],
   "source": [
    "plt.figure(figsize=[2, 2])\n",
    "G = nx.DiGraph()\n",
    "\n",
    "G.add_node(\"GH\",    pos = (.5, 1) )\n",
    "G.add_node(\"Local\", pos = (.5, 0))\n",
    "G.add_edge(\"GH\", \"Local\")\n",
    "#G.add_edge(\"Local\", \"GH\")\n",
    "nx.draw(G, \n",
    "        nx.get_node_attributes(G, 'pos'), \n",
    "        with_labels=True, \n",
    "        font_weight='bold', \n",
    "        node_size = 2000,\n",
    "        node_color = \"lightblue\",\n",
    "        linewidths = 3)\n",
    "ax= plt.gca()\n",
    "ax.collections[0].set_edgecolor(\"#000000\")\n",
    "ax.set_xlim([-.3, 1.3])\n",
    "ax.set_ylim([-.3, 1.3])\n",
    "plt.show()"
   ]
  },
  {
   "cell_type": "markdown",
   "id": "e4f77777-64c1-4d69-9e90-7dcc45649efc",
   "metadata": {},
   "source": [
    "There might be changes that you want represented locally that were changed on the remote repository; for example, you might edit a readme file through github's web interface. The command for this is really easy, it's just pull\n",
    "\n",
    "```\n",
    "git pull\n",
    "```\n",
    "\n",
    "The pain occurs if you have made local changes that are in conflict with the remote changes. I'd write about merge conflicts, but I can't, I just can't (*shudder*). [Here's some docs on managing merge conflicts]\n",
    "(https://docs.github.com/en/pull-requests/collaborating-with-pull-requests/addressing-merge-conflicts/resolving-a-merge-conflict-using-the-command-line)."
   ]
  },
  {
   "cell_type": "markdown",
   "id": "b9f118c3-2f1e-4d63-892f-e6dd3de3c771",
   "metadata": {},
   "source": [
    "#### Cloning"
   ]
  },
  {
   "cell_type": "code",
   "execution_count": 3,
   "id": "77ccbfb0-b3c2-4587-b541-5be663fa7ac4",
   "metadata": {
    "tags": [
     "hide-input"
    ]
   },
   "outputs": [
    {
     "data": {
      "image/png": "[encoded data removed]",
      "text/plain": [
       "<Figure size 300x200 with 1 Axes>"
      ]
     },
     "metadata": {},
     "output_type": "display_data"
    }
   ],
   "source": [
    "plt.figure(figsize=[3, 2])\n",
    "G = nx.DiGraph()\n",
    "\n",
    "G.add_node(\"GH1\",    pos = (.5, 1) )\n",
    "G.add_node(\"Local1\", pos = (.5, 0))\n",
    "G.add_node(\"Local2\", pos = (1.5, 0))\n",
    "\n",
    "G.add_edge(\"GH1\", \"Local1\")\n",
    "G.add_edge(\"Local1\", \"GH1\")\n",
    "G.add_edge(\"GH1\", \"Local2\")\n",
    "\n",
    "#G.add_edge(\"Local\", \"GH\")\n",
    "nx.draw(G, \n",
    "        nx.get_node_attributes(G, 'pos'), \n",
    "        with_labels=True, \n",
    "        font_weight='bold', \n",
    "        node_size = 2500,\n",
    "        node_color = \"lightblue\",\n",
    "        linewidths = 3)\n",
    "ax= plt.gca()\n",
    "ax.collections[0].set_edgecolor(\"#000000\")\n",
    "ax.set_xlim([-.3, 2.3])\n",
    "ax.set_ylim([-.3, 1.3])\n",
    "plt.show()"
   ]
  },
  {
   "cell_type": "markdown",
   "id": "07c4d4df-11f0-417c-ae05-bbde8ab8c572",
   "metadata": {},
   "source": [
    "To clone a remote repository is to simply create a local copy where you can pull changes from the remote. If a repository is public and you own it, then you can clone it and push changes back to the remote. If you don't, you can clone and pull changes, but then can't push back to the remote.\n",
    "\n",
    "Try with the book repo, clone it so you have access to the files. In the figure below the owner can pull and push to the repo. In the picture below, consider that you clone GH1 off of github to you. You can pull updates from GH1 but can't push changes to GH1. The owner of GH1 of course can pull and push.\n",
    "\n",
    "As an example, close this book (via https) with:\n",
    "\n",
    "```\n",
    "git clone https://github.com/smart-stats/ds4bio_book.git\n",
    "```"
   ]
  },
  {
   "cell_type": "markdown",
   "id": "30a3c991-fcba-43b4-9e53-647f81b9f8ef",
   "metadata": {},
   "source": [
    "#### Forking"
   ]
  },
  {
   "cell_type": "code",
   "execution_count": 4,
   "id": "aa0d36b1-26c7-471a-beba-e5018f540e46",
   "metadata": {
    "tags": [
     "hide-input"
    ]
   },
   "outputs": [
    {
     "data": {
      "image/png": "[encoded data removed]",
      "text/plain": [
       "<Figure size 300x200 with 1 Axes>"
      ]
     },
     "metadata": {},
     "output_type": "display_data"
    }
   ],
   "source": [
    "plt.figure(figsize=[3, 2])\n",
    "G = nx.DiGraph()\n",
    "\n",
    "G.add_node(\"GH1\",    pos = (.5, 1) )\n",
    "G.add_node(\"GH2\",    pos = (1.5, 1) )\n",
    "G.add_node(\"Local1\", pos = (.5, 0))\n",
    "G.add_node(\"Local2\", pos = (1.5, 0))\n",
    "\n",
    "G.add_edge(\"GH1\", \"Local1\")\n",
    "G.add_edge(\"Local1\", \"GH1\")\n",
    "G.add_edge(\"GH1\", \"GH2\")\n",
    "G.add_edge(\"GH2\", \"Local2\")\n",
    "G.add_edge(\"Local2\", \"GH2\")\n",
    "\n",
    "\n",
    "#G.add_edge(\"Local\", \"GH\")\n",
    "nx.draw(G, \n",
    "        nx.get_node_attributes(G, 'pos'), \n",
    "        with_labels=True, \n",
    "        font_weight='bold', \n",
    "        node_size = 2500,\n",
    "        node_color = \"lightblue\",\n",
    "        linewidths = 3)\n",
    "ax= plt.gca()\n",
    "ax.collections[0].set_edgecolor(\"#000000\")\n",
    "ax.set_xlim([-.3, 2.3])\n",
    "ax.set_ylim([-.3, 1.3])\n",
    "plt.show()"
   ]
  },
  {
   "cell_type": "markdown",
   "id": "a2708515-3488-4d0b-97a8-24bac3170ed9",
   "metadata": {},
   "source": [
    "A common workflow for github is to \"fork\" the repository. This differs from cloning in the sense that your fork is an entirely separate new copy. In the picture above, GH2 is a fork of GH1. It can pull upstream changes from GH1, but can't write to it, since you don't own that repo. You can push and pull from Local2 which is connected to GH2.\n",
    "\n",
    "Forking on github is easy. Just click the \"fork\" button in the upper right corner."
   ]
  },
  {
   "cell_type": "markdown",
   "id": "aa644200-989a-4580-83a4-f1dfef6cbea5",
   "metadata": {},
   "source": [
    "#### Pull requests"
   ]
  },
  {
   "cell_type": "code",
   "execution_count": 5,
   "id": "b5c7edb9-b58c-4da3-ac19-ce0b8cc67867",
   "metadata": {
    "tags": [
     "hide-input"
    ]
   },
   "outputs": [
    {
     "data": {
      "image/png": "[encoded data removed]",
      "text/plain": [
       "<Figure size 300x200 with 1 Axes>"
      ]
     },
     "metadata": {},
     "output_type": "display_data"
    }
   ],
   "source": [
    "plt.figure(figsize=[3, 2])\n",
    "G = nx.DiGraph()\n",
    "\n",
    "G.add_node(\"GH1\",    pos = (.5, 1) )\n",
    "G.add_node(\"GH2\",    pos = (1.5, 1) )\n",
    "G.add_node(\"Local1\", pos = (.5, 0))\n",
    "G.add_node(\"Local2\", pos = (1.5, 0))\n",
    "\n",
    "G.add_edge(\"GH1\", \"Local1\")\n",
    "G.add_edge(\"Local1\", \"GH1\")\n",
    "G.add_edge(\"GH2\", \"GH1\")\n",
    "G.add_edge(\"GH2\", \"Local2\")\n",
    "G.add_edge(\"Local2\", \"GH2\")\n",
    "\n",
    "\n",
    "#G.add_edge(\"Local\", \"GH\")\n",
    "nx.draw(G, \n",
    "        nx.get_node_attributes(G, 'pos'), \n",
    "        with_labels=True, \n",
    "        font_weight='bold', \n",
    "        node_size = 2500,\n",
    "        node_color = \"lightblue\",\n",
    "        linewidths = 3)\n",
    "ax= plt.gca()\n",
    "ax.collections[0].set_edgecolor(\"#000000\")\n",
    "ax.set_xlim([-.3, 2.3])\n",
    "ax.set_ylim([-.3, 1.3])\n",
    "plt.show()"
   ]
  },
  {
   "cell_type": "markdown",
   "id": "25fb8645-de49-4e77-94c3-db8b8c7afebc",
   "metadata": {},
   "source": [
    "Imagine a case where you forked the book repo and have some great additions (maybe a section on merge conflicts?). You think that these changes you think should be represented for other students. You can't push changes to my repo; the very idea would be perposterous! How do you get your great changes represented in my repo?\n",
    "\n",
    "You issue a *pull request* in the sense of requesting GH1 to pull your changes from GH2. Then, I would get notified of the pull request and would decide whether or not to merge them into my repo.  This system has many benefits, and particularly, is great for operating on open source projects. \n",
    "\n",
    "I like to do pull requests directly on github through the web interface."
   ]
  },
  {
   "cell_type": "markdown",
   "id": "b8570edf-52c5-456c-80dd-8566f424b95c",
   "metadata": {
    "tags": []
   },
   "source": [
    "## Branching\n",
    "\n",
    "You often want multiple versions of a repository. For example, you might want a development version, a working version and a stable version. This is what branches are for in git. To create and switch to a branch called `dev`, use:\n",
    "\n",
    "```\n",
    "git checkout -b dev\n",
    "```\n",
    "\n",
    "This creates a new branch called `dev` and switches to that branch. If you already have `dev`, use `checkout` without `-b`. Suppose you want to merge your change from `dev` into your default branch (`main`)\n",
    "```\n",
    "git checkout main\n",
    "git merge dev\n",
    "```\n",
    "Start very basic with branches, then when you get the hang of it you can use it like a pro. [Here's more documentation](https://git-scm.com/book/en/v2/Git-Branching-Basic-Branching-and-Merging).\n",
    "\n",
    "## Clients\n",
    "\n",
    "You can avoid the command line stuff with a git client, of which there are many. It's still good to know the command line options, for remote work if nothing else. I've tried several git clients and my favorite is the github client software and magit in emacs."
   ]
  },
  {
   "cell_type": "markdown",
   "id": "909dca5c-8369-49e6-9223-1d236b5b92ad",
   "metadata": {},
   "source": [
    "## Setting up ssh\n",
    "\n",
    "If you want to connect to a remote repository to github on a unix or linux system, it's probably easiest to set up using so called secure shell. You can also set it up a variety of ways on Windows, but the rules are a little less universal. If you find this very hard to follow, just use a git and github gui (like github desktop, which is what I like to recommend).\n",
    "\n",
    "Secure shell works as follows. It creates a public key (think like a lock, everyone can see it) and a private key (like the key for the lock, only you have it). When you connect to github, it has your public key and you use the private key to \"unlock\" it. First, you need a `.ssh` directory from your personal directory. If you don't have that, try `ssh username@server` to a server that you know and it will automatically create one.  \n",
    "\n",
    "we'll go through [this](https://docs.github.com/en/authentication/connecting-to-github-with-ssh/generating-a-new-ssh-key-and-adding-it-to-the-ssh-agent) tutorial.\n",
    "\n",
    "Then, cd into your `.ssh` director and type the following and follow the instructions\n",
    "```\n",
    "ssh-keygen -t rsa -b 4096 -C \"your_email@example.com\"\n",
    "```\n",
    "This generates your public/prviate key pair. Then you need to take the public key file, and upload it to github under settings. This is described [here](https://docs.github.com/en/authentication/connecting-to-github-with-ssh/adding-a-new-ssh-key-to-your-github-account).\n",
    "\n",
    "\n",
    "In some cases I've also had to add this to a file `config` in my `.ssh` directory:\n",
    "```\n",
    "Host github.com\n",
    "     ForwardX11 no\n",
    "     HostName github.com\n",
    "     User git\n",
    "     IdentityFile ~/.ssh/YOUR_PRIVATE_KEY_FILENAME\n",
    "```\n",
    "\n",
    "Once this is setup, then you should be able to push and pull from github from the command line without passwords. "
   ]
  },
  {
   "cell_type": "markdown",
   "id": "469480dc",
   "metadata": {},
   "source": [
    "## Github pages\n",
    "\n",
    "It's possible to host web pages on github. By *hosting* I mean serving the web page on the internet so that others can view it. There's a couple of steps to doing this. First, you need an html file to serve. If you look in [the chapter](https://smart-stats.github.io/ds4bio_book/book/_build/html/html.html) on html, there's the code for a basic wepage. Save a web page as say \"index.html\". You can double check that it works by simply double clicking on the file on your local computer. It should display as a web page in your browser, but it's only viewable by you. Notice the addres begins with `file:///...`. To serve the file so that others can view it, we need it to exist on a server.\n",
    "\n",
    "Github will serve the file for us, but first we need a repository. Create a public repository; I typically do this on github. Then you need to add an empty file called `.nojekyll`. Don't forget the period at the beginning. This prevents github from thinking you're using the [jekyll framework](https://jekyllrb.com/), which is the default. Since we're serving a basic webpage, we don't need this framework. I create this file on github just by clicking *Add File* then *Create new file*. \n",
    "\n",
    "Next we need to tell github that this repo serves web pages. Click on *settings* then *pages* on the left. Then, under *source* choose the branch that you want to serve the pages from. Add your html file, commit and push to github. Give it a few minutes, then your file will be served from \n",
    "\n",
    "```\n",
    "https:///GITHUBUSERNAME.github.io/REPONAME/FILENAME.html\n",
    "```\n",
    "where here `GITHUBUSERNAME` is either your github username or the organization. `REPONAME` is the name of your repository and `FILENAME.html` is your html file, with the path if it's in subdirectories. As an example, here's a version I did [https://bcaffo.github.io/testHtmlRepo/index.html](https://bcaffo.github.io/testHtmlRepo/index.html). "
   ]
  }
 ],
 "metadata": {
  "kernelspec": {
   "display_name": "Python 3 (ipykernel)",
   "language": "python",
   "name": "python3"
  },
  "language_info": {
   "codemirror_mode": {
    "name": "ipython",
    "version": 3
   },
   "file_extension": ".py",
   "mimetype": "text/x-python",
   "name": "python",
   "nbconvert_exporter": "python",
   "pygments_lexer": "ipython3",
   "version": "3.10.4"
  }
 },
 "nbformat": 4,
 "nbformat_minor": 5
}