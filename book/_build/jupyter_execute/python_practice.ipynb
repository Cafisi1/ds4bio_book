{
 "cells": [
  {
   "cell_type": "markdown",
   "metadata": {},
   "source": [
    "<a href=\"https://colab.research.google.com/github/smart-stats/ds4bio_book/blob/main/book/python_practice.ipynb\" target=\"_parent\"><img src=\"https://colab.research.google.com/assets/colab-badge.svg\" alt=\"Open In Colab\"/></a> [![Binder](https://mybinder.org/badge_logo.svg)](https://mybinder.org/v2/gh/smart-stats/ds4bio_book/HEAD)\n",
    "\n",
    "# Python in practice\n",
    "\n",
    "The kind of programming we've seen so far in python isn't how typical data programmming in python goes. Instead, we tend to rely a lot of modules that add methods to our complex data science objects. Most python objects are class objects that come with a variety of convenient methods associated with them. If you're working in a good coding environment, then it should have some method autocompletion for your objects, which helps prevent typos and can speed up work. Let's look at methods associated with a list object. Note that some methods change the object itself while others return things without changing the object."
   ]
  },
  {
   "cell_type": "code",
   "execution_count": 1,
   "metadata": {},
   "outputs": [
    {
     "name": "stdout",
     "output_type": "stream",
     "text": [
      "['frogs', 'cats', 'dogs', 'hamsters']\n",
      "['cats', 'dogs', 'frogs', 'hamsters']\n",
      "['hamsters', 'frogs', 'dogs', 'cats']\n",
      "['hamsters', 'frogs', 'dogs']\n",
      "['hamsters', 'frogs', 'dogs', 'horses']\n",
      "1\n"
     ]
    }
   ],
   "source": [
    "pets = ['frogs', 'cats', 'dogs', 'hamsters']\n",
    "print(pets)\n",
    "pets.sort() #note this changes the pets object\n",
    "print(pets)\n",
    "pets.reverse()\n",
    "print(pets)\n",
    "pets.pop()\n",
    "print(pets)\n",
    "pets.append(\"horses\")\n",
    "print(pets)\n",
    "print(pets.count(\"horses\")) #counts the number of times the string horses is in the list"
   ]
  },
  {
   "cell_type": "markdown",
   "metadata": {},
   "source": [
    "A useful working example is working with imaginary numbers."
   ]
  },
  {
   "cell_type": "markdown",
   "metadata": {},
   "source": [
    "Let's create our own version of a complex number, adapted from [here](https://docs.python.org/3/tutorial/classes.html). Complex numbers have two parts, the real part and the \"imaginary\" part. \n",
    "(Note I put imaginary in quotes, since, IMHO, complex numbers and the associated operations are simply an algebraic system, no more or less imaginary than most other algebraic systems. They simply lack the direct real world counting analogy of squaring a whole number. But there are countless algenbraic systems created for a variety of uses, most lacking the direct analogy to counting whole numbers.)\n",
    "There's two popular representations of complex numbers, Cartesian and polar. We'll use Cartesian and not discuss polar. \n",
    "\n",
    "A complex number is represented as $a + bi$ where $a$ and $b$ are numbers and $i$ is the symbol for the complex root of -1, i.e. $i^2 = -1$. If $a + b i $ is a complex number, $a - bi$ is its so-called conjugate. Conjugates are useful since \n",
    "$$\n",
    "(a+bi)(a-bi) = a^2 + abi - abi - b^2 i^2 = a^2 + b^2\n",
    "$$\n",
    "\n",
    "Let's create an object called `mycomplex` and give it a conjugation method and some other stuff."
   ]
  },
  {
   "cell_type": "code",
   "execution_count": 2,
   "metadata": {},
   "outputs": [
    {
     "name": "stdout",
     "output_type": "stream",
     "text": [
      "(10, 5)\n",
      "(10, -5)\n"
     ]
    }
   ],
   "source": [
    "class mycomplex:\n",
    "    def __init__(self, real, imag):\n",
    "        self.r = real\n",
    "        self.i = imag\n",
    "\n",
    "    def conjugate(self): #note this modifies self\n",
    "        self.i =  -self.i\n",
    "\n",
    "    def print(self):\n",
    "        print((self.r, self.i))\n",
    "\n",
    "y = mycomplex(10,5)\n",
    "y.print()\n",
    "y.conjugate()\n",
    "y.print()"
   ]
  },
  {
   "cell_type": "markdown",
   "metadata": {},
   "source": [
    "Let's now create a version that doesn't modify the object when we conjugate. "
   ]
  },
  {
   "cell_type": "code",
   "execution_count": 3,
   "metadata": {},
   "outputs": [
    {
     "name": "stdout",
     "output_type": "stream",
     "text": [
      "(10, 5)\n",
      "(10, 5)\n",
      "(10, -5)\n"
     ]
    }
   ],
   "source": [
    "class mycomplex:\n",
    "    def __init__(self, real, imag):\n",
    "        self.r = real\n",
    "        self.i = imag\n",
    "\n",
    "    def conjugate(self): # note this doesn't modify self and returns a new object\n",
    "        return(mycomplex(self.r, -self.i))\n",
    "\n",
    "    def print(self):\n",
    "        print((self.r, self.i))\n",
    "\n",
    "y = mycomplex(10,5)\n",
    "y.print()\n",
    "z = y.conjugate()\n",
    "y.print()\n",
    "z.print()"
   ]
  },
  {
   "cell_type": "markdown",
   "metadata": {},
   "source": [
    "## Utilizing python libraries\n",
    "\n",
    "We typically load libraries that create useful data structures for us and have useful functions. We'll use `pandas` a lot next. So, let's go through another very useful data science library, `numpy`. \n",
    "\n",
    "First, let's load up numpy. Here's three separate ways\n",
    "\n",
    "1. `import numpy`\n",
    "2. `import numpy as np`\n",
    "3. `from numpy import *`\n",
    "\n",
    "Option 1. imports numpy, but then you have to type `numpy.FUNCTION` to access `FUNCTION`. The second option (my preferred) shortens this to `np.FUNCTION`. The third loads the numpy functions into the global namespace. This is probably ok for really core packages like numpy. But, otherwise it's an issue since you typically load many libraries and some may have the same function names.\n",
    "\n",
    "Let's load up numpy and look at some of its capabilities."
   ]
  },
  {
   "cell_type": "code",
   "execution_count": 4,
   "metadata": {},
   "outputs": [
    {
     "name": "stdout",
     "output_type": "stream",
     "text": [
      "3.141592653589793\n",
      "nan\n",
      "[1 2 3 8]\n",
      "<class 'numpy.ndarray'>\n",
      "[[1 2 3]\n",
      " [4 5 6]]\n"
     ]
    }
   ],
   "source": [
    "import numpy as np\n",
    "\n",
    "## Numpy has constants\n",
    "print(np.pi)\n",
    "## Numpy has a not a number placeholder\n",
    "print(np.nan)\n",
    "## Numpy has 1 and 2d arrays\n",
    "vector = np.array([1, 2, 3, 8])\n",
    "print(vector)\n",
    "print(type(vector))\n",
    "## Numpy has N-Dimensional arrays\n",
    "array = np.array([ [1, 2, 3], [4, 5, 6]])\n",
    "print(array)"
   ]
  },
  {
   "cell_type": "code",
   "execution_count": 5,
   "metadata": {},
   "outputs": [
    {
     "name": "stdout",
     "output_type": "stream",
     "text": [
      "[[ 2  4  6]\n",
      " [ 8 10 12]]\n",
      "[[ 1  4  9]\n",
      " [16 25 36]]\n"
     ]
    }
   ],
   "source": [
    "## Arrays have operator definitions\n",
    "print(array + array)\n",
    "print(array * array)"
   ]
  },
  {
   "cell_type": "markdown",
   "metadata": {},
   "source": [
    "Let's look at a common use of a library object. Our vector, `vector`, has some data in it. What if we wanted the mean and standard deviation?"
   ]
  },
  {
   "cell_type": "code",
   "execution_count": 6,
   "metadata": {},
   "outputs": [
    {
     "name": "stdout",
     "output_type": "stream",
     "text": [
      "3.5\n",
      "2.692582403567252\n"
     ]
    }
   ],
   "source": [
    "print(vector.mean())\n",
    "print(vector.std())"
   ]
  },
  {
   "cell_type": "markdown",
   "metadata": {},
   "source": [
    "Numpy has a separate data structure for matrices (2D arrays). Let's creat a matrix like our previous 2D array."
   ]
  },
  {
   "cell_type": "code",
   "execution_count": 7,
   "metadata": {},
   "outputs": [
    {
     "name": "stdout",
     "output_type": "stream",
     "text": [
      "(<class 'numpy.ndarray'>, <class 'numpy.matrix'>)\n"
     ]
    },
    {
     "data": {
      "text/plain": [
       "matrix([[1, 2],\n",
       "        [4, 5]])"
      ]
     },
     "execution_count": 7,
     "metadata": {},
     "output_type": "execute_result"
    }
   ],
   "source": [
    "mymat = np.matrix([ [1, 2], [4, 5] ] )\n",
    "print( (type(array), type(mymat) ) )\n",
    "mymat"
   ]
  },
  {
   "cell_type": "markdown",
   "metadata": {},
   "source": [
    "Numpy's linear algebra functions are spread across sublibraries of numpy. `linalg` is one. Let's suppose we want the matrix determinant of `mymat`. We have several choices\n",
    "\n",
    "1. `np.linalg.det(mymat)`\n",
    "2. `import numpy.linalg as la` then `la.det(mymat)`\n",
    "3. `from numpy.linalg import det` then `det(mymat)`\n",
    "\n",
    "The first is a little long, but just calls the sublibrary then the function of the sublibrary. The second and third are shorter, where the second gives a named reference to the sublibrary methods while the third loads the function into the namespace."
   ]
  },
  {
   "cell_type": "code",
   "execution_count": 8,
   "metadata": {},
   "outputs": [
    {
     "data": {
      "text/plain": [
       "-2.9999999999999996"
      ]
     },
     "execution_count": 8,
     "metadata": {},
     "output_type": "execute_result"
    }
   ],
   "source": [
    "from numpy.linalg import det \n",
    "det(mymat)"
   ]
  },
  {
   "cell_type": "code",
   "execution_count": 9,
   "metadata": {},
   "outputs": [
    {
     "data": {
      "text/plain": [
       "array([2.1, 3.1])"
      ]
     },
     "execution_count": 9,
     "metadata": {},
     "output_type": "execute_result"
    }
   ],
   "source": [
    "x = np.array([1.1, 2.1, 3.1, 3.2, 8.6])\n",
    "x[1:3]\n"
   ]
  },
  {
   "cell_type": "markdown",
   "metadata": {},
   "source": [
    "## Building python modules\n",
    "\n",
    "With very small effort, a set of python functions can be turned into a python library. Let's start with creating a python module, then we'll talk about distributing with pip\n",
    "\n",
    "\n"
   ]
  }
 ],
 "metadata": {
  "interpreter": {
   "hash": "625a8f875bfb3f569e4f618df17e1f8389970b6b26ee2c84acb92c5fbebf95c3"
  },
  "kernelspec": {
   "display_name": "Python 3 (ipykernel)",
   "language": "python",
   "name": "python3"
  },
  "language_info": {
   "codemirror_mode": {
    "name": "ipython",
    "version": 3
   },
   "file_extension": ".py",
   "mimetype": "text/x-python",
   "name": "python",
   "nbconvert_exporter": "python",
   "pygments_lexer": "ipython3",
   "version": "3.10.4"
  }
 },
 "nbformat": 4,
 "nbformat_minor": 4
}