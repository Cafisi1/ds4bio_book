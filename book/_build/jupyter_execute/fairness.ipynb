{
 "cells": [
  {
   "cell_type": "markdown",
   "id": "5503263e-07d4-4c5e-8a50-686ec865aa1b",
   "metadata": {},
   "source": [
    "# Explainability and equity\n"
   ]
  }
 ],
 "metadata": {
  "kernelspec": {
   "display_name": "Python [conda env:.conda-ds4bio]",
   "language": "python",
   "name": "conda-env-.conda-ds4bio-py"
  },
  "language_info": {
   "codemirror_mode": {
    "name": "ipython",
    "version": 3
   },
   "file_extension": ".py",
   "mimetype": "text/x-python",
   "name": "python",
   "nbconvert_exporter": "python",
   "pygments_lexer": "ipython3",
   "version": "3.10.4"
  }
 },
 "nbformat": 4,
 "nbformat_minor": 5
}