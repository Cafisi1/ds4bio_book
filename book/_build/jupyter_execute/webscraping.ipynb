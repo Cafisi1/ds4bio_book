{
 "cells": [
  {
   "cell_type": "markdown",
   "id": "1c287ce1-a43c-4f15-81ba-1a3526660991",
   "metadata": {},
   "source": [
    "# Webscraping\n",
    "\n",
    "We'll need some packages to start, `requests`,  `beautifulsoup4` and `selenium`. Requesting elements from a static web page is very straightforward. Let's take an example by trying to grab and plot the table of multiple Olympic medalists from Wikipedia then create a barplot of which sports have the most multiple medal winners. \n",
    "\n",
    "First we have to grab the data from the url, then pass it to beautifulsoup4, which parses the html, then pass it to pandas. First let's import the packages we need."
   ]
  },
  {
   "cell_type": "code",
   "execution_count": 38,
   "id": "3634b055-263c-428b-9983-7aa2d8c5a9ba",
   "metadata": {},
   "outputs": [],
   "source": [
    "import requests as rq\n",
    "import bs4\n",
    "import pandas as pd"
   ]
  },
  {
   "cell_type": "markdown",
   "id": "90f9e575-beec-4ead-afd8-a5d3098d2f8e",
   "metadata": {},
   "source": [
    "We then need to read the web page into data."
   ]
  },
  {
   "cell_type": "code",
   "execution_count": 67,
   "id": "dddc9158-aa75-4dd7-84ac-63076e7628a7",
   "metadata": {},
   "outputs": [
    {
     "data": {
      "text/plain": [
       "'<!DOCTYPE html>\\n<html class=\"client-nojs\" lang=\"en\" dir=\"ltr\">\\n<head>\\n<meta charset=\"UTF-8\"/>\\n<title>List of multiple Olympic gold medalists - Wikipedia</title>\\n<script>document.documentElement.class'"
      ]
     },
     "execution_count": 67,
     "metadata": {},
     "output_type": "execute_result"
    }
   ],
   "source": [
    "url = 'https://en.wikipedia.org/wiki/List_of_multiple_Olympic_gold_medalists'\n",
    "page = rq.get(url)\n",
    "## print out the first 200 characters\n",
    "page.text[0:199]"
   ]
  },
  {
   "cell_type": "markdown",
   "id": "cacabf09-b7d5-41f0-9111-16d051be3b16",
   "metadata": {},
   "source": [
    "Now let's read the page into bs4. Then we want to find the tables in the page. We add the class and wikitable information to specify which tables that we want. If you want to find classes, you can use a web tool, like selectorgadget or viewing the page source."
   ]
  },
  {
   "cell_type": "code",
   "execution_count": 70,
   "id": "6f33ea05-7e28-4bef-a9a7-d9de17862c51",
   "metadata": {},
   "outputs": [],
   "source": [
    "bs4page = bs4.BeautifulSoup(page.text, 'html.parser')\n",
    "tables = bs4page.find('table',{'class':\"wikitable\"})"
   ]
  },
  {
   "cell_type": "markdown",
   "id": "3c3a54db-0af1-44a7-afe7-33ba7a1537a4",
   "metadata": {},
   "source": [
    "Now we should take the html that we've saved, then read it into pandas. Fortunately, pandas has a `read_html` method. So, we convert our tables to strings then read it in. Since there's multiple tables, we grab the first one. "
   ]
  },
  {
   "cell_type": "code",
   "execution_count": 71,
   "id": "4635885c-a614-46ff-a8b4-c3a771b5a43e",
   "metadata": {},
   "outputs": [
    {
     "data": {
      "text/html": [
       "<div>\n",
       "<style scoped>\n",
       "    .dataframe tbody tr th:only-of-type {\n",
       "        vertical-align: middle;\n",
       "    }\n",
       "\n",
       "    .dataframe tbody tr th {\n",
       "        vertical-align: top;\n",
       "    }\n",
       "\n",
       "    .dataframe thead th {\n",
       "        text-align: right;\n",
       "    }\n",
       "</style>\n",
       "<table border=\"1\" class=\"dataframe\">\n",
       "  <thead>\n",
       "    <tr style=\"text-align: right;\">\n",
       "      <th></th>\n",
       "      <th>No.</th>\n",
       "      <th>Athlete</th>\n",
       "      <th>Nation</th>\n",
       "      <th>Sport</th>\n",
       "      <th>Years</th>\n",
       "      <th>Games</th>\n",
       "      <th>Gender</th>\n",
       "      <th>Gold</th>\n",
       "      <th>Silver</th>\n",
       "      <th>Bronze</th>\n",
       "      <th>Total</th>\n",
       "    </tr>\n",
       "  </thead>\n",
       "  <tbody>\n",
       "    <tr>\n",
       "      <th>0</th>\n",
       "      <td>1</td>\n",
       "      <td>Michael Phelps</td>\n",
       "      <td>United States</td>\n",
       "      <td>Swimming</td>\n",
       "      <td>2000–2016</td>\n",
       "      <td>Summer</td>\n",
       "      <td>M</td>\n",
       "      <td>23.0</td>\n",
       "      <td>3.0</td>\n",
       "      <td>2.0</td>\n",
       "      <td>28.0</td>\n",
       "    </tr>\n",
       "    <tr>\n",
       "      <th>1</th>\n",
       "      <td>2</td>\n",
       "      <td>Larisa Latynina</td>\n",
       "      <td>Soviet Union</td>\n",
       "      <td>Gymnastics</td>\n",
       "      <td>1956–1964</td>\n",
       "      <td>Summer</td>\n",
       "      <td>F</td>\n",
       "      <td>9.0</td>\n",
       "      <td>5.0</td>\n",
       "      <td>4.0</td>\n",
       "      <td>18.0</td>\n",
       "    </tr>\n",
       "    <tr>\n",
       "      <th>2</th>\n",
       "      <td>3</td>\n",
       "      <td>Paavo Nurmi</td>\n",
       "      <td>Finland</td>\n",
       "      <td>Athletics</td>\n",
       "      <td>1920–1928</td>\n",
       "      <td>Summer</td>\n",
       "      <td>M</td>\n",
       "      <td>9.0</td>\n",
       "      <td>3.0</td>\n",
       "      <td>0.0</td>\n",
       "      <td>12.0</td>\n",
       "    </tr>\n",
       "    <tr>\n",
       "      <th>3</th>\n",
       "      <td>4</td>\n",
       "      <td>Mark Spitz</td>\n",
       "      <td>United States</td>\n",
       "      <td>Swimming</td>\n",
       "      <td>1968–1972</td>\n",
       "      <td>Summer</td>\n",
       "      <td>M</td>\n",
       "      <td>9.0</td>\n",
       "      <td>1.0</td>\n",
       "      <td>1.0</td>\n",
       "      <td>11.0</td>\n",
       "    </tr>\n",
       "    <tr>\n",
       "      <th>4</th>\n",
       "      <td>5</td>\n",
       "      <td>Carl Lewis</td>\n",
       "      <td>United States</td>\n",
       "      <td>Athletics</td>\n",
       "      <td>1984–1996</td>\n",
       "      <td>Summer</td>\n",
       "      <td>M</td>\n",
       "      <td>9.0</td>\n",
       "      <td>1.0</td>\n",
       "      <td>0.0</td>\n",
       "      <td>10.0</td>\n",
       "    </tr>\n",
       "  </tbody>\n",
       "</table>\n",
       "</div>"
      ],
      "text/plain": [
       "   No.          Athlete         Nation       Sport      Years   Games Gender  \\\n",
       "0    1   Michael Phelps  United States    Swimming  2000–2016  Summer      M   \n",
       "1    2  Larisa Latynina   Soviet Union  Gymnastics  1956–1964  Summer      F   \n",
       "2    3      Paavo Nurmi        Finland   Athletics  1920–1928  Summer      M   \n",
       "3    4       Mark Spitz  United States    Swimming  1968–1972  Summer      M   \n",
       "4    5       Carl Lewis  United States   Athletics  1984–1996  Summer      M   \n",
       "\n",
       "   Gold  Silver  Bronze  Total  \n",
       "0  23.0     3.0     2.0   28.0  \n",
       "1   9.0     5.0     4.0   18.0  \n",
       "2   9.0     3.0     0.0   12.0  \n",
       "3   9.0     1.0     1.0   11.0  \n",
       "4   9.0     1.0     0.0   10.0  "
      ]
     },
     "execution_count": 71,
     "metadata": {},
     "output_type": "execute_result"
    }
   ],
   "source": [
    "medals = pd.read_html(str(tables))[0]\n",
    "## There's an empty row\n",
    "medals = medals.dropna()\n",
    "medals.head()"
   ]
  },
  {
   "cell_type": "markdown",
   "id": "6167635b-80c7-4cd8-ab63-19aaff8fc708",
   "metadata": {},
   "source": [
    "Now we're in a position to build our plot. Let's look at the count of 4 or more medal winers by sport and games."
   ]
  },
  {
   "cell_type": "code",
   "execution_count": 72,
   "id": "ac9eef25-b014-4c43-8f8e-1a2458a74ff4",
   "metadata": {},
   "outputs": [
    {
     "data": {
      "text/plain": [
       "<AxesSubplot:xlabel='Sport,Games'>"
      ]
     },
     "execution_count": 72,
     "metadata": {},
     "output_type": "execute_result"
    },
    {
     "data": {
      "image/png": "[encoded data removed]",
      "text/plain": [
       "<Figure size 432x288 with 1 Axes>"
      ]
     },
     "metadata": {
      "filenames": {
       "image/png": "/home/bcaffo/sandboxes/ds4bio_book/book/_build/jupyter_execute/webscraping_9_1.png"
      },
      "needs_background": "light"
     },
     "output_type": "display_data"
    }
   ],
   "source": [
    "medals[['Sport', 'Games']].value_counts().plot.bar()"
   ]
  }
 ],
 "metadata": {
  "kernelspec": {
   "display_name": "Python 3 (ipykernel)",
   "language": "python",
   "name": "python3"
  },
  "language_info": {
   "codemirror_mode": {
    "name": "ipython",
    "version": 3
   },
   "file_extension": ".py",
   "mimetype": "text/x-python",
   "name": "python",
   "nbconvert_exporter": "python",
   "pygments_lexer": "ipython3",
   "version": "3.9.7"
  }
 },
 "nbformat": 4,
 "nbformat_minor": 5
}