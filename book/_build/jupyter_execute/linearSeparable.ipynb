{
 "cells": [
  {
   "cell_type": "markdown",
   "metadata": {
    "colab_type": "text",
    "id": "view-in-github"
   },
   "source": [
    "<a href=\"https://colab.research.google.com/github/smart-stats/ds4bio_book/blob/main/book/linearSeparable.ipynb\" target=\"_parent\"><img src=\"https://colab.research.google.com/assets/colab-badge.svg\" alt=\"Open In Colab\"/></a>"
   ]
  },
  {
   "cell_type": "markdown",
   "metadata": {
    "colab_type": "text",
    "id": "rIzXXVGuR9YM"
   },
   "source": [
    "# Linear separable models\n",
    "\n",
    "We've now covered two ways to do prediction with a single variable, classification using logistic regression and prediction using a line and least squares. What if we have several predictiors? \n",
    "\n",
    "In both the logistic and linear regression models, we had a linear predictor, specifically, \n",
    "\n",
    "$$\n",
    "\\eta_i = \\beta_0 + \\beta_1 x_i.\n",
    "$$\n",
    "\n",
    "In the continuous case, we were modeling the expected value of the outcomes as linear. In the binary case, we were assuming that the naturual logarithm of the odds of a 1 outcome was linear. \n",
    "\n",
    "To estimate the unknown parameters, $\\beta_0$ and $\\beta_1$ we minimized\n",
    "\n",
    "$$\n",
    "\\sum_{i=1}^n || y_i - \\eta_i||^2 \n",
    "$$\n",
    "\n",
    "in the linear case and \n",
    "\n",
    "$$\n",
    "-\\sum_{i=1}^n \\left[\n",
    "  Y_i \\eta_i + \\log\\left\\{\\frac{1}{1 + e^{\\eta_i}} \\right\\} \\right].\n",
    "$$\n",
    "\n",
    "in the binary outcome case (where, recall, $\\eta_i$ depends on the parameters).  We can easily extend these models to multiple predictors by assuming that the impact of the multiple predictors is linear and separable. That is,\n",
    "\n",
    "$$\n",
    "\\eta_i = \\beta_0 + \\beta_1 x_{1i} + \\beta_2 x_{2i} + \\ldots \\beta_{p-1} x_{p-1,i}\n",
    "$$\n",
    "\n",
    "If we think about this as vectors and matrices, we obtain\n",
    "\n",
    "$$\n",
    "\\eta = X \\beta\n",
    "$$\n",
    "\n",
    "where $\\eta$ is an $n \\times 1$ vector, $X$ is an $n \\times p$ matrix with $i,j$ entry $x_{ij}$ and $\\beta$ is a $p\\times 1$ vector with entries $\\beta_j$. \n"
   ]
  },
  {
   "cell_type": "markdown",
   "metadata": {
    "colab_type": "text",
    "id": "ApSoCaMXb4x-"
   },
   "source": [
    "Let's look at the voxel-level data that we've been working with. First let's load the data."
   ]
  },
  {
   "cell_type": "code",
   "execution_count": 1,
   "metadata": {
    "colab": {},
    "colab_type": "code",
    "id": "GMMLqAkYRxb5"
   },
   "outputs": [],
   "source": [
    "import numpy as np\n",
    "import pandas as pd\n",
    "import seaborn as sns\n",
    "import matplotlib.pyplot as plt\n",
    "import sklearn.linear_model as lm\n",
    "import sklearn as skl\n",
    "import statsmodels.formula.api as smf\n",
    "import statsmodels as sm\n",
    "\n",
    "## this sets some style parameters  \n",
    "sns.set()\n",
    "\n",
    "## Read in the data \n",
    "dat = pd.read_csv(\"https://raw.githubusercontent.com/bcaffo/ds4bme_intro/master/data/oasis.csv\")\n"
   ]
  },
  {
   "cell_type": "markdown",
   "metadata": {
    "colab_type": "text",
    "id": "HUih09BMdi9_"
   },
   "source": [
    "Let's first try to fit the proton density data from the other imaging data. I'm going to use the `statsmodels` version of linear models since it has a nice format for dataframes."
   ]
  },
  {
   "cell_type": "code",
   "execution_count": 2,
   "metadata": {
    "colab": {},
    "colab_type": "code",
    "id": "Onw6CyaCdrtz"
   },
   "outputs": [],
   "source": [
    "trainFraction = .75\n",
    "\n",
    "sample = np.random.uniform(size = 100) < trainFraction\n",
    "trainingDat = dat[sample]\n",
    "testingDat = dat[~sample]"
   ]
  },
  {
   "cell_type": "code",
   "execution_count": 3,
   "metadata": {
    "colab": {
     "base_uri": "https://localhost:8080/",
     "height": 507
    },
    "colab_type": "code",
    "id": "fDJOnSsxe2N5",
    "outputId": "140b3f55-7e65-4bcf-91c3-417127a8769d"
   },
   "outputs": [
    {
     "name": "stdout",
     "output_type": "stream",
     "text": [
      "                 Results: Ordinary least squares\n",
      "=================================================================\n",
      "Model:              OLS              Adj. R-squared:     0.695   \n",
      "Dependent Variable: PD               AIC:                85.2139 \n",
      "Date:               2021-10-03 20:14 BIC:                103.8598\n",
      "No. Observations:   76               Log-Likelihood:     -34.607 \n",
      "Df Model:           7                F-statistic:        25.41   \n",
      "Df Residuals:       68               Prob (F-statistic): 1.11e-16\n",
      "R-squared:          0.723            Scale:              0.16268 \n",
      "------------------------------------------------------------------\n",
      "                Coef.   Std.Err.     t     P>|t|    [0.025  0.975]\n",
      "------------------------------------------------------------------\n",
      "Intercept       0.3492    0.1620   2.1557  0.0346   0.0260  0.6725\n",
      "FLAIR          -0.0733    0.1013  -0.7234  0.4719  -0.2755  0.1289\n",
      "T1             -0.1273    0.0979  -1.2997  0.1981  -0.3227  0.0681\n",
      "T2              0.6626    0.0929   7.1341  0.0000   0.4773  0.8480\n",
      "FLAIR_10       -0.4603    0.3794  -1.2131  0.2293  -1.2174  0.2968\n",
      "T1_10           0.1094    0.1990   0.5499  0.5842  -0.2877  0.5066\n",
      "T2_10           0.0275    0.3461   0.0794  0.9369  -0.6631  0.7181\n",
      "FLAIR_20        2.2175    0.8746   2.5353  0.0135   0.4721  3.9628\n",
      "-----------------------------------------------------------------\n",
      "Omnibus:              0.441        Durbin-Watson:           2.079\n",
      "Prob(Omnibus):        0.802        Jarque-Bera (JB):        0.149\n",
      "Skew:                 0.095        Prob(JB):                0.928\n",
      "Kurtosis:             3.104        Condition No.:           43   \n",
      "=================================================================\n",
      "\n"
     ]
    }
   ],
   "source": [
    "results = smf.ols('PD ~ FLAIR + T1 + T2  + FLAIR_10 + T1_10 + T2_10 + FLAIR_20', data = trainingDat).fit()\n",
    "print(results.summary2())"
   ]
  },
  {
   "cell_type": "code",
   "execution_count": 4,
   "metadata": {
    "colab": {
     "base_uri": "https://localhost:8080/",
     "height": 73
    },
    "colab_type": "code",
    "id": "7UrWqsZAfF1u",
    "outputId": "fce680da-2fbb-476f-a5b9-b013192885b8"
   },
   "outputs": [
    {
     "name": "stderr",
     "output_type": "stream",
     "text": [
      "/home/codespace/.conda/envs/ds4bio/lib/python3.9/site-packages/statsmodels/tsa/tsatools.py:142: FutureWarning: In a future version of pandas all arguments of concat except for the argument 'objs' will be keyword-only\n",
      "  x = pd.concat(x[::order], 1)\n"
     ]
    }
   ],
   "source": [
    "x = dat[['FLAIR','T1', 'T2', 'FLAIR_10', 'T1_10', 'T2_10', 'FLAIR_20']]\n",
    "y = dat[['GOLD_Lesions']]\n",
    "## Add the intercept column\n",
    "x = sm.tools.add_constant(x)\n",
    "\n",
    "xtraining = x[sample]\n",
    "xtesting = x[~sample]\n",
    "ytraining = y[sample]\n",
    "ytesting = y[~sample]\n"
   ]
  },
  {
   "cell_type": "code",
   "execution_count": 5,
   "metadata": {
    "colab": {
     "base_uri": "https://localhost:8080/",
     "height": 71
    },
    "colab_type": "code",
    "id": "MaU1zUQluyFb",
    "outputId": "0bf756bd-d907-413a-a31e-4c92159e4d53"
   },
   "outputs": [
    {
     "name": "stdout",
     "output_type": "stream",
     "text": [
      "Optimization terminated successfully.\n",
      "         Current function value: 0.208373\n",
      "         Iterations 9\n"
     ]
    }
   ],
   "source": [
    "fit = sm.discrete.discrete_model.Logit(ytraining, xtraining).fit()"
   ]
  },
  {
   "cell_type": "code",
   "execution_count": 6,
   "metadata": {
    "colab": {
     "base_uri": "https://localhost:8080/",
     "height": 365
    },
    "colab_type": "code",
    "id": "clrxtIgQvDhJ",
    "outputId": "2fc144fe-1bd0-450b-e180-5788b1ca6769"
   },
   "outputs": [
    {
     "data": {
      "text/html": [
       "<table class=\"simpletable\">\n",
       "<caption>Logit Regression Results</caption>\n",
       "<tr>\n",
       "  <th>Dep. Variable:</th>     <td>GOLD_Lesions</td>   <th>  No. Observations:  </th>  <td>    76</td>  \n",
       "</tr>\n",
       "<tr>\n",
       "  <th>Model:</th>                 <td>Logit</td>      <th>  Df Residuals:      </th>  <td>    68</td>  \n",
       "</tr>\n",
       "<tr>\n",
       "  <th>Method:</th>                 <td>MLE</td>       <th>  Df Model:          </th>  <td>     7</td>  \n",
       "</tr>\n",
       "<tr>\n",
       "  <th>Date:</th>            <td>Sun, 03 Oct 2021</td> <th>  Pseudo R-squ.:     </th>  <td>0.6992</td>  \n",
       "</tr>\n",
       "<tr>\n",
       "  <th>Time:</th>                <td>20:14:57</td>     <th>  Log-Likelihood:    </th> <td> -15.836</td> \n",
       "</tr>\n",
       "<tr>\n",
       "  <th>converged:</th>             <td>True</td>       <th>  LL-Null:           </th> <td> -52.653</td> \n",
       "</tr>\n",
       "<tr>\n",
       "  <th>Covariance Type:</th>     <td>nonrobust</td>    <th>  LLR p-value:       </th> <td>2.716e-13</td>\n",
       "</tr>\n",
       "</table>\n",
       "<table class=\"simpletable\">\n",
       "<tr>\n",
       "      <td></td>        <th>coef</th>     <th>std err</th>      <th>z</th>      <th>P>|z|</th>  <th>[0.025</th>    <th>0.975]</th>  \n",
       "</tr>\n",
       "<tr>\n",
       "  <th>const</th>    <td>   -6.8236</td> <td>    2.692</td> <td>   -2.535</td> <td> 0.011</td> <td>  -12.099</td> <td>   -1.548</td>\n",
       "</tr>\n",
       "<tr>\n",
       "  <th>FLAIR</th>    <td>    3.5229</td> <td>    1.622</td> <td>    2.172</td> <td> 0.030</td> <td>    0.345</td> <td>    6.701</td>\n",
       "</tr>\n",
       "<tr>\n",
       "  <th>T1</th>       <td>    2.8454</td> <td>    1.366</td> <td>    2.084</td> <td> 0.037</td> <td>    0.169</td> <td>    5.522</td>\n",
       "</tr>\n",
       "<tr>\n",
       "  <th>T2</th>       <td>    2.4310</td> <td>    1.335</td> <td>    1.821</td> <td> 0.069</td> <td>   -0.185</td> <td>    5.047</td>\n",
       "</tr>\n",
       "<tr>\n",
       "  <th>FLAIR_10</th> <td>   13.9627</td> <td>    5.297</td> <td>    2.636</td> <td> 0.008</td> <td>    3.581</td> <td>   24.345</td>\n",
       "</tr>\n",
       "<tr>\n",
       "  <th>T1_10</th>    <td>    2.2173</td> <td>    2.018</td> <td>    1.099</td> <td> 0.272</td> <td>   -1.739</td> <td>    6.173</td>\n",
       "</tr>\n",
       "<tr>\n",
       "  <th>T2_10</th>    <td>   -9.7383</td> <td>    4.519</td> <td>   -2.155</td> <td> 0.031</td> <td>  -18.596</td> <td>   -0.881</td>\n",
       "</tr>\n",
       "<tr>\n",
       "  <th>FLAIR_20</th> <td>  -27.4127</td> <td>    9.874</td> <td>   -2.776</td> <td> 0.005</td> <td>  -46.765</td> <td>   -8.061</td>\n",
       "</tr>\n",
       "</table><br/><br/>Possibly complete quasi-separation: A fraction 0.13 of observations can be<br/>perfectly predicted. This might indicate that there is complete<br/>quasi-separation. In this case some parameters will not be identified."
      ],
      "text/plain": [
       "<class 'statsmodels.iolib.summary.Summary'>\n",
       "\"\"\"\n",
       "                           Logit Regression Results                           \n",
       "==============================================================================\n",
       "Dep. Variable:           GOLD_Lesions   No. Observations:                   76\n",
       "Model:                          Logit   Df Residuals:                       68\n",
       "Method:                           MLE   Df Model:                            7\n",
       "Date:                Sun, 03 Oct 2021   Pseudo R-squ.:                  0.6992\n",
       "Time:                        20:14:57   Log-Likelihood:                -15.836\n",
       "converged:                       True   LL-Null:                       -52.653\n",
       "Covariance Type:            nonrobust   LLR p-value:                 2.716e-13\n",
       "==============================================================================\n",
       "                 coef    std err          z      P>|z|      [0.025      0.975]\n",
       "------------------------------------------------------------------------------\n",
       "const         -6.8236      2.692     -2.535      0.011     -12.099      -1.548\n",
       "FLAIR          3.5229      1.622      2.172      0.030       0.345       6.701\n",
       "T1             2.8454      1.366      2.084      0.037       0.169       5.522\n",
       "T2             2.4310      1.335      1.821      0.069      -0.185       5.047\n",
       "FLAIR_10      13.9627      5.297      2.636      0.008       3.581      24.345\n",
       "T1_10          2.2173      2.018      1.099      0.272      -1.739       6.173\n",
       "T2_10         -9.7383      4.519     -2.155      0.031     -18.596      -0.881\n",
       "FLAIR_20     -27.4127      9.874     -2.776      0.005     -46.765      -8.061\n",
       "==============================================================================\n",
       "\n",
       "Possibly complete quasi-separation: A fraction 0.13 of observations can be\n",
       "perfectly predicted. This might indicate that there is complete\n",
       "quasi-separation. In this case some parameters will not be identified.\n",
       "\"\"\""
      ]
     },
     "execution_count": 6,
     "metadata": {},
     "output_type": "execute_result"
    }
   ],
   "source": [
    "fit.summary()"
   ]
  },
  {
   "cell_type": "markdown",
   "metadata": {
    "colab_type": "text",
    "id": "EkCEdWt0xGzn"
   },
   "source": [
    "Now let's evaluate our prediction. Here, we're not going to classify as 0 or 1, but rather estimate the prediction. Note, we then would need to pick a threshold to have a classifier. We could use .5 as our threshold. However, it's often the case that we don't necessarily want to threshold at specifically that level. A solution for evalution is to plot how the sensitivity and specificity change by the threshold. \n",
    "\n",
    "In other words, consider the triplets\n",
    "$$\n",
    "(t, sens(t), spec(t))\n",
    "$$\n",
    "where $t$ is the threshold, `sens(t)` is the sensitivity at threshold $t$, `spec(t)` is the specificity at threshold `t`. \n",
    "\n",
    "Necessarily, the sensitivity and specificity \n",
    "\n"
   ]
  },
  {
   "cell_type": "code",
   "execution_count": 7,
   "metadata": {
    "colab": {
     "base_uri": "https://localhost:8080/",
     "height": 301
    },
    "colab_type": "code",
    "id": "zxlcuTECxCyQ",
    "outputId": "94d8070e-71a3-42f1-a4f4-2a5354602f82"
   },
   "outputs": [
    {
     "data": {
      "image/png": "[encoded data removed]",
      "text/plain": [
       "<Figure size 432x288 with 1 Axes>"
      ]
     },
     "metadata": {
      "filenames": {
       "image/png": "/workspaces/ds4bio_book/book/_build/jupyter_execute/linearSeparable_11_0.png"
      }
     },
     "output_type": "display_data"
    }
   ],
   "source": [
    "phatTesting = fit.predict(xtesting)\n",
    "\n",
    "## See here for plotting\n",
    "## https://stackoverflow.com/questions/25009284/how-to-plot-roc-curve-in-python\n",
    "fpr, tpr, threshold = skl.metrics.roc_curve(ytesting, phatTesting)\n",
    "roc_auc = skl.metrics.auc(fpr, tpr)\n",
    "\n",
    "# method I: plt\n",
    "import matplotlib.pyplot as plt\n",
    "plt.title('Receiver Operating Characteristic')\n",
    "plt.plot(fpr, tpr, 'b', label = 'AUC = %0.2f' % roc_auc)\n",
    "plt.legend(loc = 'lower right')\n",
    "plt.plot([0, 1], [0, 1],'r--')\n",
    "plt.xlim([0, 1])\n",
    "plt.ylim([0, 1])\n",
    "plt.ylabel('True Positive Rate')\n",
    "plt.xlabel('False Positive Rate')\n",
    "plt.show()\n"
   ]
  },
  {
   "cell_type": "markdown",
   "metadata": {
    "colab_type": "text",
    "id": "iaXw2nFg6UoO"
   },
   "source": [
    "## Aside different python packages\n",
    "\n",
    "So far we've explored several plotting libraries including: default pandas methods, matplotlib, seaborn and plotly. We've also looked at several fitting libraries including to some extent numpy, but especially scikitlearn and statsmodels. What's the difference? Well, these packages are all mantained by different people and have different features and goals. For example, scikitlearn is more expansive than statsmodels, but statsmodels functions more like one is used to with statistical output. Matplotlib is very expansive, but seaborn has nicer default options and is a little easier. So, when doing data science with python, one has to get used to trying out a few packages, weighing the cost and benefits of each, and picking one. \n",
    "\n",
    "'statsmodels', what we're using above, has multiple methods for fitting binary models including: `sm.Logit`, `smf.logit`, `BinaryModel` and `glm`. Here I'm just going to use `Logit` which does not use the formula syntax of `logit`. Note, by default, this does not add an intercept this way. So, I'm adding a column of ones, which adds an intercept.\n",
    "\n",
    "Consider the following which uses the formula API\n"
   ]
  },
  {
   "cell_type": "code",
   "execution_count": 8,
   "metadata": {
    "colab": {
     "base_uri": "https://localhost:8080/",
     "height": 420
    },
    "colab_type": "code",
    "id": "yj_2oMxvWC4S",
    "outputId": "22d63911-ebca-429a-b14b-af07c39a59bb"
   },
   "outputs": [
    {
     "name": "stdout",
     "output_type": "stream",
     "text": [
      "Optimization terminated successfully.\n",
      "         Current function value: 0.208373\n",
      "         Iterations 9\n"
     ]
    },
    {
     "data": {
      "text/html": [
       "<table class=\"simpletable\">\n",
       "<caption>Logit Regression Results</caption>\n",
       "<tr>\n",
       "  <th>Dep. Variable:</th>     <td>GOLD_Lesions</td>   <th>  No. Observations:  </th>  <td>    76</td>  \n",
       "</tr>\n",
       "<tr>\n",
       "  <th>Model:</th>                 <td>Logit</td>      <th>  Df Residuals:      </th>  <td>    68</td>  \n",
       "</tr>\n",
       "<tr>\n",
       "  <th>Method:</th>                 <td>MLE</td>       <th>  Df Model:          </th>  <td>     7</td>  \n",
       "</tr>\n",
       "<tr>\n",
       "  <th>Date:</th>            <td>Sun, 03 Oct 2021</td> <th>  Pseudo R-squ.:     </th>  <td>0.6992</td>  \n",
       "</tr>\n",
       "<tr>\n",
       "  <th>Time:</th>                <td>20:14:57</td>     <th>  Log-Likelihood:    </th> <td> -15.836</td> \n",
       "</tr>\n",
       "<tr>\n",
       "  <th>converged:</th>             <td>True</td>       <th>  LL-Null:           </th> <td> -52.653</td> \n",
       "</tr>\n",
       "<tr>\n",
       "  <th>Covariance Type:</th>     <td>nonrobust</td>    <th>  LLR p-value:       </th> <td>2.716e-13</td>\n",
       "</tr>\n",
       "</table>\n",
       "<table class=\"simpletable\">\n",
       "<tr>\n",
       "      <td></td>         <th>coef</th>     <th>std err</th>      <th>z</th>      <th>P>|z|</th>  <th>[0.025</th>    <th>0.975]</th>  \n",
       "</tr>\n",
       "<tr>\n",
       "  <th>Intercept</th> <td>   -6.8236</td> <td>    2.692</td> <td>   -2.535</td> <td> 0.011</td> <td>  -12.099</td> <td>   -1.548</td>\n",
       "</tr>\n",
       "<tr>\n",
       "  <th>FLAIR</th>     <td>    3.5229</td> <td>    1.622</td> <td>    2.172</td> <td> 0.030</td> <td>    0.345</td> <td>    6.701</td>\n",
       "</tr>\n",
       "<tr>\n",
       "  <th>T1</th>        <td>    2.8454</td> <td>    1.366</td> <td>    2.084</td> <td> 0.037</td> <td>    0.169</td> <td>    5.522</td>\n",
       "</tr>\n",
       "<tr>\n",
       "  <th>T2</th>        <td>    2.4310</td> <td>    1.335</td> <td>    1.821</td> <td> 0.069</td> <td>   -0.185</td> <td>    5.047</td>\n",
       "</tr>\n",
       "<tr>\n",
       "  <th>FLAIR_10</th>  <td>   13.9627</td> <td>    5.297</td> <td>    2.636</td> <td> 0.008</td> <td>    3.581</td> <td>   24.345</td>\n",
       "</tr>\n",
       "<tr>\n",
       "  <th>T1_10</th>     <td>    2.2173</td> <td>    2.018</td> <td>    1.099</td> <td> 0.272</td> <td>   -1.739</td> <td>    6.173</td>\n",
       "</tr>\n",
       "<tr>\n",
       "  <th>T2_10</th>     <td>   -9.7383</td> <td>    4.519</td> <td>   -2.155</td> <td> 0.031</td> <td>  -18.596</td> <td>   -0.881</td>\n",
       "</tr>\n",
       "<tr>\n",
       "  <th>FLAIR_20</th>  <td>  -27.4127</td> <td>    9.874</td> <td>   -2.776</td> <td> 0.005</td> <td>  -46.765</td> <td>   -8.061</td>\n",
       "</tr>\n",
       "</table><br/><br/>Possibly complete quasi-separation: A fraction 0.13 of observations can be<br/>perfectly predicted. This might indicate that there is complete<br/>quasi-separation. In this case some parameters will not be identified."
      ],
      "text/plain": [
       "<class 'statsmodels.iolib.summary.Summary'>\n",
       "\"\"\"\n",
       "                           Logit Regression Results                           \n",
       "==============================================================================\n",
       "Dep. Variable:           GOLD_Lesions   No. Observations:                   76\n",
       "Model:                          Logit   Df Residuals:                       68\n",
       "Method:                           MLE   Df Model:                            7\n",
       "Date:                Sun, 03 Oct 2021   Pseudo R-squ.:                  0.6992\n",
       "Time:                        20:14:57   Log-Likelihood:                -15.836\n",
       "converged:                       True   LL-Null:                       -52.653\n",
       "Covariance Type:            nonrobust   LLR p-value:                 2.716e-13\n",
       "==============================================================================\n",
       "                 coef    std err          z      P>|z|      [0.025      0.975]\n",
       "------------------------------------------------------------------------------\n",
       "Intercept     -6.8236      2.692     -2.535      0.011     -12.099      -1.548\n",
       "FLAIR          3.5229      1.622      2.172      0.030       0.345       6.701\n",
       "T1             2.8454      1.366      2.084      0.037       0.169       5.522\n",
       "T2             2.4310      1.335      1.821      0.069      -0.185       5.047\n",
       "FLAIR_10      13.9627      5.297      2.636      0.008       3.581      24.345\n",
       "T1_10          2.2173      2.018      1.099      0.272      -1.739       6.173\n",
       "T2_10         -9.7383      4.519     -2.155      0.031     -18.596      -0.881\n",
       "FLAIR_20     -27.4127      9.874     -2.776      0.005     -46.765      -8.061\n",
       "==============================================================================\n",
       "\n",
       "Possibly complete quasi-separation: A fraction 0.13 of observations can be\n",
       "perfectly predicted. This might indicate that there is complete\n",
       "quasi-separation. In this case some parameters will not be identified.\n",
       "\"\"\""
      ]
     },
     "execution_count": 8,
     "metadata": {},
     "output_type": "execute_result"
    }
   ],
   "source": [
    "results = smf.logit(formula = 'GOLD_Lesions ~ FLAIR + T1 + T2 + FLAIR_10 + T1_10 + T2_10 + FLAIR_20', data = trainingDat).fit()\n",
    "results.summary()"
   ]
  }
 ],
 "metadata": {
  "colab": {
   "include_colab_link": true,
   "name": "Copy of notebook5.ipynb",
   "provenance": []
  },
  "kernelspec": {
   "display_name": "Python 3",
   "name": "python3"
  },
  "language_info": {
   "codemirror_mode": {
    "name": "ipython",
    "version": 3
   },
   "file_extension": ".py",
   "mimetype": "text/x-python",
   "name": "python",
   "nbconvert_exporter": "python",
   "pygments_lexer": "ipython3",
   "version": "3.9.7"
  }
 },
 "nbformat": 4,
 "nbformat_minor": 2
}