{
 "cells": [
  {
   "cell_type": "markdown",
   "id": "153e7339-4486-4f53-973e-16a74ccc0fa7",
   "metadata": {},
   "source": [
    "# Numpy\n",
    "\n",
    "Numpy is an essential core component of doing statistics in python. Numpy basically contains all of the basic mathematical functions that you need. Let's load in some data and work with it a bit. Here we're going to be downloading the cumulative daily case counts of Covid-19 for Italy. (Modify the code in the obvious way to pick another country. The data is from the JHU Covid-19 dashboard, a fantastic data science project from the Center for Systems Science Engineering at JHU.)"
   ]
  },
  {
   "cell_type": "code",
   "execution_count": 1,
   "id": "a1298f96-5b9b-48c1-9c1c-e5873577564a",
   "metadata": {},
   "outputs": [],
   "source": [
    "import pandas as pd\n",
    "import numpy as np\n",
    "import matplotlib.pyplot as plt\n",
    "\n",
    "dat = pd.read_csv('https://raw.githubusercontent.com/CSSEGISandData/COVID-19/master/csse_covid_19_data/csse_covid_19_time_series/time_series_covid19_confirmed_global.csv')\n",
    "## Get Italy, drop everyrthing except dates, convert to long (unstack converts to tuple)\n",
    "Italy = dat[dat['Country/Region'] == 'Italy'].drop([\"Province/State\", \"Country/Region\", \"Lat\", \"Long\"], axis=1).unstack()"
   ]
  },
  {
   "cell_type": "markdown",
   "id": "06d0af9b-0ab3-4933-90b0-8bac7d50c464",
   "metadata": {},
   "source": [
    "Let's create a numpy array from the counts and work with it a bit. First we'll take our data from Italy and convert it from the cumulative case counts to the daily case counts."
   ]
  },
  {
   "cell_type": "code",
   "execution_count": 2,
   "id": "6b137dbe-366e-4319-ab93-717cdd78191d",
   "metadata": {},
   "outputs": [],
   "source": [
    "## convert from tuple to array\n",
    "X = np.asarray(Italy)  \n",
    "## get case counts instead of cumulative counts\n",
    "X = X[1 : X.size] - X[0 : (X.size - 1)]"
   ]
  },
  {
   "cell_type": "markdown",
   "id": "9beb278f-7c9d-4ac8-999a-1e109dfe14d6",
   "metadata": {},
   "source": [
    "Let's get some basic statistical summaries. Note the default is that the standard deviations uses the formula\n",
    "\n",
    "$$\n",
    "\\sqrt{\\frac{1}{N} \\sum_{i=1}^N (X_i - \\bar X)^2}\n",
    "$$\n",
    "\n",
    "rather than\n",
    "$$\n",
    "\\sqrt{\\frac{1}{N-1} \\sum_{i=1}^N (X_i - \\bar X)^2}.\n",
    "$$\n",
    "\n",
    "To get the latter (the unbiased version), set `ddof=1`. Personally, I prefer $N$ as a divisor, though that's a minority opinion. (Between bias or variance of the standard deviation estimate, I'd rather rather have lower variance.)"
   ]
  },
  {
   "cell_type": "code",
   "execution_count": 3,
   "id": "42311987-0f3d-4de6-882b-3ffa4192e97a",
   "metadata": {},
   "outputs": [
    {
     "name": "stdout",
     "output_type": "stream",
     "text": [
      "Mean         : 19498.39\n",
      "Std (biased) : 35590.55\n"
     ]
    }
   ],
   "source": [
    "print(\"Mean         : \" + str(np.round(X.mean(), 2))) \n",
    "print(\"Std (biased) : \" + str(np.round(X.std() , 2)))"
   ]
  },
  {
   "cell_type": "markdown",
   "id": "675f30eb-6021-4955-8400-6b1a56a9b73f",
   "metadata": {},
   "source": [
    "Numpy has a linear algebra library. Let's calculate a distributed lag model using numpy (typically you would use this with regression software). A distributed lag model is of the form:\n",
    "\n",
    "$$\n",
    "Y_t = \\alpha + \\sum_{i=1}^p \\beta_i Y_{t-i} + \\epsilon_i\n",
    "$$\n",
    "\n",
    "First, let's create the lagged matrix considering 3 lags."
   ]
  },
  {
   "cell_type": "code",
   "execution_count": 4,
   "id": "7b050658-1ea2-4709-acff-9008442a7ca6",
   "metadata": {},
   "outputs": [
    {
     "data": {
      "text/plain": [
       "array([[ 1., nan, nan, nan],\n",
       "       [ 1.,  0., nan, nan],\n",
       "       [ 1.,  0.,  0., nan],\n",
       "       [ 1.,  0.,  0.,  0.],\n",
       "       [ 1.,  0.,  0.,  0.],\n",
       "       [ 1.,  0.,  0.,  0.],\n",
       "       [ 1.,  0.,  0.,  0.],\n",
       "       [ 1.,  0.,  0.,  0.],\n",
       "       [ 1.,  0.,  0.,  0.],\n",
       "       [ 1.,  0.,  0.,  0.]])"
      ]
     },
     "execution_count": 4,
     "metadata": {},
     "output_type": "execute_result"
    }
   ],
   "source": [
    "## Create a matrix of three lagged versions\n",
    "X = np.array([ Italy.shift(1), Italy.shift(2), Italy.shift(3)]).transpose()\n",
    "## Add a vector of ones\n",
    "itc = np.ones( (X.shape[0], 1) )\n",
    "X = np.concatenate( (itc, X), axis = 1)\n",
    "\n",
    "## Visualize the results\n",
    "X[0 : 10,:]"
   ]
  },
  {
   "cell_type": "markdown",
   "id": "54e89918-4f45-4f81-bb6c-b5676862f4e6",
   "metadata": {},
   "source": [
    "Let's get rid of the three NA rows."
   ]
  },
  {
   "cell_type": "code",
   "execution_count": 5,
   "id": "a8c07d46-32aa-4a4a-8ab9-c2498592cc0e",
   "metadata": {},
   "outputs": [
    {
     "data": {
      "text/plain": [
       "False"
      ]
     },
     "execution_count": 5,
     "metadata": {},
     "output_type": "execute_result"
    }
   ],
   "source": [
    "X = X[ 3 : X.shape[0], :]\n",
    "np.any(np.isnan(X))"
   ]
  },
  {
   "cell_type": "code",
   "execution_count": 6,
   "id": "b483458c-6b83-4c70-bf93-b3b52451bb38",
   "metadata": {},
   "outputs": [
    {
     "data": {
      "text/plain": [
       "[(819,), (819, 4)]"
      ]
     },
     "execution_count": 6,
     "metadata": {},
     "output_type": "execute_result"
    }
   ],
   "source": [
    "## Create the Y vector\n",
    "Y = np.array(Italy[ 3 : Italy.shape[0]])\n",
    "[Y.shape, X.shape]"
   ]
  },
  {
   "cell_type": "markdown",
   "id": "da0691c9-5243-477d-9ab4-add68ab3fac2",
   "metadata": {},
   "source": [
    "The matrix formula for minimizing the least squares regression model,\n",
    "\n",
    "$$\n",
    "|| Y - X \\beta||^2\n",
    "$$\n",
    "\n",
    "is given by\n",
    "\n",
    "$$\n",
    "\\hat \\beta = (X' X)^{-1} X' Y\n",
    "$$\n",
    "\n",
    "Let's do this in numpy. Let's find the estimated regression coefficients using the formula above. We'll use the following functions\n",
    "\n",
    "* `matmul(A,B)` is the matrix multiplication of `A` and `B`\n",
    "* `A.T` is the transpose of `A`, labeled above as $A'$\n",
    "* `inv(A)` is the matrix inverse of `A`, labeled above as $A^{-1}$ "
   ]
  },
  {
   "cell_type": "code",
   "execution_count": 7,
   "id": "51a8b520-bc4b-4a39-87b2-7703d5c6835a",
   "metadata": {},
   "outputs": [
    {
     "data": {
      "text/plain": [
       "array([246.66090407,   1.6020935 ,  -0.28435915,  -0.31733819])"
      ]
     },
     "execution_count": 7,
     "metadata": {},
     "output_type": "execute_result"
    }
   ],
   "source": [
    "np.matmul(np.matmul(np.linalg.inv(np.matmul(X.T, X)), X.T), Y)"
   ]
  },
  {
   "cell_type": "markdown",
   "id": "59565d15-2847-49cf-a2b6-cad9d5c23d92",
   "metadata": {},
   "source": [
    "Of course, we don't tend to do things this way. If needed, we'd use lstsq."
   ]
  },
  {
   "cell_type": "code",
   "execution_count": 8,
   "id": "953f559a-f888-44b2-8ea9-b88d972e16d3",
   "metadata": {},
   "outputs": [
    {
     "data": {
      "text/plain": [
       "array([246.66098618,   1.6020935 ,  -0.28435915,  -0.31733819])"
      ]
     },
     "execution_count": 8,
     "metadata": {},
     "output_type": "execute_result"
    }
   ],
   "source": [
    "np.linalg.lstsq(X, Y, rcond = None)[0]"
   ]
  },
  {
   "cell_type": "markdown",
   "id": "1a5bf2f6-9f77-4fa2-a7bd-21fb44e146ae",
   "metadata": {},
   "source": [
    "Typically, we wouldn't do any of this for this problem, since high level regression models exist already. For exmaple, sklearn's linear_model module)"
   ]
  },
  {
   "cell_type": "code",
   "execution_count": 14,
   "id": "29ca038d-19ed-4839-8e6b-a1391adbf8a1",
   "metadata": {},
   "outputs": [
    {
     "data": {
      "text/plain": [
       "array([246.66098618,   1.6020935 ,  -0.28435915,  -0.31733819])"
      ]
     },
     "execution_count": 14,
     "metadata": {},
     "output_type": "execute_result"
    }
   ],
   "source": [
    "from sklearn import linear_model\n",
    "\n",
    "model = linear_model.LinearRegression(fit_intercept = False)\n",
    "fit = model.fit(X, Y)\n",
    "fit.coef_"
   ]
  }
 ],
 "metadata": {
  "kernelspec": {
   "display_name": "Python [conda env:.conda-ds4bio]",
   "language": "python",
   "name": "conda-env-.conda-ds4bio-py"
  },
  "language_info": {
   "codemirror_mode": {
    "name": "ipython",
    "version": 3
   },
   "file_extension": ".py",
   "mimetype": "text/x-python",
   "name": "python",
   "nbconvert_exporter": "python",
   "pygments_lexer": "ipython3",
   "version": "3.10.4"
  }
 },
 "nbformat": 4,
 "nbformat_minor": 5
}