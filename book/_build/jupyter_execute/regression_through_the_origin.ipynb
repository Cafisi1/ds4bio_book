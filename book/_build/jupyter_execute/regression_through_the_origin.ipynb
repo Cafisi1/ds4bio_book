{
 "cells": [
  {
   "cell_type": "markdown",
   "metadata": {
    "colab_type": "text",
    "id": "view-in-github"
   },
   "source": [
    "<a href=\"https://colab.research.google.com/github/bcaffo/ds4bme_intro/blob/master/notebooks/regression_through_the_origin.ipynb\" target=\"_parent\"><img src=\"https://colab.research.google.com/assets/colab-badge.svg\" alt=\"Open In Colab\"/></a>"
   ]
  },
  {
   "cell_type": "markdown",
   "metadata": {},
   "source": [
    "# Regression through the origin\n",
    "\n",
    "In this notebook, we investigate a simple poblem where we'd like to use one scaled regressor to predict another. That is, let $Y_1, \\ldots Y_n$ be a collection of variables we'd like to predict and $X_1, \\ldots, X_n$ be predictors. Consider minimizing\n",
    "\n",
    "$$\n",
    "l = \\sum_i ( Y_i - \\beta X_i)^2 = || Y - \\beta X||^2.\n",
    "$$\n",
    "\n",
    "Taking a derivative of $l$ with respect to $\\beta$ yields \n",
    "\n",
    "$$\n",
    "l' = - \\sum_i 2 (Y_i - \\beta X_i) X_i.\n",
    "$$\n",
    "\n",
    "If we set this equal to zero and solve for beta we obtain the classic solution:\n",
    "\n",
    "$$\n",
    "\\hat \\beta = \\frac{\\sum_i Y_i X_i}{\\sum_i X_i^2} = \\frac{<Y, X>}{||X||^2}.\n",
    "$$\n",
    "\n",
    "Note further, if we take a second derivative we get\n",
    "\n",
    "$$\n",
    "l'' = \\sum_i 2 x_i^2  \n",
    "$$\n",
    "\n",
    "which is strictly positive unless all of the $x_i$ are zero (a case of zero variation in the predictor where regresssion is uninteresting). Regression through the origin is a very useful version of regression, but it's quite limited in its application. Rarely do we want to fit a line that is forced to go through the origin, or stated equivalently, rarely do we want a prediction algorithm for\n",
    "$Y$ that is simply a scale change of $X$. Typically, we at least also want an intercept. In the example that follows, we'll address this by centering the data so that the origin is the mean of the $Y$ and the mean of the $X$. As it turns out, this is the same as fitting the intercept, but we'll do that more formally in the next section.\n",
    "\n",
    "First let's load the necessary packages."
   ]
  },
  {
   "cell_type": "code",
   "execution_count": 1,
   "metadata": {
    "colab": {},
    "colab_type": "code",
    "id": "SXdTawbDmq7p"
   },
   "outputs": [],
   "source": [
    "\n",
    "import pandas as pd\n",
    "import numpy as np\n",
    "import matplotlib.pyplot as plt\n"
   ]
  },
  {
   "cell_type": "markdown",
   "metadata": {},
   "source": [
    "Now let's download and read in the data."
   ]
  },
  {
   "cell_type": "code",
   "execution_count": 2,
   "metadata": {
    "colab": {
     "base_uri": "https://localhost:8080/",
     "height": 201
    },
    "colab_type": "code",
    "id": "z_P87xbFm05p",
    "outputId": "a2b65327-5b42-4d24-b26a-4fd6c957f94c"
   },
   "outputs": [
    {
     "data": {
      "text/html": [
       "<div>\n",
       "<style scoped>\n",
       "    .dataframe tbody tr th:only-of-type {\n",
       "        vertical-align: middle;\n",
       "    }\n",
       "\n",
       "    .dataframe tbody tr th {\n",
       "        vertical-align: top;\n",
       "    }\n",
       "\n",
       "    .dataframe thead th {\n",
       "        text-align: right;\n",
       "    }\n",
       "</style>\n",
       "<table border=\"1\" class=\"dataframe\">\n",
       "  <thead>\n",
       "    <tr style=\"text-align: right;\">\n",
       "      <th></th>\n",
       "      <th>FLAIR</th>\n",
       "      <th>PD</th>\n",
       "      <th>T1</th>\n",
       "      <th>T2</th>\n",
       "      <th>FLAIR_10</th>\n",
       "      <th>PD_10</th>\n",
       "      <th>T1_10</th>\n",
       "      <th>T2_10</th>\n",
       "      <th>FLAIR_20</th>\n",
       "      <th>PD_20</th>\n",
       "      <th>T1_20</th>\n",
       "      <th>T2_20</th>\n",
       "      <th>GOLD_Lesions</th>\n",
       "    </tr>\n",
       "  </thead>\n",
       "  <tbody>\n",
       "    <tr>\n",
       "      <th>0</th>\n",
       "      <td>1.143692</td>\n",
       "      <td>1.586219</td>\n",
       "      <td>-0.799859</td>\n",
       "      <td>1.634467</td>\n",
       "      <td>0.437568</td>\n",
       "      <td>0.823800</td>\n",
       "      <td>-0.002059</td>\n",
       "      <td>0.573663</td>\n",
       "      <td>0.279832</td>\n",
       "      <td>0.548341</td>\n",
       "      <td>0.219136</td>\n",
       "      <td>0.298662</td>\n",
       "      <td>0</td>\n",
       "    </tr>\n",
       "    <tr>\n",
       "      <th>1</th>\n",
       "      <td>1.652552</td>\n",
       "      <td>1.766672</td>\n",
       "      <td>-1.250992</td>\n",
       "      <td>0.921230</td>\n",
       "      <td>0.663037</td>\n",
       "      <td>0.880250</td>\n",
       "      <td>-0.422060</td>\n",
       "      <td>0.542597</td>\n",
       "      <td>0.422182</td>\n",
       "      <td>0.549711</td>\n",
       "      <td>0.061573</td>\n",
       "      <td>0.280972</td>\n",
       "      <td>0</td>\n",
       "    </tr>\n",
       "    <tr>\n",
       "      <th>2</th>\n",
       "      <td>1.036099</td>\n",
       "      <td>0.262042</td>\n",
       "      <td>-0.858565</td>\n",
       "      <td>-0.058211</td>\n",
       "      <td>-0.044280</td>\n",
       "      <td>-0.308569</td>\n",
       "      <td>0.014766</td>\n",
       "      <td>-0.256075</td>\n",
       "      <td>-0.136532</td>\n",
       "      <td>-0.350905</td>\n",
       "      <td>0.020673</td>\n",
       "      <td>-0.259914</td>\n",
       "      <td>0</td>\n",
       "    </tr>\n",
       "    <tr>\n",
       "      <th>3</th>\n",
       "      <td>1.037692</td>\n",
       "      <td>0.011104</td>\n",
       "      <td>-1.228796</td>\n",
       "      <td>-0.470222</td>\n",
       "      <td>-0.013971</td>\n",
       "      <td>-0.000498</td>\n",
       "      <td>-0.395575</td>\n",
       "      <td>-0.221900</td>\n",
       "      <td>0.000807</td>\n",
       "      <td>-0.003085</td>\n",
       "      <td>-0.193249</td>\n",
       "      <td>-0.139284</td>\n",
       "      <td>0</td>\n",
       "    </tr>\n",
       "    <tr>\n",
       "      <th>4</th>\n",
       "      <td>1.580589</td>\n",
       "      <td>1.730152</td>\n",
       "      <td>-0.860949</td>\n",
       "      <td>1.245609</td>\n",
       "      <td>0.617957</td>\n",
       "      <td>0.866352</td>\n",
       "      <td>-0.099919</td>\n",
       "      <td>0.384261</td>\n",
       "      <td>0.391133</td>\n",
       "      <td>0.608826</td>\n",
       "      <td>0.071648</td>\n",
       "      <td>0.340601</td>\n",
       "      <td>0</td>\n",
       "    </tr>\n",
       "  </tbody>\n",
       "</table>\n",
       "</div>"
      ],
      "text/plain": [
       "      FLAIR        PD        T1        T2  FLAIR_10     PD_10     T1_10  \\\n",
       "0  1.143692  1.586219 -0.799859  1.634467  0.437568  0.823800 -0.002059   \n",
       "1  1.652552  1.766672 -1.250992  0.921230  0.663037  0.880250 -0.422060   \n",
       "2  1.036099  0.262042 -0.858565 -0.058211 -0.044280 -0.308569  0.014766   \n",
       "3  1.037692  0.011104 -1.228796 -0.470222 -0.013971 -0.000498 -0.395575   \n",
       "4  1.580589  1.730152 -0.860949  1.245609  0.617957  0.866352 -0.099919   \n",
       "\n",
       "      T2_10  FLAIR_20     PD_20     T1_20     T2_20  GOLD_Lesions  \n",
       "0  0.573663  0.279832  0.548341  0.219136  0.298662             0  \n",
       "1  0.542597  0.422182  0.549711  0.061573  0.280972             0  \n",
       "2 -0.256075 -0.136532 -0.350905  0.020673 -0.259914             0  \n",
       "3 -0.221900  0.000807 -0.003085 -0.193249 -0.139284             0  \n",
       "4  0.384261  0.391133  0.608826  0.071648  0.340601             0  "
      ]
     },
     "execution_count": 2,
     "metadata": {},
     "output_type": "execute_result"
    }
   ],
   "source": [
    "dat = pd.read_csv(\"https://raw.githubusercontent.com/bcaffo/ds4bme_intro/master/data/oasis.csv\")\n",
    "dat.head()"
   ]
  },
  {
   "cell_type": "markdown",
   "metadata": {},
   "source": [
    "It's almost always a good idea to plot the data before fitting the model."
   ]
  },
  {
   "cell_type": "code",
   "execution_count": 3,
   "metadata": {
    "colab": {
     "base_uri": "https://localhost:8080/",
     "height": 283
    },
    "colab_type": "code",
    "id": "YIWNN3y_nBmi",
    "outputId": "80b6c4d1-301f-46a2-c481-9c4ac2598881"
   },
   "outputs": [
    {
     "data": {
      "text/plain": [
       "[<matplotlib.lines.Line2D at 0x7fc88367e700>]"
      ]
     },
     "execution_count": 3,
     "metadata": {},
     "output_type": "execute_result"
    },
    {
     "data": {
      "image/png": "[encoded data removed]",
      "text/plain": [
       "<Figure size 432x288 with 1 Axes>"
      ]
     },
     "metadata": {
      "filenames": {
       "image/png": "/workspaces/ds4bio_book/book/_build/jupyter_execute/regression_through_the_origin_6_1.png"
      },
      "needs_background": "light"
     },
     "output_type": "display_data"
    }
   ],
   "source": [
    "x = dat.T2\n",
    "y = dat.PD\n",
    "plt.plot(x, y, 'o')"
   ]
  },
  {
   "cell_type": "markdown",
   "metadata": {},
   "source": [
    "Now, let's center the data as we mentioned so that it seems more reasonable to have the line go through the origin. Notice here, the middle of the data, both $Y$ and $X$, is right at (0, 0). "
   ]
  },
  {
   "cell_type": "code",
   "execution_count": 4,
   "metadata": {
    "colab": {
     "base_uri": "https://localhost:8080/",
     "height": 283
    },
    "colab_type": "code",
    "id": "4eAoOR9SndVn",
    "outputId": "bfa8f7a6-cd13-4af9-cfa0-015f89fb4909"
   },
   "outputs": [
    {
     "data": {
      "text/plain": [
       "[<matplotlib.lines.Line2D at 0x7fc882dea160>]"
      ]
     },
     "execution_count": 4,
     "metadata": {},
     "output_type": "execute_result"
    },
    {
     "data": {
      "image/png": "[encoded data removed]",
      "text/plain": [
       "<Figure size 432x288 with 1 Axes>"
      ]
     },
     "metadata": {
      "filenames": {
       "image/png": "/workspaces/ds4bio_book/book/_build/jupyter_execute/regression_through_the_origin_8_1.png"
      },
      "needs_background": "light"
     },
     "output_type": "display_data"
    }
   ],
   "source": [
    "x = x - np.mean(x)\n",
    "y = y - np.mean(y)\n",
    "plt.plot(x, y, 'o')"
   ]
  },
  {
   "cell_type": "markdown",
   "metadata": {},
   "source": [
    "Here's our slope estimate according to our formula."
   ]
  },
  {
   "cell_type": "code",
   "execution_count": 5,
   "metadata": {
    "colab": {
     "base_uri": "https://localhost:8080/",
     "height": 35
    },
    "colab_type": "code",
    "id": "QneMf54BpAg0",
    "outputId": "0fb08a46-bdae-48b0-822b-3223ee00967d"
   },
   "outputs": [
    {
     "data": {
      "text/plain": [
       "0.7831514763656"
      ]
     },
     "execution_count": 5,
     "metadata": {},
     "output_type": "execute_result"
    }
   ],
   "source": [
    "b = sum(y * x) / sum(x ** 2 )\n",
    "b"
   ]
  },
  {
   "cell_type": "markdown",
   "metadata": {},
   "source": [
    "Let's plot it so to see how it did. It looks good. Now let's see if we can do a line that doesn't necessarily have to go through the origin."
   ]
  },
  {
   "cell_type": "code",
   "execution_count": 6,
   "metadata": {
    "colab": {
     "base_uri": "https://localhost:8080/",
     "height": 283
    },
    "colab_type": "code",
    "id": "N88itcqLpM20",
    "outputId": "692e5d49-6eaf-45f7-920b-d0b91384b77b"
   },
   "outputs": [
    {
     "data": {
      "text/plain": [
       "[<matplotlib.lines.Line2D at 0x7fc882d53fd0>]"
      ]
     },
     "execution_count": 6,
     "metadata": {},
     "output_type": "execute_result"
    },
    {
     "data": {
      "image/png": "[encoded data removed]",
      "text/plain": [
       "<Figure size 432x288 with 1 Axes>"
      ]
     },
     "metadata": {
      "filenames": {
       "image/png": "/workspaces/ds4bio_book/book/_build/jupyter_execute/regression_through_the_origin_12_1.png"
      },
      "needs_background": "light"
     },
     "output_type": "display_data"
    }
   ],
   "source": [
    "plt.plot(x, y, 'o')\n",
    "t = np.array([-1.5, 2.5])\n",
    "plt.plot(t, t * b)"
   ]
  }
 ],
 "metadata": {
  "colab": {
   "authorship_tag": "ABX9TyOKHYc47ZJyl0IPyt5p0mYA",
   "include_colab_link": true,
   "name": "Regression through the origin.ipynb",
   "provenance": []
  },
  "kernelspec": {
   "display_name": "Python 3",
   "name": "python3"
  },
  "language_info": {
   "codemirror_mode": {
    "name": "ipython",
    "version": 3
   },
   "file_extension": ".py",
   "mimetype": "text/x-python",
   "name": "python",
   "nbconvert_exporter": "python",
   "pygments_lexer": "ipython3",
   "version": "3.9.7"
  }
 },
 "nbformat": 4,
 "nbformat_minor": 2
}