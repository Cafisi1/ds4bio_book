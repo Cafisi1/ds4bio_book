{
 "cells": [
  {
   "cell_type": "markdown",
   "metadata": {
    "colab_type": "text",
    "id": "view-in-github"
   },
   "source": [
    "<a href=\"https://colab.research.google.com/github/smart-stats/ds4bio_book/blob/main/book/basic_regression_pytorch.ipynb\" target=\"_parent\"><img src=\"https://colab.research.google.com/assets/colab-badge.svg\" alt=\"Open In Colab\"/></a>"
   ]
  },
  {
   "cell_type": "markdown",
   "metadata": {},
   "source": [
    "# Basic regression in pytorch"
   ]
  },
  {
   "cell_type": "code",
   "execution_count": 1,
   "metadata": {
    "colab": {
     "base_uri": "https://localhost:8080/",
     "height": 192
    },
    "colab_type": "code",
    "id": "6nKZWgTDvTTK",
    "outputId": "b31d9b45-3526-4922-f687-6ead41d98990"
   },
   "outputs": [
    {
     "name": "stdout",
     "output_type": "stream",
     "text": [
      "--2021-10-03 19:23:20--  https://raw.githubusercontent.com/bcaffo/ds4bme_intro/master/data/oasis.csv\r\n"
     ]
    },
    {
     "name": "stdout",
     "output_type": "stream",
     "text": [
      "Resolving raw.githubusercontent.com (raw.githubusercontent.com)... 185.199.110.133, 185.199.109.133, 185.199.108.133, ...\r\n",
      "Connecting to raw.githubusercontent.com (raw.githubusercontent.com)|185.199.110.133|:443... connected.\r\n",
      "HTTP request sent, awaiting response... "
     ]
    },
    {
     "name": "stdout",
     "output_type": "stream",
     "text": [
      "200 OK\r\n",
      "Length: 22274 (22K) [text/plain]\r\n",
      "Saving to: ‘oasis.csv’\r\n",
      "\r\n",
      "\r",
      "oasis.csv             0%[                    ]       0  --.-KB/s               \r",
      "oasis.csv           100%[===================>]  21.75K  --.-KB/s    in 0.003s  \r\n",
      "\r\n",
      "2021-10-03 19:23:20 (6.31 MB/s) - ‘oasis.csv’ saved [22274/22274]\r\n",
      "\r\n"
     ]
    },
    {
     "data": {
      "text/html": [
       "<div>\n",
       "<style scoped>\n",
       "    .dataframe tbody tr th:only-of-type {\n",
       "        vertical-align: middle;\n",
       "    }\n",
       "\n",
       "    .dataframe tbody tr th {\n",
       "        vertical-align: top;\n",
       "    }\n",
       "\n",
       "    .dataframe thead th {\n",
       "        text-align: right;\n",
       "    }\n",
       "</style>\n",
       "<table border=\"1\" class=\"dataframe\">\n",
       "  <thead>\n",
       "    <tr style=\"text-align: right;\">\n",
       "      <th></th>\n",
       "      <th>FLAIR</th>\n",
       "      <th>PD</th>\n",
       "      <th>T1</th>\n",
       "      <th>T2</th>\n",
       "      <th>FLAIR_10</th>\n",
       "      <th>PD_10</th>\n",
       "      <th>T1_10</th>\n",
       "      <th>T2_10</th>\n",
       "      <th>FLAIR_20</th>\n",
       "      <th>PD_20</th>\n",
       "      <th>T1_20</th>\n",
       "      <th>T2_20</th>\n",
       "      <th>GOLD_Lesions</th>\n",
       "    </tr>\n",
       "  </thead>\n",
       "  <tbody>\n",
       "    <tr>\n",
       "      <th>0</th>\n",
       "      <td>1.143692</td>\n",
       "      <td>1.586219</td>\n",
       "      <td>-0.799859</td>\n",
       "      <td>1.634467</td>\n",
       "      <td>0.437568</td>\n",
       "      <td>0.823800</td>\n",
       "      <td>-0.002059</td>\n",
       "      <td>0.573663</td>\n",
       "      <td>0.279832</td>\n",
       "      <td>0.548341</td>\n",
       "      <td>0.219136</td>\n",
       "      <td>0.298662</td>\n",
       "      <td>0</td>\n",
       "    </tr>\n",
       "    <tr>\n",
       "      <th>1</th>\n",
       "      <td>1.652552</td>\n",
       "      <td>1.766672</td>\n",
       "      <td>-1.250992</td>\n",
       "      <td>0.921230</td>\n",
       "      <td>0.663037</td>\n",
       "      <td>0.880250</td>\n",
       "      <td>-0.422060</td>\n",
       "      <td>0.542597</td>\n",
       "      <td>0.422182</td>\n",
       "      <td>0.549711</td>\n",
       "      <td>0.061573</td>\n",
       "      <td>0.280972</td>\n",
       "      <td>0</td>\n",
       "    </tr>\n",
       "    <tr>\n",
       "      <th>2</th>\n",
       "      <td>1.036099</td>\n",
       "      <td>0.262042</td>\n",
       "      <td>-0.858565</td>\n",
       "      <td>-0.058211</td>\n",
       "      <td>-0.044280</td>\n",
       "      <td>-0.308569</td>\n",
       "      <td>0.014766</td>\n",
       "      <td>-0.256075</td>\n",
       "      <td>-0.136532</td>\n",
       "      <td>-0.350905</td>\n",
       "      <td>0.020673</td>\n",
       "      <td>-0.259914</td>\n",
       "      <td>0</td>\n",
       "    </tr>\n",
       "    <tr>\n",
       "      <th>3</th>\n",
       "      <td>1.037692</td>\n",
       "      <td>0.011104</td>\n",
       "      <td>-1.228796</td>\n",
       "      <td>-0.470222</td>\n",
       "      <td>-0.013971</td>\n",
       "      <td>-0.000498</td>\n",
       "      <td>-0.395575</td>\n",
       "      <td>-0.221900</td>\n",
       "      <td>0.000807</td>\n",
       "      <td>-0.003085</td>\n",
       "      <td>-0.193249</td>\n",
       "      <td>-0.139284</td>\n",
       "      <td>0</td>\n",
       "    </tr>\n",
       "  </tbody>\n",
       "</table>\n",
       "</div>"
      ],
      "text/plain": [
       "      FLAIR        PD        T1        T2  FLAIR_10     PD_10     T1_10  \\\n",
       "0  1.143692  1.586219 -0.799859  1.634467  0.437568  0.823800 -0.002059   \n",
       "1  1.652552  1.766672 -1.250992  0.921230  0.663037  0.880250 -0.422060   \n",
       "2  1.036099  0.262042 -0.858565 -0.058211 -0.044280 -0.308569  0.014766   \n",
       "3  1.037692  0.011104 -1.228796 -0.470222 -0.013971 -0.000498 -0.395575   \n",
       "\n",
       "      T2_10  FLAIR_20     PD_20     T1_20     T2_20  GOLD_Lesions  \n",
       "0  0.573663  0.279832  0.548341  0.219136  0.298662             0  \n",
       "1  0.542597  0.422182  0.549711  0.061573  0.280972             0  \n",
       "2 -0.256075 -0.136532 -0.350905  0.020673 -0.259914             0  \n",
       "3 -0.221900  0.000807 -0.003085 -0.193249 -0.139284             0  "
      ]
     },
     "execution_count": 1,
     "metadata": {},
     "output_type": "execute_result"
    }
   ],
   "source": [
    "import pandas as pd\n",
    "import torch\n",
    "import statsmodels.formula.api as smf\n",
    "import statsmodels as sm\n",
    "import seaborn as sns\n",
    "import matplotlib.pyplot as plt\n",
    "\n",
    "\n",
    "## Download in the data if it's not already there\n",
    "! if [ ! -e oasis.csv ];\\\n",
    "  then wget https://raw.githubusercontent.com/bcaffo/ds4bme_intro/master/data/oasis.csv; \\\n",
    "fi;\n",
    "\n",
    "## Read in the data and display a few rows\n",
    "dat = pd.read_csv(\"oasis.csv\")\n",
    "dat.head(4)\n"
   ]
  },
  {
   "cell_type": "code",
   "execution_count": 2,
   "metadata": {
    "colab": {
     "base_uri": "https://localhost:8080/",
     "height": 301
    },
    "colab_type": "code",
    "id": "LtzlgJCu4zbX",
    "outputId": "8d58679e-d010-4145-c01e-272b05542f61"
   },
   "outputs": [
    {
     "name": "stderr",
     "output_type": "stream",
     "text": [
      "/home/codespace/.conda/envs/ds4bio/lib/python3.9/site-packages/seaborn/_decorators.py:36: FutureWarning: Pass the following variables as keyword args: x, y. From version 0.12, the only valid positional argument will be `data`, and passing other arguments without an explicit keyword will result in an error or misinterpretation.\n",
      "  warnings.warn(\n"
     ]
    },
    {
     "data": {
      "text/plain": [
       "<AxesSubplot:xlabel='T2', ylabel='PD'>"
      ]
     },
     "execution_count": 2,
     "metadata": {},
     "output_type": "execute_result"
    },
    {
     "data": {
      "image/png": "[encoded data removed]",
      "text/plain": [
       "<Figure size 432x288 with 1 Axes>"
      ]
     },
     "metadata": {
      "filenames": {
       "image/png": "/workspaces/ds4bio_book/book/_build/jupyter_execute/basic_regression_pytorch_3_2.png"
      },
      "needs_background": "light"
     },
     "output_type": "display_data"
    }
   ],
   "source": [
    "sns.scatterplot(dat['T2'], dat['PD'])"
   ]
  },
  {
   "cell_type": "code",
   "execution_count": 3,
   "metadata": {
    "colab": {
     "base_uri": "https://localhost:8080/",
     "height": 435
    },
    "colab_type": "code",
    "id": "ehiVfmYHJ4EL",
    "outputId": "b671b7a2-a869-46ab-88da-aa1fade74ae1"
   },
   "outputs": [
    {
     "data": {
      "text/html": [
       "<table class=\"simpletable\">\n",
       "<caption>OLS Regression Results</caption>\n",
       "<tr>\n",
       "  <th>Dep. Variable:</th>           <td>PD</td>        <th>  R-squared:         </th> <td>   0.661</td>\n",
       "</tr>\n",
       "<tr>\n",
       "  <th>Model:</th>                   <td>OLS</td>       <th>  Adj. R-squared:    </th> <td>   0.657</td>\n",
       "</tr>\n",
       "<tr>\n",
       "  <th>Method:</th>             <td>Least Squares</td>  <th>  F-statistic:       </th> <td>   190.9</td>\n",
       "</tr>\n",
       "<tr>\n",
       "  <th>Date:</th>             <td>Sun, 03 Oct 2021</td> <th>  Prob (F-statistic):</th> <td>9.77e-25</td>\n",
       "</tr>\n",
       "<tr>\n",
       "  <th>Time:</th>                 <td>19:23:21</td>     <th>  Log-Likelihood:    </th> <td> -57.347</td>\n",
       "</tr>\n",
       "<tr>\n",
       "  <th>No. Observations:</th>      <td>   100</td>      <th>  AIC:               </th> <td>   118.7</td>\n",
       "</tr>\n",
       "<tr>\n",
       "  <th>Df Residuals:</th>          <td>    98</td>      <th>  BIC:               </th> <td>   123.9</td>\n",
       "</tr>\n",
       "<tr>\n",
       "  <th>Df Model:</th>              <td>     1</td>      <th>                     </th>     <td> </td>   \n",
       "</tr>\n",
       "<tr>\n",
       "  <th>Covariance Type:</th>      <td>nonrobust</td>    <th>                     </th>     <td> </td>   \n",
       "</tr>\n",
       "</table>\n",
       "<table class=\"simpletable\">\n",
       "<tr>\n",
       "      <td></td>         <th>coef</th>     <th>std err</th>      <th>t</th>      <th>P>|t|</th>  <th>[0.025</th>    <th>0.975]</th>  \n",
       "</tr>\n",
       "<tr>\n",
       "  <th>Intercept</th> <td>    0.3138</td> <td>    0.052</td> <td>    6.010</td> <td> 0.000</td> <td>    0.210</td> <td>    0.417</td>\n",
       "</tr>\n",
       "<tr>\n",
       "  <th>T2</th>        <td>    0.7832</td> <td>    0.057</td> <td>   13.815</td> <td> 0.000</td> <td>    0.671</td> <td>    0.896</td>\n",
       "</tr>\n",
       "</table>\n",
       "<table class=\"simpletable\">\n",
       "<tr>\n",
       "  <th>Omnibus:</th>       <td> 1.171</td> <th>  Durbin-Watson:     </th> <td>   1.501</td>\n",
       "</tr>\n",
       "<tr>\n",
       "  <th>Prob(Omnibus):</th> <td> 0.557</td> <th>  Jarque-Bera (JB):  </th> <td>   0.972</td>\n",
       "</tr>\n",
       "<tr>\n",
       "  <th>Skew:</th>          <td> 0.241</td> <th>  Prob(JB):          </th> <td>   0.615</td>\n",
       "</tr>\n",
       "<tr>\n",
       "  <th>Kurtosis:</th>      <td> 2.995</td> <th>  Cond. No.          </th> <td>    1.89</td>\n",
       "</tr>\n",
       "</table><br/><br/>Notes:<br/>[1] Standard Errors assume that the covariance matrix of the errors is correctly specified."
      ],
      "text/plain": [
       "<class 'statsmodels.iolib.summary.Summary'>\n",
       "\"\"\"\n",
       "                            OLS Regression Results                            \n",
       "==============================================================================\n",
       "Dep. Variable:                     PD   R-squared:                       0.661\n",
       "Model:                            OLS   Adj. R-squared:                  0.657\n",
       "Method:                 Least Squares   F-statistic:                     190.9\n",
       "Date:                Sun, 03 Oct 2021   Prob (F-statistic):           9.77e-25\n",
       "Time:                        19:23:21   Log-Likelihood:                -57.347\n",
       "No. Observations:                 100   AIC:                             118.7\n",
       "Df Residuals:                      98   BIC:                             123.9\n",
       "Df Model:                           1                                         \n",
       "Covariance Type:            nonrobust                                         \n",
       "==============================================================================\n",
       "                 coef    std err          t      P>|t|      [0.025      0.975]\n",
       "------------------------------------------------------------------------------\n",
       "Intercept      0.3138      0.052      6.010      0.000       0.210       0.417\n",
       "T2             0.7832      0.057     13.815      0.000       0.671       0.896\n",
       "==============================================================================\n",
       "Omnibus:                        1.171   Durbin-Watson:                   1.501\n",
       "Prob(Omnibus):                  0.557   Jarque-Bera (JB):                0.972\n",
       "Skew:                           0.241   Prob(JB):                        0.615\n",
       "Kurtosis:                       2.995   Cond. No.                         1.89\n",
       "==============================================================================\n",
       "\n",
       "Notes:\n",
       "[1] Standard Errors assume that the covariance matrix of the errors is correctly specified.\n",
       "\"\"\""
      ]
     },
     "execution_count": 3,
     "metadata": {},
     "output_type": "execute_result"
    }
   ],
   "source": [
    "fit = smf.ols('PD ~ T2', data = dat).fit()\n",
    "fit.summary()"
   ]
  },
  {
   "cell_type": "code",
   "execution_count": 4,
   "metadata": {
    "colab": {
     "base_uri": "https://localhost:8080/",
     "height": 287
    },
    "colab_type": "code",
    "id": "F6gUNlf6LbJc",
    "outputId": "dc8f04ff-b6a7-4460-abc9-bedcea4077b0"
   },
   "outputs": [
    {
     "name": "stderr",
     "output_type": "stream",
     "text": [
      "/home/codespace/.conda/envs/ds4bio/lib/python3.9/site-packages/seaborn/_decorators.py:36: FutureWarning: Pass the following variables as keyword args: x, y. From version 0.12, the only valid positional argument will be `data`, and passing other arguments without an explicit keyword will result in an error or misinterpretation.\n",
      "  warnings.warn(\n"
     ]
    },
    {
     "data": {
      "text/plain": [
       "[<matplotlib.lines.Line2D at 0x7f5b43041b20>]"
      ]
     },
     "execution_count": 4,
     "metadata": {},
     "output_type": "execute_result"
    },
    {
     "data": {
      "image/png": "[encoded data removed]",
      "text/plain": [
       "<Figure size 432x288 with 1 Axes>"
      ]
     },
     "metadata": {
      "filenames": {
       "image/png": "/workspaces/ds4bio_book/book/_build/jupyter_execute/basic_regression_pytorch_5_2.png"
      },
      "needs_background": "light"
     },
     "output_type": "display_data"
    }
   ],
   "source": [
    "# The in sample predictions\n",
    "yhat = fit.predict(dat['T2'])\n",
    "\n",
    "# Make sure that it's adding the intercept\n",
    "#test = 0.3138 + dat['T2'] * 0.7832\n",
    "#sns.scatterplot(yhat,test)\n",
    "\n",
    "## A plot of the in sample predicted values\n",
    "## versus the actual outcomes\n",
    "sns.scatterplot(yhat, dat['PD'])\n",
    "plt.plot([-1, 3], [-1, 3], linewidth=2)"
   ]
  },
  {
   "cell_type": "code",
   "execution_count": 5,
   "metadata": {
    "colab": {
     "base_uri": "https://localhost:8080/",
     "height": 35
    },
    "colab_type": "code",
    "id": "9LZ4MgGEPxEN",
    "outputId": "48c41eae-7b0b-4479-e613-7af18724ddce"
   },
   "outputs": [
    {
     "data": {
      "text/plain": [
       "[torch.Size([100, 1]), torch.Size([100, 1]), [100, 1]]"
      ]
     },
     "execution_count": 5,
     "metadata": {},
     "output_type": "execute_result"
    }
   ],
   "source": [
    "n = dat.shape[0]\n",
    "\n",
    "## Get the y and x from \n",
    "xtraining = torch.from_numpy(dat['T2'].values)\n",
    "ytraining = torch.from_numpy(dat['PD'].values)\n",
    "\n",
    "## PT wants floats\n",
    "xtraining = xtraining.float()\n",
    "ytraining = ytraining.float()\n",
    "\n",
    "## Dimension is 1xn not nx1\n",
    "## squeeze the second dimension\n",
    "xtraining = xtraining.unsqueeze(1)\n",
    "ytraining = ytraining.unsqueeze(1)\n",
    "\n",
    "## Show that everything is the right size\n",
    "[xtraining.shape, \n",
    " ytraining.shape,\n",
    " [n, 1]\n",
    " ]\n",
    "\n"
   ]
  },
  {
   "cell_type": "code",
   "execution_count": 6,
   "metadata": {
    "colab": {},
    "colab_type": "code",
    "id": "OZKrXwTjPdrB"
   },
   "outputs": [],
   "source": [
    "## Show that linear regression is a pytorch \n",
    "model = torch.nn.Sequential(\n",
    "    torch.nn.Linear(1, 1)\n",
    ")\n",
    "\n",
    "## MSE is the loss function\n",
    "loss_fn = torch.nn.MSELoss(reduction='sum')\n",
    "\n",
    "## Set the optimizer\n",
    "## There are lots of choices\n",
    "optimizer = torch.optim.SGD(model.parameters(), lr=1e-4)\n",
    "\n",
    "## Loop over iterations\n",
    "for t in range(10000):\n",
    "\n",
    "    ## Forward propagation\n",
    "  y_pred = model(xtraining)\n",
    "    \n",
    "  ## the loss for this interation\n",
    "  loss = loss_fn(y_pred, ytraining)\n",
    "\n",
    "  #print(t, loss.item() / n)\n",
    "\n",
    "  ## Zero out the gradients before adding them up \n",
    "  optimizer.zero_grad()\n",
    "  \n",
    "  ## Backprop\n",
    "  loss.backward()\n",
    "  \n",
    "  ## Optimization step\n",
    "  optimizer.step()\n",
    "\n"
   ]
  },
  {
   "cell_type": "code",
   "execution_count": 7,
   "metadata": {
    "colab": {
     "base_uri": "https://localhost:8080/",
     "height": 287
    },
    "colab_type": "code",
    "id": "fd1wjXgukgqs",
    "outputId": "c46bf0da-1478-4fff-8866-992019038021"
   },
   "outputs": [
    {
     "name": "stderr",
     "output_type": "stream",
     "text": [
      "/home/codespace/.conda/envs/ds4bio/lib/python3.9/site-packages/seaborn/_decorators.py:36: FutureWarning: Pass the following variables as keyword args: x, y. From version 0.12, the only valid positional argument will be `data`, and passing other arguments without an explicit keyword will result in an error or misinterpretation.\n",
      "  warnings.warn(\n"
     ]
    },
    {
     "data": {
      "text/plain": [
       "[<matplotlib.lines.Line2D at 0x7f5b427a6c40>]"
      ]
     },
     "execution_count": 7,
     "metadata": {},
     "output_type": "execute_result"
    },
    {
     "data": {
      "image/png": "[encoded data removed]",
      "text/plain": [
       "<Figure size 432x288 with 1 Axes>"
      ]
     },
     "metadata": {
      "filenames": {
       "image/png": "/workspaces/ds4bio_book/book/_build/jupyter_execute/basic_regression_pytorch_8_2.png"
      },
      "needs_background": "light"
     },
     "output_type": "display_data"
    }
   ],
   "source": [
    "ytest = model(xtraining).detach().numpy().reshape(-1)\n",
    "sns.scatterplot(ytest, yhat)\n",
    "plt.plot([-1, 3], [-1, 3], linewidth=2)"
   ]
  },
  {
   "cell_type": "code",
   "execution_count": 8,
   "metadata": {
    "colab": {
     "base_uri": "https://localhost:8080/",
     "height": 53
    },
    "colab_type": "code",
    "id": "hZpPdBPYy53z",
    "outputId": "f2b4a179-809a-41c8-c2e2-2c205d5175c2"
   },
   "outputs": [
    {
     "name": "stdout",
     "output_type": "stream",
     "text": [
      "tensor([[0.7832]])\n",
      "tensor([0.3138])\n"
     ]
    }
   ],
   "source": [
    "for param in model.parameters():\n",
    "  print(param.data)\n"
   ]
  }
 ],
 "metadata": {
  "colab": {
   "collapsed_sections": [],
   "include_colab_link": true,
   "machine_shape": "hm",
   "name": "basicRegression",
   "provenance": []
  },
  "kernelspec": {
   "display_name": "Python 3",
   "name": "python3"
  },
  "language_info": {
   "codemirror_mode": {
    "name": "ipython",
    "version": 3
   },
   "file_extension": ".py",
   "mimetype": "text/x-python",
   "name": "python",
   "nbconvert_exporter": "python",
   "pygments_lexer": "ipython3",
   "version": "3.9.7"
  }
 },
 "nbformat": 4,
 "nbformat_minor": 2
}