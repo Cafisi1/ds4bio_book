{
 "cells": [
  {
   "cell_type": "markdown",
   "metadata": {},
   "source": [
    "<a href=\"https://colab.research.google.com/github/smart-stats/ds4bio_book/blob/main/book/python_programming.ipynb\" target=\"_parent\"><img src=\"https://colab.research.google.com/assets/colab-badge.svg\" alt=\"Open In Colab\"/></a>\n",
    "\n",
    "# Python programming\n",
    "Try the following requests input from a user using the command `input` then it tests the value of the input using an `if` statement. A couple of things to take note of. First, python uses the white space instead of inclosing the statement in braces or parentheses. Secondly, don't forget the colons after programming statements like `if`, `else`, `for`, `def` and so on. Otherwise, if/else statements work just like you'd expect. "
   ]
  },
  {
   "cell_type": "code",
   "execution_count": 1,
   "metadata": {},
   "outputs": [
    {
     "name": "stdout",
     "output_type": "stream",
     "text": [
      "Gryffindor\n"
     ]
    }
   ],
   "source": [
    "# do this if you'd like to prompt for an input\n",
    "# x = input(\"are you mean (y/n)? > \")\n",
    "# Let's just assume the user input 'n'\n",
    "x = 'n'\n",
    "if x == 'y': \n",
    " print(\"Slytherine!\")\n",
    "else:\n",
    " print(\"Gryffindor\")"
   ]
  },
  {
   "cell_type": "markdown",
   "metadata": {},
   "source": [
    "Just to further describe white space useage in python, consider testing whether `statementA` is True. Below, `statementB` is executed as part of the if statement whereas `statementC` is outside of it because it's not indented. This is often considered an eye rolling aspect of the language, but I think it's nice in the sense that it bakes good code identation practices into the language.\n",
    "\n",
    "```\n",
    "## Some more about white space\n",
    "if statementA:\n",
    "  statementB   # Executed if statementA is True\n",
    "statementC     # Executed regardless since it's not indented\n",
    "```\n",
    "The generic structure of if statements in python are \n",
    "```\n",
    "if statement1 :\n",
    " ...\n",
    "elif statement2 :\n",
    " ...\n",
    "else \n",
    " ...\n",
    "```\n",
    "Here's an example (note this is just equal to the statement `(a < 0) - (a > 0)`"
   ]
  },
  {
   "cell_type": "code",
   "execution_count": 2,
   "metadata": {},
   "outputs": [
    {
     "name": "stdout",
     "output_type": "stream",
     "text": [
      "1\n"
     ]
    }
   ],
   "source": [
    "a = 5\n",
    "\n",
    "if a < 0 :\n",
    "  a = -1\n",
    "elif a > 0 :\n",
    "  a = 1\n",
    "else :\n",
    "  a = 0\n",
    "\n",
    "print(a)"
   ]
  },
  {
   "cell_type": "markdown",
   "metadata": {},
   "source": [
    "`for` and `while` loops can be used for iteration. Here's some examples"
   ]
  },
  {
   "cell_type": "code",
   "execution_count": 3,
   "metadata": {},
   "outputs": [
    {
     "name": "stdout",
     "output_type": "stream",
     "text": [
      "0\n",
      "1\n",
      "2\n",
      "3\n"
     ]
    }
   ],
   "source": [
    "for i in range(4) :\n",
    " print(i)\n",
    " "
   ]
  },
  {
   "cell_type": "code",
   "execution_count": 4,
   "metadata": {},
   "outputs": [
    {
     "name": "stdout",
     "output_type": "stream",
     "text": [
      "3\n",
      "2\n",
      "1\n",
      "0\n"
     ]
    }
   ],
   "source": [
    "x = 4\n",
    "while x > 0 :\n",
    " x = x - 1\n",
    " print(x)"
   ]
  },
  {
   "cell_type": "markdown",
   "metadata": {},
   "source": [
    "Note `for` loops can iterate over list-like structures."
   ]
  },
  {
   "cell_type": "code",
   "execution_count": 5,
   "metadata": {},
   "outputs": [
    {
     "name": "stdout",
     "output_type": "stream",
     "text": [
      "w\n",
      "o\n",
      "r\n",
      "d\n"
     ]
    }
   ],
   "source": [
    "for w in 'word':\n",
    " print(w)"
   ]
  },
  {
   "cell_type": "markdown",
   "metadata": {},
   "source": [
    "The range function is useful for creating a structure to loop over. It creates a data type that can be iterated over, but isn't itself a list. So if you want a list out of it, you have to convert it."
   ]
  },
  {
   "cell_type": "code",
   "execution_count": 6,
   "metadata": {},
   "outputs": [
    {
     "name": "stdout",
     "output_type": "stream",
     "text": [
      "range(0, 3)\n",
      "[0, 1, 2]\n"
     ]
    }
   ],
   "source": [
    "a = range(3)\n",
    "print(a)\n",
    "print(list(a))"
   ]
  }
 ],
 "metadata": {
  "interpreter": {
   "hash": "625a8f875bfb3f569e4f618df17e1f8389970b6b26ee2c84acb92c5fbebf95c3"
  },
  "kernelspec": {
   "display_name": "Python 3.9.6 64-bit ('ds4bio': conda)",
   "name": "python3"
  },
  "language_info": {
   "codemirror_mode": {
    "name": "ipython",
    "version": 3
   },
   "file_extension": ".py",
   "mimetype": "text/x-python",
   "name": "python",
   "nbconvert_exporter": "python",
   "pygments_lexer": "ipython3",
   "version": "3.9.7"
  }
 },
 "nbformat": 4,
 "nbformat_minor": 2
}