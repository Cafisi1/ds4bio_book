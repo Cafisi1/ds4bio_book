{
 "cells": [
  {
   "cell_type": "markdown",
   "metadata": {
    "colab_type": "text",
    "id": "view-in-github"
   },
   "source": [
    "<a href=\"https://colab.research.google.com/github/smart-stats/ds4bio_book/blob/main/book/EDA.ipynb\" target=\"_parent\"><img src=\"https://colab.research.google.com/assets/colab-badge.svg\" alt=\"Open In Colab\"/></a>"
   ]
  },
  {
   "cell_type": "markdown",
   "metadata": {
    "colab_type": "text",
    "id": "IQ1yTnksB3qX"
   },
   "source": [
    "# Exploratory data analysis in Seaborn\n",
    "\n",
    "In this lecture, we'll talk about EDA (exploratory data analysis) using the python framework seaborn. EDA is the process of using graphs to uncover features in your data often interactively. EDA is hard to quantify, but is touted by most applied data scientists as a crucial component of their craft. EDA is often summarized by the famous sayings\n",
    "\n",
    "*A picture is worth a 1,000 words*\n",
    "\n",
    "Or saying how impactful intrer-ocular content is (i.e. when information hits you right between the eyes).\n",
    "\n",
    "I'm using Seaborn as the framework. There's several plotting frameworks in python, but I find that seaborn has the nicest default plotting options. \n",
    "\n",
    "Let's start with loading up some libraries."
   ]
  },
  {
   "cell_type": "code",
   "execution_count": 1,
   "metadata": {
    "colab": {},
    "colab_type": "code",
    "id": "Hchpbi-MARs0"
   },
   "outputs": [],
   "source": [
    "import numpy as np\n",
    "import pandas as pd\n",
    "import seaborn as sns\n",
    "import matplotlib.pyplot as plt\n",
    "## this sets some style parameters\n",
    "sns.set()\n"
   ]
  },
  {
   "cell_type": "markdown",
   "metadata": {
    "colab_type": "text",
    "id": "0H0S-uoWlUR4"
   },
   "source": [
    "First let's download the data. Then we'll read it in and drop some columns that aren't needed for this analysis."
   ]
  },
  {
   "cell_type": "code",
   "execution_count": 2,
   "metadata": {
    "colab": {
     "base_uri": "https://localhost:8080/",
     "height": 172
    },
    "colab_type": "code",
    "id": "WiyGnLReHr--",
    "outputId": "37114246-c995-4e21-ee25-3f253a0a67de"
   },
   "outputs": [
    {
     "data": {
      "text/html": [
       "<div>\n",
       "<style scoped>\n",
       "    .dataframe tbody tr th:only-of-type {\n",
       "        vertical-align: middle;\n",
       "    }\n",
       "\n",
       "    .dataframe tbody tr th {\n",
       "        vertical-align: top;\n",
       "    }\n",
       "\n",
       "    .dataframe thead th {\n",
       "        text-align: right;\n",
       "    }\n",
       "</style>\n",
       "<table border=\"1\" class=\"dataframe\">\n",
       "  <thead>\n",
       "    <tr style=\"text-align: right;\">\n",
       "      <th></th>\n",
       "      <th>roi</th>\n",
       "      <th>volume</th>\n",
       "      <th>type</th>\n",
       "      <th>level</th>\n",
       "      <th>id</th>\n",
       "      <th>icv</th>\n",
       "      <th>tbv</th>\n",
       "    </tr>\n",
       "  </thead>\n",
       "  <tbody>\n",
       "    <tr>\n",
       "      <th>0</th>\n",
       "      <td>Telencephalon_L</td>\n",
       "      <td>531111</td>\n",
       "      <td>1</td>\n",
       "      <td>1</td>\n",
       "      <td>127</td>\n",
       "      <td>1378295</td>\n",
       "      <td>1268519</td>\n",
       "    </tr>\n",
       "    <tr>\n",
       "      <th>1</th>\n",
       "      <td>Telencephalon_R</td>\n",
       "      <td>543404</td>\n",
       "      <td>1</td>\n",
       "      <td>1</td>\n",
       "      <td>127</td>\n",
       "      <td>1378295</td>\n",
       "      <td>1268519</td>\n",
       "    </tr>\n",
       "    <tr>\n",
       "      <th>2</th>\n",
       "      <td>Diencephalon_L</td>\n",
       "      <td>9683</td>\n",
       "      <td>1</td>\n",
       "      <td>1</td>\n",
       "      <td>127</td>\n",
       "      <td>1378295</td>\n",
       "      <td>1268519</td>\n",
       "    </tr>\n",
       "    <tr>\n",
       "      <th>3</th>\n",
       "      <td>Diencephalon_R</td>\n",
       "      <td>9678</td>\n",
       "      <td>1</td>\n",
       "      <td>1</td>\n",
       "      <td>127</td>\n",
       "      <td>1378295</td>\n",
       "      <td>1268519</td>\n",
       "    </tr>\n",
       "  </tbody>\n",
       "</table>\n",
       "</div>"
      ],
      "text/plain": [
       "               roi  volume  type  level   id      icv      tbv\n",
       "0  Telencephalon_L  531111     1      1  127  1378295  1268519\n",
       "1  Telencephalon_R  543404     1      1  127  1378295  1268519\n",
       "2   Diencephalon_L    9683     1      1  127  1378295  1268519\n",
       "3   Diencephalon_R    9678     1      1  127  1378295  1268519"
      ]
     },
     "execution_count": 2,
     "metadata": {},
     "output_type": "execute_result"
    }
   ],
   "source": [
    "## Reading it in, keeping only volume\n",
    "df = pd.read_csv(\"https://raw.githubusercontent.com/bcaffo/ds4bme_intro/master/data/kirby21.csv\")\n",
    "df = df.drop(['Unnamed: 0', 'rawid', 'min', 'max', 'mean', 'std'],\\\n",
    "             axis = 1)\n",
    "df.head(4)\n",
    "\n",
    "\n"
   ]
  },
  {
   "cell_type": "markdown",
   "metadata": {
    "colab_type": "text",
    "id": "enOWjNqjlfxk"
   },
   "source": [
    "Let's look at the Type 1 Level 1 data and create a variable called `comp` which is brain composition, defined as the regional volumes over total brain volume. We'll do this by selecting `roi` and comp then grouping by `roi` and taking the mean of the compostions. "
   ]
  },
  {
   "cell_type": "code",
   "execution_count": 3,
   "metadata": {
    "colab": {},
    "colab_type": "code",
    "id": "PpYIHz7yH7LU"
   },
   "outputs": [],
   "source": [
    "## Extract the Type 1 Level 1 data\n",
    "t1l1 = df.loc[(df.type == 1) & (df.level == 1)]\n",
    "## Create a new column based on ICV\n",
    "t1l1 = t1l1.assign(icv = sum(t1l1.volume))"
   ]
  },
  {
   "cell_type": "code",
   "execution_count": 4,
   "metadata": {
    "colab": {
     "base_uri": "https://localhost:8080/",
     "height": 180
    },
    "colab_type": "code",
    "id": "GcVwNJ7GIIEr",
    "outputId": "2f48d05b-1e70-4740-e20c-e861eb29a6ce"
   },
   "outputs": [
    {
     "name": "stdout",
     "output_type": "stream",
     "text": [
      "               roi      comp\n",
      "0              CSF  0.073708\n",
      "1   Diencephalon_L  0.007563\n",
      "2   Diencephalon_R  0.007634\n",
      "3    Mesencephalon  0.008647\n",
      "4    Metencephalon  0.124883\n",
      "5   Myelencephalon  0.003785\n",
      "6  Telencephalon_L  0.420305\n",
      "7  Telencephalon_R  0.427184\n"
     ]
    }
   ],
   "source": [
    "## create a composition variable\n",
    "t1l1 = t1l1.assign(comp = lambda x: x.volume / x.tbv)\n",
    "\n",
    "## get the mean of the composition variable across\n",
    "## subjects by ROI\n",
    "summary = t1l1[['roi', 'comp']].groupby('roi', as_index=False).mean()\n",
    "print(summary)"
   ]
  },
  {
   "cell_type": "markdown",
   "metadata": {
    "colab_type": "text",
    "id": "SdIlY1_9l7JS"
   },
   "source": [
    "OK, let's try our first plot, a seaborn bar plot."
   ]
  },
  {
   "cell_type": "code",
   "execution_count": 5,
   "metadata": {
    "colab": {
     "base_uri": "https://localhost:8080/",
     "height": 393
    },
    "colab_type": "code",
    "id": "HtZ5b9Owgp7F",
    "outputId": "2980d01f-4723-4201-aa1e-a61bd350e08f"
   },
   "outputs": [
    {
     "data": {
      "text/plain": [
       "(array([0, 1, 2, 3, 4, 5, 6, 7]),\n",
       " [Text(0, 0, 'CSF'),\n",
       "  Text(1, 0, 'Diencephalon_L'),\n",
       "  Text(2, 0, 'Diencephalon_R'),\n",
       "  Text(3, 0, 'Mesencephalon'),\n",
       "  Text(4, 0, 'Metencephalon'),\n",
       "  Text(5, 0, 'Myelencephalon'),\n",
       "  Text(6, 0, 'Telencephalon_L'),\n",
       "  Text(7, 0, 'Telencephalon_R')])"
      ]
     },
     "execution_count": 5,
     "metadata": {},
     "output_type": "execute_result"
    },
    {
     "data": {
      "image/png": "[encoded data removed]",
      "text/plain": [
       "<Figure size 432x288 with 1 Axes>"
      ]
     },
     "metadata": {
      "filenames": {
       "image/png": "/workspaces/ds4bio_book/book/_build/jupyter_execute/EDA_9_1.png"
      }
     },
     "output_type": "display_data"
    }
   ],
   "source": [
    "g = sns.barplot(x='roi', y = 'comp', data = summary)\n",
    "## this is the matplotlib command for rotating \n",
    "## axis tick labels by 90 degrees.\n",
    "plt.xticks(rotation = 90)"
   ]
  },
  {
   "cell_type": "markdown",
   "metadata": {
    "colab_type": "text",
    "id": "SSrBHXXd5XN8"
   },
   "source": [
    "Unfortunately, seaborn doesn't have a stakced bar chart. However, pandas does have one built in. To do this, however, we have to create a version of the data with ROIs as the columns. This is done with a pivot statement."
   ]
  },
  {
   "cell_type": "code",
   "execution_count": 6,
   "metadata": {
    "colab": {
     "base_uri": "https://localhost:8080/",
     "height": 223
    },
    "colab_type": "code",
    "id": "E4RjicK4l_Cb",
    "outputId": "6aa4a35d-240c-4cb8-cb22-80a74bd34ac7"
   },
   "outputs": [
    {
     "data": {
      "text/html": [
       "<div>\n",
       "<style scoped>\n",
       "    .dataframe tbody tr th:only-of-type {\n",
       "        vertical-align: middle;\n",
       "    }\n",
       "\n",
       "    .dataframe tbody tr th {\n",
       "        vertical-align: top;\n",
       "    }\n",
       "\n",
       "    .dataframe thead th {\n",
       "        text-align: right;\n",
       "    }\n",
       "</style>\n",
       "<table border=\"1\" class=\"dataframe\">\n",
       "  <thead>\n",
       "    <tr style=\"text-align: right;\">\n",
       "      <th>roi</th>\n",
       "      <th>CSF</th>\n",
       "      <th>Diencephalon_L</th>\n",
       "      <th>Diencephalon_R</th>\n",
       "      <th>Mesencephalon</th>\n",
       "      <th>Metencephalon</th>\n",
       "      <th>Myelencephalon</th>\n",
       "      <th>Telencephalon_L</th>\n",
       "      <th>Telencephalon_R</th>\n",
       "    </tr>\n",
       "    <tr>\n",
       "      <th>id</th>\n",
       "      <th></th>\n",
       "      <th></th>\n",
       "      <th></th>\n",
       "      <th></th>\n",
       "      <th></th>\n",
       "      <th></th>\n",
       "      <th></th>\n",
       "      <th></th>\n",
       "    </tr>\n",
       "  </thead>\n",
       "  <tbody>\n",
       "    <tr>\n",
       "      <th>127</th>\n",
       "      <td>109776</td>\n",
       "      <td>9683</td>\n",
       "      <td>9678</td>\n",
       "      <td>10268</td>\n",
       "      <td>159402</td>\n",
       "      <td>4973</td>\n",
       "      <td>531111</td>\n",
       "      <td>543404</td>\n",
       "    </tr>\n",
       "    <tr>\n",
       "      <th>142</th>\n",
       "      <td>107334</td>\n",
       "      <td>9156</td>\n",
       "      <td>9071</td>\n",
       "      <td>10516</td>\n",
       "      <td>165803</td>\n",
       "      <td>4912</td>\n",
       "      <td>545603</td>\n",
       "      <td>552216</td>\n",
       "    </tr>\n",
       "    <tr>\n",
       "      <th>239</th>\n",
       "      <td>94254</td>\n",
       "      <td>8937</td>\n",
       "      <td>9004</td>\n",
       "      <td>9070</td>\n",
       "      <td>124504</td>\n",
       "      <td>4023</td>\n",
       "      <td>483107</td>\n",
       "      <td>490805</td>\n",
       "    </tr>\n",
       "    <tr>\n",
       "      <th>346</th>\n",
       "      <td>67156</td>\n",
       "      <td>8828</td>\n",
       "      <td>8933</td>\n",
       "      <td>9788</td>\n",
       "      <td>135090</td>\n",
       "      <td>4428</td>\n",
       "      <td>558849</td>\n",
       "      <td>568830</td>\n",
       "    </tr>\n",
       "  </tbody>\n",
       "</table>\n",
       "</div>"
      ],
      "text/plain": [
       "roi     CSF  Diencephalon_L  Diencephalon_R  Mesencephalon  Metencephalon  \\\n",
       "id                                                                          \n",
       "127  109776            9683            9678          10268         159402   \n",
       "142  107334            9156            9071          10516         165803   \n",
       "239   94254            8937            9004           9070         124504   \n",
       "346   67156            8828            8933           9788         135090   \n",
       "\n",
       "roi  Myelencephalon  Telencephalon_L  Telencephalon_R  \n",
       "id                                                     \n",
       "127            4973           531111           543404  \n",
       "142            4912           545603           552216  \n",
       "239            4023           483107           490805  \n",
       "346            4428           558849           568830  "
      ]
     },
     "execution_count": 6,
     "metadata": {},
     "output_type": "execute_result"
    }
   ],
   "source": [
    "t1l1pivot = t1l1.pivot(index = 'id', columns = 'roi', values = 'volume')\n",
    "t1l1pivot.head(4)\n",
    "\n"
   ]
  },
  {
   "cell_type": "code",
   "execution_count": 7,
   "metadata": {
    "colab": {
     "base_uri": "https://localhost:8080/",
     "height": 320
    },
    "colab_type": "code",
    "id": "Z_PL8hR9AlJS",
    "outputId": "2c79c98e-5da3-4d87-cf23-63184bf0d0f1"
   },
   "outputs": [
    {
     "data": {
      "text/plain": [
       "<matplotlib.legend.Legend at 0x7f753db631f0>"
      ]
     },
     "execution_count": 7,
     "metadata": {},
     "output_type": "execute_result"
    },
    {
     "data": {
      "image/png": "[encoded data removed]",
      "text/plain": [
       "<Figure size 432x288 with 1 Axes>"
      ]
     },
     "metadata": {
      "filenames": {
       "image/png": "/workspaces/ds4bio_book/book/_build/jupyter_execute/EDA_12_1.png"
      }
     },
     "output_type": "display_data"
    }
   ],
   "source": [
    "t1l1pivot.plot(kind='bar', stacked=True, legend= False)\n",
    "plt.legend(loc='center left', bbox_to_anchor=(1.0, 0.5))\n"
   ]
  },
  {
   "cell_type": "code",
   "execution_count": null,
   "metadata": {
    "colab": {},
    "colab_type": "code",
    "id": "j6EvbwZQiKWv"
   },
   "outputs": [],
   "source": []
  },
  {
   "cell_type": "markdown",
   "metadata": {
    "colab_type": "text",
    "id": "7Vb0kW_tBhfU"
   },
   "source": [
    "Let's do some scatterplots. Let's look at bilateral symmetry in the telencephalon. "
   ]
  },
  {
   "cell_type": "code",
   "execution_count": 8,
   "metadata": {
    "colab": {
     "base_uri": "https://localhost:8080/",
     "height": 341
    },
    "colab_type": "code",
    "id": "THMT97B5BgHt",
    "outputId": "033c4be4-f147-4d43-d5b8-c2df04e64c79"
   },
   "outputs": [
    {
     "data": {
      "text/plain": [
       "[<matplotlib.lines.Line2D at 0x7f753d658640>]"
      ]
     },
     "execution_count": 8,
     "metadata": {},
     "output_type": "execute_result"
    },
    {
     "data": {
      "image/png": "[encoded data removed]",
      "text/plain": [
       "<Figure size 432x288 with 1 Axes>"
      ]
     },
     "metadata": {
      "filenames": {
       "image/png": "/workspaces/ds4bio_book/book/_build/jupyter_execute/EDA_15_1.png"
      }
     },
     "output_type": "display_data"
    }
   ],
   "source": [
    "sns.scatterplot(x = 'Telencephalon_L', y = 'Telencephalon_R', data = t1l1pivot)\n",
    "plt.xticks(rotation = 90)\n",
    "\n",
    "#plot an identity line from the data min to the data max\n",
    "x1 = min([t1l1pivot.Telencephalon_L.min(), t1l1pivot.Telencephalon_R.min()])\n",
    "x2 = max([t1l1pivot.Telencephalon_L.max(), t1l1pivot.Telencephalon_R.max()])\n",
    "plt.plot([x1, x2], [x1 , x2])\n",
    "\n"
   ]
  },
  {
   "cell_type": "markdown",
   "metadata": {
    "colab_type": "text",
    "id": "CH_Uy2sZCbyT"
   },
   "source": [
    "This plot has the issue that there's a lot of blank space. This is often addressed via a mean difference plot. This plot shows (X+Y) / 2 versus (X-y). This is basically just rotating the plot above by 45 degrees to get rid of all of the blank space around the diagonal line. Alternatively, you could plot (log(x) + log(y)) / 2 versus log(X) - log(Y). This plots the log of the geometric mean of the two observations versus the log of their ratio. Sometimes people use log base 2 or log base 10."
   ]
  },
  {
   "cell_type": "code",
   "execution_count": 9,
   "metadata": {
    "colab": {
     "base_uri": "https://localhost:8080/",
     "height": 348
    },
    "colab_type": "code",
    "id": "9TmdC0U9Ca5A",
    "outputId": "8c1a350c-2c83-4144-a8dd-c0903c13861d"
   },
   "outputs": [
    {
     "data": {
      "text/plain": [
       "(array([12.8 , 12.85, 12.9 , 12.95, 13.  , 13.05, 13.1 , 13.15, 13.2 ,\n",
       "        13.25, 13.3 ]),\n",
       " [Text(0, 0, ''),\n",
       "  Text(0, 0, ''),\n",
       "  Text(0, 0, ''),\n",
       "  Text(0, 0, ''),\n",
       "  Text(0, 0, ''),\n",
       "  Text(0, 0, ''),\n",
       "  Text(0, 0, ''),\n",
       "  Text(0, 0, ''),\n",
       "  Text(0, 0, ''),\n",
       "  Text(0, 0, ''),\n",
       "  Text(0, 0, '')])"
      ]
     },
     "execution_count": 9,
     "metadata": {},
     "output_type": "execute_result"
    },
    {
     "data": {
      "image/png": "[encoded data removed]",
      "text/plain": [
       "<Figure size 432x288 with 1 Axes>"
      ]
     },
     "metadata": {
      "filenames": {
       "image/png": "/workspaces/ds4bio_book/book/_build/jupyter_execute/EDA_17_1.png"
      }
     },
     "output_type": "display_data"
    }
   ],
   "source": [
    "t1l1pivot = t1l1pivot.assign(Tel_logmean = lambda x: (np.log(x.Telencephalon_L) * .5 +  np.log(x.Telencephalon_R)* .5))\n",
    "t1l1pivot = t1l1pivot.assign(Tel_logdiff = lambda x: (np.log(x.Telencephalon_R) -  np.log(x.Telencephalon_L)))\n",
    "sns.scatterplot(x = 'Tel_logmean', y = 'Tel_logdiff', data = t1l1pivot)\n",
    "plt.axhline(0, color='green')\n",
    "plt.xticks(rotation = 90)\n",
    "\n"
   ]
  },
  {
   "cell_type": "markdown",
   "metadata": {
    "colab_type": "text",
    "id": "-JHYgNgvhKfl"
   },
   "source": [
    "Thus, apparently, the *right* side is always a little bigger than the *left* and the scale of the ratio is $e^{0.02}$ while the scale of the geometric mean is $e^{13}$. Note, $\\exp(x) \\approx 1 + x$  for $x \\approx 0$. So it's about 2% larger. A note about right versus left in imaging. Often the labels get switched as there are different conventions (is it the right of the subject or the right of the viewer when looking straight at the subject?). Typically, it's known that some of the areas of subject's left hemisphere are larger and so it's probably radiological (right of the viewer) convention here. [Here's](https://www.dana.org/uploadedFiles/BAW/Brain_Brief_Right_Brain-Left_Brain_Final.pdf) a nicely done article about right versus left brain.\n",
    "\n",
    "Also, in case you don't believe me, here's a plot of $e^x$ versus $1+x$ for values up to 0.1. This is obtained as the Taylor expasion for $e^x$ around 0."
   ]
  },
  {
   "cell_type": "code",
   "execution_count": 10,
   "metadata": {
    "colab": {
     "base_uri": "https://localhost:8080/",
     "height": 292
    },
    "colab_type": "code",
    "id": "5E1CMdYv5WGz",
    "outputId": "a147ac5a-5ffc-47b0-c2a2-4d9c829d9887"
   },
   "outputs": [
    {
     "name": "stderr",
     "output_type": "stream",
     "text": [
      "/home/codespace/.conda/envs/ds4bio/lib/python3.9/site-packages/seaborn/_decorators.py:36: FutureWarning: Pass the following variables as keyword args: x, y. From version 0.12, the only valid positional argument will be `data`, and passing other arguments without an explicit keyword will result in an error or misinterpretation.\n",
      "  warnings.warn(\n"
     ]
    },
    {
     "data": {
      "text/plain": [
       "[<matplotlib.lines.Line2D at 0x7f753d54aa00>]"
      ]
     },
     "execution_count": 10,
     "metadata": {},
     "output_type": "execute_result"
    },
    {
     "data": {
      "image/png": "[encoded data removed]",
      "text/plain": [
       "<Figure size 432x288 with 1 Axes>"
      ]
     },
     "metadata": {
      "filenames": {
       "image/png": "/workspaces/ds4bio_book/book/_build/jupyter_execute/EDA_19_2.png"
      }
     },
     "output_type": "display_data"
    }
   ],
   "source": [
    "x = np.arange(0, .1, .001)\n",
    "ex = np.exp(x)\n",
    "\n",
    "sns.lineplot(x, ex)\n",
    "plt.plot(x, x + 1)\n",
    "\n"
   ]
  }
 ],
 "metadata": {
  "colab": {
   "include_colab_link": true,
   "name": "EDA.ipynb",
   "provenance": [],
   "toc_visible": true,
   "version": "0.3.2"
  },
  "kernelspec": {
   "display_name": "Python 3",
   "name": "python3"
  },
  "language_info": {
   "codemirror_mode": {
    "name": "ipython",
    "version": 3
   },
   "file_extension": ".py",
   "mimetype": "text/x-python",
   "name": "python",
   "nbconvert_exporter": "python",
   "pygments_lexer": "ipython3",
   "version": "3.9.7"
  }
 },
 "nbformat": 4,
 "nbformat_minor": 2
}