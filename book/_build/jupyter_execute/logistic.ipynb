{
 "cells": [
  {
   "cell_type": "markdown",
   "metadata": {
    "colab_type": "text",
    "id": "view-in-github"
   },
   "source": [
    "<a href=\"https://colab.research.google.com/github/smart-stats/ds4bio_book/blob/main/book/logistic.ipynb\" target=\"_parent\"><img src=\"https://colab.research.google.com/assets/colab-badge.svg\" alt=\"Open In Colab\"/></a>"
   ]
  },
  {
   "cell_type": "markdown",
   "metadata": {},
   "source": [
    "# Logistic regression\n",
    "## Classification with one continuous variable"
   ]
  },
  {
   "cell_type": "markdown",
   "metadata": {
    "id": "09w3TFe3g3Y2"
   },
   "source": [
    "Suppose now that we want to predict the gold standard from the FLAIR values. Fitting a line seems weird, since the outcome can only be 0 or 1. A line would allow for arbitrarily small or large predictions. Similiarly, forcing the prediction to be exactly 0 or 1 leads to difficult optimization problems. A clever solution is to instead model\n",
    "\n",
    "$$\n",
    "P(Y_i = 1 ~|~ X_i)\n",
    "$$\n",
    "\n",
    "where $Y_i$ is the gold standard value (0 or 1 for no lesion or lesion at that voxel, respectively) and $X_i$ is the FLAIR value for voxel $i$. This solves the problem somewhat nicely, but it still leaves some issues unresolved. For example, what does probability even mean in this context? And also probabilities are between 0 and 1, that's better than exactly 0 or 1, but still would create problems.\n",
    "\n",
    "For the probability, it's generally a good idea to think about what you're modeling as random in the context. In this case, we're thinking of our voxels as a random sample of FLAIR and gold standard voxel values from some population. This is a meaningful benchmark even if it's not true. We'll find that often in statistics we model data as if it comes from a probability distribution when we know it didn't. We simply know that the probability distribution is a useful model for thinking about the problem.\n",
    "\n",
    "As for getting the probabilities from $[0,1]$ to $(-\\infty, \\infty)$, we need a function, preferably a monotonic one. The generally agreed upon choice is the logit (natural log of the odds) function. The logit function of a probability is defined as\n",
    "\n",
    "$$\n",
    "\\eta = \\mathrm{logit}(p) = \\log\\{p / (1 - p)\\}\n",
    "$$\n",
    "\n",
    "where $p$ is the probability and $O = p/(1-p)$ is called the **odds**. Note, you can go backwards from odds to probability with the function $p = O / (1 + O)$. Odds are exactly as used in gambling. If the odds of bet at 1 to 99, then you are saying the probability is $1 / (99 + 1) = 1\\%$. \n",
    "\n",
    "Why use odds? There's a couple of reasons why odds are uniquely interprettable. First, there are specific study designs where odds make more sense than probabilities, particularly retrospective ones. Secondly, odds are unique in binomial models where they work out to be particularly tractible to work with. Finally, odds have a unique gambling interpretation. That is, it gives the ratio of a  one dollar risk to the return in a fair bet. (A fair bet is where the expected return is 0.) So, when a horse track gives the odds on a horse to be 99 to 1, they are saying that you would get $99 dollars if you bet one dollar and the horse won. This is an implied probability of 99 / (99 + 1) = 99% that the horse loses and 1% probability that the horse wins. Note they don't usually express it as a fraction, they usually espress it as value to 1 or 1 to value. So they would say 99 to 1 (odds against) or 1 to 99 (odds for) so you can easily see how much you'd win for a dollar bet. \n",
    "\n",
    "You can go backwards from the logit function to the probability with the expit function. That is, if $\\eta$ is defined as above, then\n",
    "\n",
    "$$\n",
    "p = \\frac{e^{\\eta}}{1 + e^\\eta} = \\frac{1}{1 + e^{-\\eta}}.\n",
    "$$\n",
    "\n",
    "This is sometimes called the **expit** function or **sigmoid**.\n",
    "\n",
    "\n",
    "We model the log of the odds as linear. This is called **logistic regression**.\n",
    "\n",
    "$$\n",
    "\\eta = \\mathrm{logit}\\left\\{ P(Y = 1 ~|~ X) \\right\\}\n",
    "= \\beta_0 + \\beta_1 X.\n",
    "$$\n",
    "\n",
    "The nice part about this model is that $e^\\beta_1$ has the nice interpretation of the odds ratio associated with a one unit change in $X$.\n",
    "\n",
    "This is great, but we still need a function of the probabilities to optimize. We'll use the **cross entropy**. \n",
    "\n",
    "$$\n",
    "-\\sum_{i=1}^n \\left[Y_i \\log\\{P(Y_i = 1 ~|~ X_i)\\} + (1 - Y_i) \\log\\{1 - P(Y_i = 1 ~|~ X_i)\\}\\right].\n",
    "$$\n",
    "\n",
    "This function has the interpretation of being the negative of the log of the probabilities assuming the $Y_i$ are independent. This model doesn't have to hold for the minimization to be useful. \n",
    "\n",
    "Plugging our logit model in, the cross entropy now looks like\n",
    "\n",
    "$$\n",
    "-\\sum_{i=1}^n \\left[\n",
    "  Y_i \\eta_i + \\log\\left\\{\\frac{1}{1 + e^\\eta_i} \\right\\} \\right].\n",
    "$$\n",
    "\n",
    "This is the function that we minimize to perform logistic regression. Later on, we'll worry about how to minimize this function. However, today, let's fit logistic regression to some data.\n"
   ]
  },
  {
   "cell_type": "code",
   "execution_count": 1,
   "metadata": {
    "id": "ifAqCb45ib3s"
   },
   "outputs": [],
   "source": [
    "import numpy as np\n",
    "import pandas as pd\n",
    "import seaborn as sns\n",
    "import matplotlib.pyplot as plt\n",
    "import sklearn.linear_model as lm\n",
    "## this sets some style parameters\n",
    "sns.set()\n",
    "\n",
    "## Read in the data and display a few rows\n",
    "dat = pd.read_csv(\"https://raw.githubusercontent.com/bcaffo/ds4bme_intro/master/data/oasis.csv\")"
   ]
  },
  {
   "cell_type": "code",
   "execution_count": 2,
   "metadata": {
    "colab": {
     "base_uri": "https://localhost:8080/",
     "height": 357
    },
    "id": "y6wr4aBFiuAS",
    "outputId": "82a2be1d-4914-44e8-a17d-1ccfdb6f13e9"
   },
   "outputs": [
    {
     "name": "stderr",
     "output_type": "stream",
     "text": [
      "/home/bcaffo/miniconda3/envs/ds4bio/lib/python3.9/site-packages/seaborn/_decorators.py:36: FutureWarning: Pass the following variables as keyword args: x, y. From version 0.12, the only valid positional argument will be `data`, and passing other arguments without an explicit keyword will result in an error or misinterpretation.\n",
      "  warnings.warn(\n"
     ]
    },
    {
     "data": {
      "text/plain": [
       "<AxesSubplot:xlabel='FLAIR', ylabel='GOLD_Lesions'>"
      ]
     },
     "execution_count": 2,
     "metadata": {},
     "output_type": "execute_result"
    },
    {
     "data": {
      "image/png": "[encoded data removed]",
      "text/plain": [
       "<Figure size 432x288 with 1 Axes>"
      ]
     },
     "metadata": {
      "filenames": {
       "image/png": "/home/bcaffo/sandboxes/ds4bio_book/book/_build/jupyter_execute/logistic_4_2.png"
      }
     },
     "output_type": "display_data"
    }
   ],
   "source": [
    "## Plot the data\n",
    "sns.scatterplot('FLAIR', 'GOLD_Lesions', data = dat)\n"
   ]
  },
  {
   "cell_type": "markdown",
   "metadata": {
    "id": "x_z1yMIuqaij"
   },
   "source": [
    "Let's now fit the model. Again we're going to split into training and test data. But, now we're not going to do it manually since we have to load a library that has a function to do this."
   ]
  },
  {
   "cell_type": "code",
   "execution_count": 3,
   "metadata": {
    "id": "3e1JpcHcqkUB"
   },
   "outputs": [],
   "source": [
    "x = dat[['FLAIR']]\n",
    "y = dat.GOLD_Lesions\n",
    "trainFraction = .75\n",
    "\n",
    "## Once again hold out some data\n",
    "sample = np.random.uniform(size = 100) < trainFraction\n",
    "xtrain = x[ sample]\n",
    "ytrain = y[ sample]\n",
    "xtest =  x[~sample]\n",
    "ytest =  y[~sample]\n"
   ]
  },
  {
   "cell_type": "code",
   "execution_count": 4,
   "metadata": {
    "id": "Ap2VTA3yr5Nm"
   },
   "outputs": [],
   "source": [
    "lr = lm.LogisticRegression(fit_intercept=True, penalty='none')\n",
    "fit = lr.fit(xtrain, ytrain)"
   ]
  },
  {
   "cell_type": "markdown",
   "metadata": {
    "id": "sM07ock_hp1w"
   },
   "source": [
    "Let's look at the parameters fit from the model"
   ]
  },
  {
   "cell_type": "code",
   "execution_count": 5,
   "metadata": {
    "colab": {
     "base_uri": "https://localhost:8080/"
    },
    "id": "tH0jHnilhtTU",
    "outputId": "3b21e47c-6c6b-4892-aff4-3dbb48fea609"
   },
   "outputs": [
    {
     "data": {
      "text/plain": [
       "[-4.087161697670093, 2.60285655682836]"
      ]
     },
     "execution_count": 5,
     "metadata": {},
     "output_type": "execute_result"
    }
   ],
   "source": [
    "beta0, beta1 = [fit.intercept_[0], fit.coef_[0][0]]\n",
    "[beta0, beta1]"
   ]
  },
  {
   "cell_type": "code",
   "execution_count": 6,
   "metadata": {
    "colab": {
     "base_uri": "https://localhost:8080/",
     "height": 392
    },
    "id": "etcphjtOu8F-",
    "outputId": "312d3ce4-49ef-4c72-bcb8-daffe893b3cf"
   },
   "outputs": [
    {
     "name": "stderr",
     "output_type": "stream",
     "text": [
      "/home/bcaffo/miniconda3/envs/ds4bio/lib/python3.9/site-packages/seaborn/_decorators.py:36: FutureWarning: Pass the following variables as keyword args: x, y. From version 0.12, the only valid positional argument will be `data`, and passing other arguments without an explicit keyword will result in an error or misinterpretation.\n",
      "  warnings.warn(\n",
      "/home/bcaffo/miniconda3/envs/ds4bio/lib/python3.9/site-packages/seaborn/_decorators.py:36: FutureWarning: Pass the following variables as keyword args: x, y. From version 0.12, the only valid positional argument will be `data`, and passing other arguments without an explicit keyword will result in an error or misinterpretation.\n",
      "  warnings.warn(\n"
     ]
    },
    {
     "data": {
      "text/plain": [
       "<AxesSubplot:xlabel='FLAIR', ylabel='GOLD_Lesions'>"
      ]
     },
     "execution_count": 6,
     "metadata": {},
     "output_type": "execute_result"
    },
    {
     "data": {
      "image/png": "[encoded data removed]",
      "text/plain": [
       "<Figure size 432x288 with 1 Axes>"
      ]
     },
     "metadata": {
      "filenames": {
       "image/png": "/home/bcaffo/sandboxes/ds4bio_book/book/_build/jupyter_execute/logistic_10_2.png"
      }
     },
     "output_type": "display_data"
    }
   ],
   "source": [
    "n = 1000\n",
    "xplot = np.linspace(-1, 5, n)\n",
    "eta = beta0 + beta1 * xplot\n",
    "p = 1 / (1 + np.exp(-eta))\n",
    "\n",
    "sns.scatterplot('FLAIR', 'GOLD_Lesions', data = dat, hue = 'GOLD_Lesions')\n",
    "sns.lineplot(xplot, p)\n",
    "\n",
    "## Of course, scikit has a predict\n",
    "## function so that you don't have to do this manually\n",
    "#yplot = fit.predict_proba(xplot.reshape((n, 1)))\n",
    "#sns.lineplot(xplot, yplot[:, 1])\n"
   ]
  },
  {
   "cell_type": "markdown",
   "metadata": {
    "id": "_klq2nybjmnJ"
   },
   "source": [
    "Now let's evaluate the test set."
   ]
  },
  {
   "cell_type": "code",
   "execution_count": 7,
   "metadata": {
    "colab": {
     "base_uri": "https://localhost:8080/"
    },
    "id": "zYG1FVHqhQRt",
    "outputId": "144ced78-0fa6-4237-a748-b9ae9954bf14"
   },
   "outputs": [
    {
     "data": {
      "text/plain": [
       "array([0.655, 0.615, 0.688])"
      ]
     },
     "execution_count": 7,
     "metadata": {},
     "output_type": "execute_result"
    }
   ],
   "source": [
    "## This predicts the classes using a 50% probability cutoff\n",
    "yhat_test = fit.predict(xtest)\n",
    "\n",
    "## double checking that if you want\n",
    "#all(yhat_test == (fit.predict_proba(xtest)[:, 1] > .5))\n",
    "\n",
    "accuracy = np.mean(yhat_test == ytest)\n",
    "sensitivity = np.mean(yhat_test[ytest == 1] == ytest[ytest == 1])\n",
    "specificity = np.mean(yhat_test[ytest == 0] == ytest[ytest == 0])\n",
    "np.round([accuracy, sensitivity, specificity], 3)\n"
   ]
  },
  {
   "cell_type": "code",
   "execution_count": 8,
   "metadata": {
    "colab": {
     "base_uri": "https://localhost:8080/",
     "height": 301
    },
    "id": "Z4guOe34xFaD",
    "outputId": "2f45105d-dd6c-4762-f8e5-9a39cc2f6746"
   },
   "outputs": [
    {
     "data": {
      "image/png": "[encoded data removed]",
      "text/plain": [
       "<Figure size 432x288 with 1 Axes>"
      ]
     },
     "metadata": {
      "filenames": {
       "image/png": "/home/bcaffo/sandboxes/ds4bio_book/book/_build/jupyter_execute/logistic_13_0.png"
      }
     },
     "output_type": "display_data"
    }
   ],
   "source": [
    "from sklearn.metrics import accuracy_score, roc_curve, auc\n",
    "\n",
    "ptest = fit.predict_proba(xtest)[:, 1]\n",
    "fpr, tpr, thresholds = roc_curve(ytest, ptest)\n",
    "roc_auc = auc(fpr, tpr)\n",
    "plt.figure()\n",
    "lw = 2\n",
    "plt.plot(fpr, tpr, color='darkorange',\n",
    "         lw=lw, label='ROC curve (area = %0.2f)' % roc_auc)\n",
    "plt.plot([0, 1], [0, 1], color='navy', lw=lw, linestyle='--')\n",
    "plt.xlim([-0.05, 1.05])\n",
    "plt.ylim([-0.05, 1.05])\n",
    "plt.xlabel('False Positive Rate')\n",
    "plt.ylabel('True Positive Rate')\n",
    "plt.title('Receiver operating characteristic example')\n",
    "plt.legend(loc=\"lower right\")\n",
    "plt.show()\n"
   ]
  }
 ],
 "metadata": {
  "colab": {
   "collapsed_sections": [],
   "include_colab_link": true,
   "name": "notebook4.ipynb",
   "provenance": []
  },
  "kernelspec": {
   "display_name": "Python 3",
   "name": "python3"
  },
  "language_info": {
   "codemirror_mode": {
    "name": "ipython",
    "version": 3
   },
   "file_extension": ".py",
   "mimetype": "text/x-python",
   "name": "python",
   "nbconvert_exporter": "python",
   "pygments_lexer": "ipython3",
   "version": "3.9.7"
  }
 },
 "nbformat": 4,
 "nbformat_minor": 2
}