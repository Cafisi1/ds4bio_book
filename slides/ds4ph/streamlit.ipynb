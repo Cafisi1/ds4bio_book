{
 "cells": [
  {
   "cell_type": "markdown",
   "id": "d15a29c0-3fc1-4e46-b123-8a3f7358eb12",
   "metadata": {
    "slideshow": {
     "slide_type": "slide"
    },
    "tags": []
   },
   "source": [
    "# Streamlit"
   ]
  },
  {
   "cell_type": "markdown",
   "id": "85da8318-fc69-46a4-ab58-9fe7c9bb4cc5",
   "metadata": {
    "slideshow": {
     "slide_type": "subslide"
    },
    "tags": []
   },
   "source": [
    "## your first app\n",
    "\n",
    "+ Streamlit, like voila, panel, shiny and flask, is computational web server development framework. \n",
    "+ At this moment, dash seems to be the most popular solution for python dashboarding. \n",
    "+ However, streamlit seems to be gaining traction. Streamlit is very easy to learn.\n"
   ]
  },
  {
   "cell_type": "markdown",
   "id": "5f26c4b3-d0db-4fd2-9dde-d2364b621f4b",
   "metadata": {
    "slideshow": {
     "slide_type": "subslide"
    },
    "tags": []
   },
   "source": [
    "## Installation\n",
    "\n",
    "```\n",
    "pip install streamlit\n",
    "```"
   ]
  },
  {
   "cell_type": "markdown",
   "id": "94125136-179b-4fdc-82ee-036ccf0dca9f",
   "metadata": {
    "slideshow": {
     "slide_type": "subslide"
    },
    "tags": []
   },
   "source": [
    "## Building\n",
    "\n",
    "Create a file, say `app1.py`, with the following code:\n",
    "\n",
    "```\n",
    "import streamlit as st\n",
    "\n",
    "st.write(\"\"\"\n",
    "# Streamlit can use markdown syntax\n",
    "## Level 2\n",
    "\n",
    "+ bullet 1\n",
    "+ bullet 2\n",
    "\"\"\"\n",
    ")\n",
    "```"
   ]
  },
  {
   "cell_type": "markdown",
   "id": "96381c39-87a0-4dab-9e91-3658659ede1c",
   "metadata": {
    "slideshow": {
     "slide_type": "subslide"
    },
    "tags": []
   },
   "source": [
    "## Compilinig the site\n",
    "\n",
    "Open up a terminal in the directory of your app and type\n",
    "\n",
    "```\n",
    "streamlit run app1.py\n",
    "```\n",
    "\n",
    "It should pop up a browser with your app running!"
   ]
  },
  {
   "cell_type": "markdown",
   "id": "05d1361d-0d80-412b-b7bd-69664ecca6e9",
   "metadata": {
    "slideshow": {
     "slide_type": "subslide"
    },
    "tags": []
   },
   "source": [
    "## Input / output\n",
    "\n",
    "Streamlit is very easy for programming I/O \n",
    "\n",
    "```\n",
    "import streamlit as st\n",
    "import pandas as pd\n",
    "import numpy as np\n",
    "\n",
    "cb = st.checkbox(\"Did you check the box\")\n",
    "if cb:\n",
    "    st.write(\"Yes you did! :-)\")\n",
    "else:\n",
    "    st.write(\"No you didn't :-(\")\n",
    "```"
   ]
  },
  {
   "cell_type": "markdown",
   "id": "a0cb4f59-c7bf-44db-82c1-b7532f1a77d1",
   "metadata": {
    "slideshow": {
     "slide_type": "subslide"
    },
    "tags": []
   },
   "source": [
    "```\n",
    "rb = st.radio(\n",
    "     \"Pick an option\",\n",
    "     ('Option 1', 'Option 2', 'Option 3'))\n",
    "st.write(\"you picked \" + rb)\n",
    "\n",
    "\n",
    "## Adding a chart\n",
    "\n",
    "nsims = st.number_input('Put in a number of sims', value = 10)\n",
    "if nsims < 10 : \n",
    "    st.write(\"Pick a bigger number\")\n",
    "else :\n",
    "    chart_data = pd.DataFrame(\n",
    "         np.random.randn(np.round(nsims), 2),\n",
    "         columns=['a', 'b'])\n",
    "    st.line_chart(chart_data)\n",
    "```"
   ]
  },
  {
   "cell_type": "markdown",
   "id": "9e863de4-d098-4e87-8287-a4711d6cb50d",
   "metadata": {
    "slideshow": {
     "slide_type": "subslide"
    },
    "tags": []
   },
   "source": [
    "+ simply save this in a file, say `app2.py` \n",
    "+ type `streamlit run app2.py`\n",
    "+ Also, the app has a button that allows you to deploy it to the streamlit hosting service."
   ]
  },
  {
   "cell_type": "markdown",
   "id": "6e8ca0aa-2a11-4a13-8bf6-94e28a7f0515",
   "metadata": {
    "slideshow": {
     "slide_type": "subslide"
    },
    "tags": []
   },
   "source": [
    "## Multipage apps\n",
    "\n",
    "It's easy and possible to have multi-page apps. Simply \n",
    "\n",
    "+ Create a directory, say `multi-page` \n",
    "+ Create a root file in that directory, say `home.py`\n",
    "+ Create a subdirectory called `pages`\n",
    "+ Put the subpages as files in the `pages` directory\n",
    "+ Navigate to `multi-page` then `streamlit run home.py`"
   ]
  }
 ],
 "metadata": {
  "kernelspec": {
   "display_name": "Python [conda env:.conda-ds4bio]",
   "language": "python",
   "name": "conda-env-.conda-ds4bio-py"
  },
  "language_info": {
   "codemirror_mode": {
    "name": "ipython",
    "version": 3
   },
   "file_extension": ".py",
   "mimetype": "text/x-python",
   "name": "python",
   "nbconvert_exporter": "python",
   "pygments_lexer": "ipython3",
   "version": "3.10.4"
  },
  "vscode": {
   "interpreter": {
    "hash": "79f87720972903b6188d40b03afb0115543bf63f5f0af29aadb196967754f61a"
   }
  }
 },
 "nbformat": 4,
 "nbformat_minor": 5
}
