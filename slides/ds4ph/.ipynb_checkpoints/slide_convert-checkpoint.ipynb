{
 "cells": [
  {
   "cell_type": "code",
   "execution_count": 25,
   "metadata": {},
   "outputs": [],
   "source": [
    "from rajas import embeddings as eb"
   ]
  },
  {
   "cell_type": "code",
   "execution_count": 26,
   "metadata": {},
   "outputs": [],
   "source": [
    "eb.embed_audio('02_github.ipynb')"
   ]
  },
  {
   "cell_type": "markdown",
   "metadata": {},
   "source": [
    "Default conversion\n",
    "\n",
    "```\n",
    "02 converted with `jupyter nbconvert 02_github.ipynb --to slides --no-input`\n",
    "```\n"
   ]
  },
  {
   "cell_type": "markdown",
   "metadata": {},
   "source": [
    "Conversion with different theme\n",
    "\n",
    "```\n",
    "jupyter nbconvert 10_sqlite.ipynb --to slides --SlidesExporter.reveal_theme=solarized\n",
    "```\n"
   ]
  }
 ],
 "metadata": {
  "kernelspec": {
   "display_name": "Python 3 (ipykernel)",
   "language": "python",
   "name": "python3"
  },
  "language_info": {
   "codemirror_mode": {
    "name": "ipython",
    "version": 3
   },
   "file_extension": ".py",
   "mimetype": "text/x-python",
   "name": "python",
   "nbconvert_exporter": "python",
   "pygments_lexer": "ipython3",
   "version": "3.10.4"
  },
  "vscode": {
   "interpreter": {
    "hash": "79f87720972903b6188d40b03afb0115543bf63f5f0af29aadb196967754f61a"
   }
  }
 },
 "nbformat": 4,
 "nbformat_minor": 4
}
