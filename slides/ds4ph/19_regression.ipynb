{
 "cells": [
  {
   "cell_type": "markdown",
   "metadata": {
    "colab_type": "text",
    "id": "SPg_7aF97ut2",
    "slideshow": {
     "slide_type": "slide"
    },
    "tags": []
   },
   "source": [
    "# Continuous prediction with regression\n",
    "\n"
   ]
  },
  {
   "cell_type": "markdown",
   "metadata": {
    "slideshow": {
     "slide_type": "subslide"
    },
    "tags": []
   },
   "source": [
    "## Background\n",
    "\n",
    "+ Recall, we discussed a strict threshold classifier with accuracy as the loss function. \n",
    "+ Now consider continuous prediction, we need a loss function. \n",
    "+ A reasonable strategy would be to minimize the average squared distances between our predictions and the observed values, called the mean squared error MSE\n",
    "\n",
    "$$\\frac{1}{n}\\sum_{i=1}^n (Y_i - \\hat \\mu_i)^2.$$\n"
   ]
  },
  {
   "cell_type": "markdown",
   "metadata": {
    "slideshow": {
     "slide_type": "subslide"
    },
    "tags": []
   },
   "source": [
    "## Regression line\n",
    "\n",
    "+ How to come up with $\\hat \\mu_i$, our predictions for the observation $Y_i$?. \n",
    "+ We previously considered just a rescaled version of $X$, our predictor, using regression through the origin. \n",
    "+ Consider a slightly more complex model that includes a location (intercept) shift and a scale factor (slope)\n",
    "+ To tie ourselves down with an example, consider the previous lecture's example, consider trying to get the FLAIR value from the other, non-FLAIR, imaging values. \n"
   ]
  },
  {
   "cell_type": "code",
   "execution_count": 33,
   "metadata": {
    "colab": {
     "base_uri": "https://localhost:8080/",
     "height": 192
    },
    "colab_type": "code",
    "id": "NUkxnWrB1RrP",
    "outputId": "2d9ff002-6ea2-435a-bbfb-f58ab0361971",
    "slideshow": {
     "slide_type": "subslide"
    },
    "tags": []
   },
   "outputs": [
    {
     "data": {
      "text/html": [
       "<div>\n",
       "<style scoped>\n",
       "    .dataframe tbody tr th:only-of-type {\n",
       "        vertical-align: middle;\n",
       "    }\n",
       "\n",
       "    .dataframe tbody tr th {\n",
       "        vertical-align: top;\n",
       "    }\n",
       "\n",
       "    .dataframe thead th {\n",
       "        text-align: right;\n",
       "    }\n",
       "</style>\n",
       "<table border=\"1\" class=\"dataframe\">\n",
       "  <thead>\n",
       "    <tr style=\"text-align: right;\">\n",
       "      <th></th>\n",
       "      <th>FLAIR</th>\n",
       "      <th>PD</th>\n",
       "      <th>T1</th>\n",
       "      <th>T2</th>\n",
       "      <th>FLAIR_10</th>\n",
       "      <th>PD_10</th>\n",
       "      <th>T1_10</th>\n",
       "      <th>T2_10</th>\n",
       "      <th>FLAIR_20</th>\n",
       "      <th>PD_20</th>\n",
       "      <th>T1_20</th>\n",
       "      <th>T2_20</th>\n",
       "      <th>GOLD_Lesions</th>\n",
       "    </tr>\n",
       "  </thead>\n",
       "  <tbody>\n",
       "    <tr>\n",
       "      <th>0</th>\n",
       "      <td>1.143692</td>\n",
       "      <td>1.586219</td>\n",
       "      <td>-0.799859</td>\n",
       "      <td>1.634467</td>\n",
       "      <td>0.437568</td>\n",
       "      <td>0.823800</td>\n",
       "      <td>-0.002059</td>\n",
       "      <td>0.573663</td>\n",
       "      <td>0.279832</td>\n",
       "      <td>0.548341</td>\n",
       "      <td>0.219136</td>\n",
       "      <td>0.298662</td>\n",
       "      <td>0</td>\n",
       "    </tr>\n",
       "    <tr>\n",
       "      <th>1</th>\n",
       "      <td>1.652552</td>\n",
       "      <td>1.766672</td>\n",
       "      <td>-1.250992</td>\n",
       "      <td>0.921230</td>\n",
       "      <td>0.663037</td>\n",
       "      <td>0.880250</td>\n",
       "      <td>-0.422060</td>\n",
       "      <td>0.542597</td>\n",
       "      <td>0.422182</td>\n",
       "      <td>0.549711</td>\n",
       "      <td>0.061573</td>\n",
       "      <td>0.280972</td>\n",
       "      <td>0</td>\n",
       "    </tr>\n",
       "    <tr>\n",
       "      <th>2</th>\n",
       "      <td>1.036099</td>\n",
       "      <td>0.262042</td>\n",
       "      <td>-0.858565</td>\n",
       "      <td>-0.058211</td>\n",
       "      <td>-0.044280</td>\n",
       "      <td>-0.308569</td>\n",
       "      <td>0.014766</td>\n",
       "      <td>-0.256075</td>\n",
       "      <td>-0.136532</td>\n",
       "      <td>-0.350905</td>\n",
       "      <td>0.020673</td>\n",
       "      <td>-0.259914</td>\n",
       "      <td>0</td>\n",
       "    </tr>\n",
       "    <tr>\n",
       "      <th>3</th>\n",
       "      <td>1.037692</td>\n",
       "      <td>0.011104</td>\n",
       "      <td>-1.228796</td>\n",
       "      <td>-0.470222</td>\n",
       "      <td>-0.013971</td>\n",
       "      <td>-0.000498</td>\n",
       "      <td>-0.395575</td>\n",
       "      <td>-0.221900</td>\n",
       "      <td>0.000807</td>\n",
       "      <td>-0.003085</td>\n",
       "      <td>-0.193249</td>\n",
       "      <td>-0.139284</td>\n",
       "      <td>0</td>\n",
       "    </tr>\n",
       "  </tbody>\n",
       "</table>\n",
       "</div>"
      ],
      "text/plain": [
       "      FLAIR        PD        T1        T2  FLAIR_10     PD_10     T1_10  \\\n",
       "0  1.143692  1.586219 -0.799859  1.634467  0.437568  0.823800 -0.002059   \n",
       "1  1.652552  1.766672 -1.250992  0.921230  0.663037  0.880250 -0.422060   \n",
       "2  1.036099  0.262042 -0.858565 -0.058211 -0.044280 -0.308569  0.014766   \n",
       "3  1.037692  0.011104 -1.228796 -0.470222 -0.013971 -0.000498 -0.395575   \n",
       "\n",
       "      T2_10  FLAIR_20     PD_20     T1_20     T2_20  GOLD_Lesions  \n",
       "0  0.573663  0.279832  0.548341  0.219136  0.298662             0  \n",
       "1  0.542597  0.422182  0.549711  0.061573  0.280972             0  \n",
       "2 -0.256075 -0.136532 -0.350905  0.020673 -0.259914             0  \n",
       "3 -0.221900  0.000807 -0.003085 -0.193249 -0.139284             0  "
      ]
     },
     "execution_count": 33,
     "metadata": {},
     "output_type": "execute_result"
    }
   ],
   "source": [
    "import numpy as np\n",
    "from scipy import stats as st\n",
    "import pandas as pd\n",
    "import seaborn as sns\n",
    "import matplotlib.pyplot as plt\n",
    "## this sets some style parameters\n",
    "sns.set()\n",
    "\n",
    "## Read in the data and display a few rows\n",
    "dat = pd.read_csv(\"https://raw.githubusercontent.com/bcaffo/ds4bme_intro/master/data/oasis.csv\")\n",
    "dat.head(4)"
   ]
  },
  {
   "cell_type": "code",
   "execution_count": 34,
   "metadata": {
    "colab": {
     "base_uri": "https://localhost:8080/",
     "height": 743
    },
    "colab_type": "code",
    "id": "8oilUyjjBA9J",
    "outputId": "9e72f53d-9466-4d4b-aee4-6943d825c455",
    "slideshow": {
     "slide_type": "subslide"
    },
    "tags": []
   },
   "outputs": [
    {
     "data": {
      "image/png": "[encoded data removed]",
      "text/plain": [
       "<Figure size 432x288 with 1 Axes>"
      ]
     },
     "metadata": {},
     "output_type": "display_data"
    }
   ],
   "source": [
    "sns.scatterplot(data = dat, x = 'T2', y = 'PD', hue = 'GOLD_Lesions');"
   ]
  },
  {
   "cell_type": "markdown",
   "metadata": {
    "colab_type": "text",
    "id": "GGToPKAVDZhD",
    "slideshow": {
     "slide_type": "slide"
    },
    "tags": []
   },
   "source": [
    "# Regression lines\n",
    "\n",
    "+ Let's try to predict their PD values from the T2 values using a line.\n",
    "+ Consider the loss function\n",
    "\n",
    "$$\n",
    "\\sum_{v=1}^V (PD_v - \\beta_0 - \\beta_1 T2_v)^2\n",
    "$$\n",
    "\n",
    "\n",
    "+ A general equation for fitting a line to data is\n",
    "\n",
    "$$\n",
    "\\sum_{i=1}^n (Y_i - \\beta_0 - \\beta_1 X_i)^2\n",
    "$$\n",
    "\n",
    "\n",
    "pointing out that the fitted line has to go through the point $(\\bar X, \\bar Y)$. \n"
   ]
  },
  {
   "cell_type": "markdown",
   "metadata": {
    "slideshow": {
     "slide_type": "subslide"
    },
    "tags": []
   },
   "source": [
    "## Some definitions\n",
    "\n",
    "* The **covariance** is defined as  $Cov(X,Y) = \\sum_{i=1}^n (Y_i - \\bar Y) (X_i - \\bar X) / (N-1)$\n",
    "* The **standard deviation** of $X$ is $SD_X$, $\\sqrt{Cov(X, X)}$\n",
    "* The Pearson **correlation** is defined as $\\frac{Cov(X, Y)}{SD_X \\times SD_Y}$"
   ]
  },
  {
   "cell_type": "markdown",
   "metadata": {
    "slideshow": {
     "slide_type": "subslide"
    },
    "tags": []
   },
   "source": [
    "## General solution\n",
    "\n",
    "+ It turns out that $\\beta_0$ and $\\beta_1$ have optimal solutions that we can write down. We get\n",
    "\n",
    "$$\n",
    "\\hat \\beta_1 = Cor(X, Y) \\frac{SD_Y}{SD_X}\n",
    "$$\n",
    "\n",
    "+ where $Cor(X, Y)$ is the (Pearson) **correlation** between $X$ and $Y$ and $SD_X$ is the **standard deviation** of $X$ (and $SD_Y$ is for $Y$). \n"
   ]
  },
  {
   "cell_type": "markdown",
   "metadata": {},
   "source": [
    "## The intercept\n",
    "\n",
    "$$\n",
    "\\hat \\beta_0 = \\bar Y - \\bar X \\hat \\beta_1\n",
    "$$\n",
    "\n",
    "+ where $\\bar X$ and $\\bar Y$ are the means. \n",
    "+ Notice this latter equation reorganized is just\n",
    "\n",
    "$$\n",
    "\\bar Y = \\hat \\beta_0 + \\bar X \\hat \\beta_1\n",
    "$$"
   ]
  },
  {
   "cell_type": "markdown",
   "metadata": {
    "slideshow": {
     "slide_type": "slide"
    },
    "tags": []
   },
   "source": [
    "## Trying it out on the data"
   ]
  },
  {
   "cell_type": "code",
   "execution_count": 35,
   "metadata": {
    "colab": {
     "base_uri": "https://localhost:8080/",
     "height": 327
    },
    "colab_type": "code",
    "id": "utwhz3-DGbjc",
    "outputId": "b03a6a4c-7333-4239-876a-c7a2a7611b79",
    "slideshow": {
     "slide_type": "subslide"
    },
    "tags": []
   },
   "outputs": [
    {
     "name": "stdout",
     "output_type": "stream",
     "text": [
      "[0.37979430758728255, 0.7165394537744153]\n"
     ]
    }
   ],
   "source": [
    "x = dat['T2']\n",
    "y = dat['PD']\n",
    "trainFraction = 0.75\n",
    "\n",
    "## Hold out data\n",
    "sample = np.random.uniform(size = 100) < trainFraction\n",
    "xtrain = x[ sample]\n",
    "ytrain = y[ sample]\n",
    "xtest =  x[~sample]\n",
    "ytest =  y[~sample]\n",
    "\n",
    "## get the slope on the training data\n",
    "beta1 = st.pearsonr(xtrain, ytrain)[0] * np.std(ytrain) / np.std(xtrain)\n",
    "beta0 = np.mean(ytrain) - np.mean(xtrain) * beta1\n",
    "print([beta0, beta1])"
   ]
  },
  {
   "cell_type": "code",
   "execution_count": 36,
   "metadata": {
    "slideshow": {
     "slide_type": "subslide"
    },
    "tags": []
   },
   "outputs": [
    {
     "data": {
      "image/png": "[encoded data removed]",
      "text/plain": [
       "<Figure size 432x288 with 1 Axes>"
      ]
     },
     "metadata": {},
     "output_type": "display_data"
    }
   ],
   "source": [
    "sns.scatterplot(x = xtrain, y = ytrain);\n",
    "sns.lineplot(x = xtrain, y = beta0 + beta1 * xtrain);"
   ]
  },
  {
   "cell_type": "code",
   "execution_count": 37,
   "metadata": {
    "colab": {
     "base_uri": "https://localhost:8080/",
     "height": 347
    },
    "colab_type": "code",
    "id": "YS9JVAHlJOvr",
    "outputId": "fdcaa017-cd20-4bb2-b8b0-ac93aabbd503",
    "slideshow": {
     "slide_type": "subslide"
    },
    "tags": []
   },
   "outputs": [
    {
     "name": "stdout",
     "output_type": "stream",
     "text": [
      "LinregressResult(slope=0.7165394537744153, intercept=0.37979430758728255, rvalue=0.7900835285405753, pvalue=8.055518865241583e-18, stderr=0.06377055715137457, intercept_stderr=0.06203615347805063)\n"
     ]
    },
    {
     "data": {
      "image/png": "[encoded data removed]",
      "text/plain": [
       "<Figure size 432x288 with 1 Axes>"
      ]
     },
     "metadata": {},
     "output_type": "display_data"
    }
   ],
   "source": [
    "print(st.linregress(xtrain, ytrain))\n",
    "sns.regplot(x = xtrain, y = ytrain);"
   ]
  },
  {
   "cell_type": "markdown",
   "metadata": {
    "colab_type": "text",
    "id": "qmfMkJIlV3zl",
    "slideshow": {
     "slide_type": "subslide"
    },
    "tags": []
   },
   "source": [
    "# Predictions"
   ]
  },
  {
   "cell_type": "code",
   "execution_count": 38,
   "metadata": {
    "colab": {
     "base_uri": "https://localhost:8080/",
     "height": 327
    },
    "colab_type": "code",
    "id": "JNG3Y-TlWMha",
    "outputId": "0cca7673-d231-4bd7-d772-4d20328e334c",
    "slideshow": {
     "slide_type": "subslide"
    },
    "tags": []
   },
   "outputs": [
    {
     "name": "stdout",
     "output_type": "stream",
     "text": [
      "[0.1831795167994209, 0.20490644372956196]\n"
     ]
    },
    {
     "data": {
      "image/png": "[encoded data removed]",
      "text/plain": [
       "<Figure size 432x288 with 1 Axes>"
      ]
     },
     "metadata": {},
     "output_type": "display_data"
    }
   ],
   "source": [
    "yhat_test = beta0 + beta1 * xtest\n",
    "yhat_train = beta0 + beta1 * xtrain\n",
    "\n",
    "## claculate the MSE in the training and test sets\n",
    "print([ np.mean( (ytrain - yhat_train) ** 2), \n",
    "        np.mean( (ytest -  yhat_test) ** 2 ) ])\n",
    "\n",
    "\n",
    "sns.scatterplot(x = yhat_test, y = ytest);\n",
    "plt.xlabel('Predicted value from xtest T2 values');\n",
    "plt.ylabel('Actual PD value from ytest');"
   ]
  }
 ],
 "metadata": {
  "colab": {
   "collapsed_sections": [],
   "include_colab_link": true,
   "name": "notebook3.ipynb",
   "provenance": []
  },
  "kernelspec": {
   "display_name": "Python [conda env:.conda-ds4bio]",
   "language": "python",
   "name": "conda-env-.conda-ds4bio-py"
  },
  "language_info": {
   "codemirror_mode": {
    "name": "ipython",
    "version": 3
   },
   "file_extension": ".py",
   "mimetype": "text/x-python",
   "name": "python",
   "nbconvert_exporter": "python",
   "pygments_lexer": "ipython3",
   "version": "3.10.4"
  },
  "vscode": {
   "interpreter": {
    "hash": "79f87720972903b6188d40b03afb0115543bf63f5f0af29aadb196967754f61a"
   }
  }
 },
 "nbformat": 4,
 "nbformat_minor": 4
}
