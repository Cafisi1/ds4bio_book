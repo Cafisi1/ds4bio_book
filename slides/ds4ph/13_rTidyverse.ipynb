{
 "cells": [
  {
   "cell_type": "markdown",
   "id": "40ad7fa4-f60a-42a7-a5f8-3bb71ab045b2",
   "metadata": {
    "slideshow": {
     "slide_type": "slide"
    },
    "tags": []
   },
   "source": [
    "# R tidyverse quick example\n",
    "\n",
    " + R has had undergone a bit of a revolution of sorts in the past few years. \n",
    " + There has been a coordinated effort to develop a collection of code focusing on the major use cases for data science. \n",
    " + Posit (nee Rstudio), the developer of the well known R/python IDE, in specific, has been a major leader in this effort. \n",
    " + However, there have also too many additional open source contributors to even try to mention a meaningful subset. \n",
    " + The result is a really pleasant and easy to learn data science environment for so-called \"tidy\" data"
   ]
  },
  {
   "cell_type": "markdown",
   "id": "c1c4e2a9-2615-4d3f-9049-9d448175cbd1",
   "metadata": {
    "slideshow": {
     "slide_type": "subslide"
    },
    "tags": []
   },
   "source": [
    "## Tidy data\n",
    "Let's start with the [definition of a tidy dataset](https://cran.r-project.org/web/packages/tidyr/vignettes/tidy-data.html). To quote:\n",
    "\n",
    "```{note}\n",
    "Tidy data is a standard way of mapping the meaning of a dataset to its structure. A dataset is messy or tidy depending on how rows, columns and tables are matched up with observations, variables and types. In tidy data:\n",
    "\n",
    "1. Every column is a variable.\n",
    "2. Every row is an observation.\n",
    "3. Every cell is a single value.\n",
    "```"
   ]
  },
  {
   "cell_type": "markdown",
   "id": "8dc6db64-bcf1-41dd-adb2-23a621b8adcc",
   "metadata": {},
   "source": [
    "+ The idea is, spend your time getting the data into a tidy format. \n",
    "+ This will make everything that follows so much easier, from summaries to plots to analyses. \n",
    "+ The set of tidyverse packages and functions (of course) focuses on tidy data, but nicely adds a common syntax and set of conventions. \n",
    "+ You can install the tidyverse with the R command `install.packages(\"tidyverse\")`, which only needs to be done once. \n",
    "+ You can add the tidyverse to a conda environment with `conda install -c r r-tidyverse` ."
   ]
  },
  {
   "cell_type": "code",
   "execution_count": 1,
   "id": "be2786f0-1b55-4ca5-824e-ebdc06ccd788",
   "metadata": {
    "slideshow": {
     "slide_type": "slide"
    },
    "tags": []
   },
   "outputs": [
    {
     "name": "stderr",
     "output_type": "stream",
     "text": [
      "── \u001b[1mAttaching packages\u001b[22m ────────────────────────────────────────────────────────────────────────────────────────────────────────────────────────────────────────────────── tidyverse 1.3.1 ──\n",
      "\n",
      "\u001b[32m✔\u001b[39m \u001b[34mggplot2\u001b[39m 3.3.6     \u001b[32m✔\u001b[39m \u001b[34mpurrr  \u001b[39m 0.3.4\n",
      "\u001b[32m✔\u001b[39m \u001b[34mtibble \u001b[39m 3.1.7     \u001b[32m✔\u001b[39m \u001b[34mdplyr  \u001b[39m 1.0.9\n",
      "\u001b[32m✔\u001b[39m \u001b[34mtidyr  \u001b[39m 1.2.0     \u001b[32m✔\u001b[39m \u001b[34mstringr\u001b[39m 1.4.0\n",
      "\u001b[32m✔\u001b[39m \u001b[34mreadr  \u001b[39m 2.1.2     \u001b[32m✔\u001b[39m \u001b[34mforcats\u001b[39m 0.5.1\n",
      "\n",
      "── \u001b[1mConflicts\u001b[22m ───────────────────────────────────────────────────────────────────────────────────────────────────────────────────────────────────────────────────── tidyverse_conflicts() ──\n",
      "\u001b[31m✖\u001b[39m \u001b[34mdplyr\u001b[39m::\u001b[32mfilter()\u001b[39m masks \u001b[34mstats\u001b[39m::filter()\n",
      "\u001b[31m✖\u001b[39m \u001b[34mdplyr\u001b[39m::\u001b[32mlag()\u001b[39m    masks \u001b[34mstats\u001b[39m::lag()\n",
      "\n"
     ]
    }
   ],
   "source": [
    "## Loading tidyverse\n",
    "## Install it first if needed\n",
    "## install.packages(\"tidyverse\")\n",
    "\n",
    "library(tidyverse)"
   ]
  },
  {
   "cell_type": "markdown",
   "id": "cc8ae9d2-98cd-43a1-82f2-1819f776dc99",
   "metadata": {},
   "source": [
    "Make note of the conflict `filter` which is both used to filter rows a dataframe and in signal processing. The `::` looks for functions in that package. You can use that if you want to quickly use a function without loading the package."
   ]
  },
  {
   "cell_type": "markdown",
   "id": "85ba608e-c1bc-48e1-8af0-461a3b0d1479",
   "metadata": {
    "slideshow": {
     "slide_type": "slide"
    },
    "tags": []
   },
   "source": [
    "## Reading in a dataset\n",
    "\n",
    "Let's read in our data that we worked with previously. Note the function `data` is taken in R, so it's best not to use it to define a dataset. Better to just use `dat` or something like that."
   ]
  },
  {
   "cell_type": "code",
   "execution_count": 4,
   "id": "0d6da76c-81f2-4fe5-b93a-3bb5d8704e3f",
   "metadata": {},
   "outputs": [
    {
     "name": "stderr",
     "output_type": "stream",
     "text": [
      "\u001b[1m\u001b[22mNew names:\n",
      "\u001b[36m•\u001b[39m `` -> `...1`\n"
     ]
    },
    {
     "data": {
      "text/html": [
       "<table class=\"dataframe\">\n",
       "<caption>A tibble: 6 × 10</caption>\n",
       "<thead>\n",
       "\t<tr><th scope=col>...1</th><th scope=col>rawid</th><th scope=col>roi</th><th scope=col>volume</th><th scope=col>min</th><th scope=col>max</th><th scope=col>mean</th><th scope=col>std</th><th scope=col>type</th><th scope=col>level</th></tr>\n",
       "\t<tr><th scope=col>&lt;dbl&gt;</th><th scope=col>&lt;chr&gt;</th><th scope=col>&lt;chr&gt;</th><th scope=col>&lt;dbl&gt;</th><th scope=col>&lt;dbl&gt;</th><th scope=col>&lt;dbl&gt;</th><th scope=col>&lt;dbl&gt;</th><th scope=col>&lt;dbl&gt;</th><th scope=col>&lt;dbl&gt;</th><th scope=col>&lt;dbl&gt;</th></tr>\n",
       "</thead>\n",
       "<tbody>\n",
       "\t<tr><td>1</td><td>kirby127a_3_1_ax.img</td><td>Telencephalon_L</td><td>531111</td><td> 0</td><td>374</td><td>128.3013</td><td>51.8593</td><td>1</td><td>1</td></tr>\n",
       "\t<tr><td>2</td><td>kirby127a_3_1_ax.img</td><td>Telencephalon_R</td><td>543404</td><td> 0</td><td>300</td><td>135.0683</td><td>53.6471</td><td>1</td><td>1</td></tr>\n",
       "\t<tr><td>3</td><td>kirby127a_3_1_ax.img</td><td>Diencephalon_L </td><td>  9683</td><td>15</td><td>295</td><td>193.5488</td><td>32.2733</td><td>1</td><td>1</td></tr>\n",
       "\t<tr><td>4</td><td>kirby127a_3_1_ax.img</td><td>Diencephalon_R </td><td>  9678</td><td>10</td><td>335</td><td>193.7051</td><td>32.7869</td><td>1</td><td>1</td></tr>\n",
       "\t<tr><td>5</td><td>kirby127a_3_1_ax.img</td><td>Mesencephalon  </td><td> 10268</td><td>55</td><td>307</td><td>230.8583</td><td>29.2249</td><td>1</td><td>1</td></tr>\n",
       "\t<tr><td>6</td><td>kirby127a_3_1_ax.img</td><td>Metencephalon  </td><td>159402</td><td> 2</td><td>299</td><td>138.5200</td><td>52.2241</td><td>1</td><td>1</td></tr>\n",
       "</tbody>\n",
       "</table>\n"
      ],
      "text/latex": [
       "A tibble: 6 × 10\n",
       "\\begin{tabular}{llllllllll}\n",
       " ...1 & rawid & roi & volume & min & max & mean & std & type & level\\\\\n",
       " <dbl> & <chr> & <chr> & <dbl> & <dbl> & <dbl> & <dbl> & <dbl> & <dbl> & <dbl>\\\\\n",
       "\\hline\n",
       "\t 1 & kirby127a\\_3\\_1\\_ax.img & Telencephalon\\_L & 531111 &  0 & 374 & 128.3013 & 51.8593 & 1 & 1\\\\\n",
       "\t 2 & kirby127a\\_3\\_1\\_ax.img & Telencephalon\\_R & 543404 &  0 & 300 & 135.0683 & 53.6471 & 1 & 1\\\\\n",
       "\t 3 & kirby127a\\_3\\_1\\_ax.img & Diencephalon\\_L  &   9683 & 15 & 295 & 193.5488 & 32.2733 & 1 & 1\\\\\n",
       "\t 4 & kirby127a\\_3\\_1\\_ax.img & Diencephalon\\_R  &   9678 & 10 & 335 & 193.7051 & 32.7869 & 1 & 1\\\\\n",
       "\t 5 & kirby127a\\_3\\_1\\_ax.img & Mesencephalon   &  10268 & 55 & 307 & 230.8583 & 29.2249 & 1 & 1\\\\\n",
       "\t 6 & kirby127a\\_3\\_1\\_ax.img & Metencephalon   & 159402 &  2 & 299 & 138.5200 & 52.2241 & 1 & 1\\\\\n",
       "\\end{tabular}\n"
      ],
      "text/markdown": [
       "\n",
       "A tibble: 6 × 10\n",
       "\n",
       "| ...1 &lt;dbl&gt; | rawid &lt;chr&gt; | roi &lt;chr&gt; | volume &lt;dbl&gt; | min &lt;dbl&gt; | max &lt;dbl&gt; | mean &lt;dbl&gt; | std &lt;dbl&gt; | type &lt;dbl&gt; | level &lt;dbl&gt; |\n",
       "|---|---|---|---|---|---|---|---|---|---|\n",
       "| 1 | kirby127a_3_1_ax.img | Telencephalon_L | 531111 |  0 | 374 | 128.3013 | 51.8593 | 1 | 1 |\n",
       "| 2 | kirby127a_3_1_ax.img | Telencephalon_R | 543404 |  0 | 300 | 135.0683 | 53.6471 | 1 | 1 |\n",
       "| 3 | kirby127a_3_1_ax.img | Diencephalon_L  |   9683 | 15 | 295 | 193.5488 | 32.2733 | 1 | 1 |\n",
       "| 4 | kirby127a_3_1_ax.img | Diencephalon_R  |   9678 | 10 | 335 | 193.7051 | 32.7869 | 1 | 1 |\n",
       "| 5 | kirby127a_3_1_ax.img | Mesencephalon   |  10268 | 55 | 307 | 230.8583 | 29.2249 | 1 | 1 |\n",
       "| 6 | kirby127a_3_1_ax.img | Metencephalon   | 159402 |  2 | 299 | 138.5200 | 52.2241 | 1 | 1 |\n",
       "\n"
      ],
      "text/plain": [
       "  ...1 rawid                roi             volume min max mean     std    \n",
       "1 1    kirby127a_3_1_ax.img Telencephalon_L 531111  0  374 128.3013 51.8593\n",
       "2 2    kirby127a_3_1_ax.img Telencephalon_R 543404  0  300 135.0683 53.6471\n",
       "3 3    kirby127a_3_1_ax.img Diencephalon_L    9683 15  295 193.5488 32.2733\n",
       "4 4    kirby127a_3_1_ax.img Diencephalon_R    9678 10  335 193.7051 32.7869\n",
       "5 5    kirby127a_3_1_ax.img Mesencephalon    10268 55  307 230.8583 29.2249\n",
       "6 6    kirby127a_3_1_ax.img Metencephalon   159402  2  299 138.5200 52.2241\n",
       "  type level\n",
       "1 1    1    \n",
       "2 1    1    \n",
       "3 1    1    \n",
       "4 1    1    \n",
       "5 1    1    \n",
       "6 1    1    "
      ]
     },
     "metadata": {},
     "output_type": "display_data"
    }
   ],
   "source": [
    "dat = read_csv(\"https://raw.githubusercontent.com/bcaffo/ds4bme_intro/master/data/kirby127a_3_1_ax_283Labels_M2_corrected_stats.csv\", show_col_types = FALSE)\n",
    "head(dat)"
   ]
  },
  {
   "cell_type": "markdown",
   "id": "df20f4d1-809a-4020-a49e-9baae2515beb",
   "metadata": {
    "slideshow": {
     "slide_type": "subslide"
    },
    "tags": []
   },
   "source": [
    "## Dropping columns\n",
    "+ Let's get rid of the `X1` or `rawid` columns.\n",
    "+ The pipe operator `%>%` is really useful. It funnels the output from the previous statement to the next. \n",
    "+ The negative signs in front of the variables mean to remove them."
   ]
  },
  {
   "cell_type": "code",
   "execution_count": 9,
   "id": "0de2956b-1d4a-48e6-a337-b3024892cf0c",
   "metadata": {},
   "outputs": [
    {
     "data": {
      "text/html": [
       "<table>\n",
       "<thead><tr><th scope=col>roi</th><th scope=col>volume</th><th scope=col>min</th><th scope=col>max</th><th scope=col>mean</th><th scope=col>std</th><th scope=col>type</th><th scope=col>level</th></tr></thead>\n",
       "<tbody>\n",
       "\t<tr><td>Telencephalon_L</td><td>531111         </td><td> 0             </td><td>374            </td><td>128.3013       </td><td>51.8593        </td><td>1              </td><td>1              </td></tr>\n",
       "\t<tr><td>Telencephalon_R</td><td>543404         </td><td> 0             </td><td>300            </td><td>135.0683       </td><td>53.6471        </td><td>1              </td><td>1              </td></tr>\n",
       "\t<tr><td>Diencephalon_L </td><td>  9683         </td><td>15             </td><td>295            </td><td>193.5488       </td><td>32.2733        </td><td>1              </td><td>1              </td></tr>\n",
       "\t<tr><td>Diencephalon_R </td><td>  9678         </td><td>10             </td><td>335            </td><td>193.7051       </td><td>32.7869        </td><td>1              </td><td>1              </td></tr>\n",
       "\t<tr><td>Mesencephalon  </td><td> 10268         </td><td>55             </td><td>307            </td><td>230.8583       </td><td>29.2249        </td><td>1              </td><td>1              </td></tr>\n",
       "\t<tr><td>Metencephalon  </td><td>159402         </td><td> 2             </td><td>299            </td><td>138.5200       </td><td>52.2241        </td><td>1              </td><td>1              </td></tr>\n",
       "</tbody>\n",
       "</table>\n"
      ],
      "text/latex": [
       "\\begin{tabular}{r|llllllll}\n",
       " roi & volume & min & max & mean & std & type & level\\\\\n",
       "\\hline\n",
       "\t Telencephalon\\_L & 531111            &  0                & 374               & 128.3013          & 51.8593           & 1                 & 1                \\\\\n",
       "\t Telencephalon\\_R & 543404            &  0                & 300               & 135.0683          & 53.6471           & 1                 & 1                \\\\\n",
       "\t Diencephalon\\_L  &   9683            & 15                & 295               & 193.5488          & 32.2733           & 1                 & 1                \\\\\n",
       "\t Diencephalon\\_R  &   9678            & 10                & 335               & 193.7051          & 32.7869           & 1                 & 1                \\\\\n",
       "\t Mesencephalon   &  10268          & 55              & 307             & 230.8583        & 29.2249         & 1               & 1              \\\\\n",
       "\t Metencephalon   & 159402          &  2              & 299             & 138.5200        & 52.2241         & 1               & 1              \\\\\n",
       "\\end{tabular}\n"
      ],
      "text/markdown": [
       "\n",
       "| roi | volume | min | max | mean | std | type | level |\n",
       "|---|---|---|---|---|---|---|---|\n",
       "| Telencephalon_L | 531111          |  0              | 374             | 128.3013        | 51.8593         | 1               | 1               |\n",
       "| Telencephalon_R | 543404          |  0              | 300             | 135.0683        | 53.6471         | 1               | 1               |\n",
       "| Diencephalon_L  |   9683          | 15              | 295             | 193.5488        | 32.2733         | 1               | 1               |\n",
       "| Diencephalon_R  |   9678          | 10              | 335             | 193.7051        | 32.7869         | 1               | 1               |\n",
       "| Mesencephalon   |  10268          | 55              | 307             | 230.8583        | 29.2249         | 1               | 1               |\n",
       "| Metencephalon   | 159402          |  2              | 299             | 138.5200        | 52.2241         | 1               | 1               |\n",
       "\n"
      ],
      "text/plain": [
       "  roi             volume min max mean     std     type level\n",
       "1 Telencephalon_L 531111  0  374 128.3013 51.8593 1    1    \n",
       "2 Telencephalon_R 543404  0  300 135.0683 53.6471 1    1    \n",
       "3 Diencephalon_L    9683 15  295 193.5488 32.2733 1    1    \n",
       "4 Diencephalon_R    9678 10  335 193.7051 32.7869 1    1    \n",
       "5 Mesencephalon    10268 55  307 230.8583 29.2249 1    1    \n",
       "6 Metencephalon   159402  2  299 138.5200 52.2241 1    1    "
      ]
     },
     "metadata": {},
     "output_type": "display_data"
    }
   ],
   "source": [
    "dat = dat %>% select(-X1, -rawid)\n",
    "dat %>% head"
   ]
  },
  {
   "cell_type": "markdown",
   "id": "6fe47a8f-2917-45f6-9c41-43a8b25307cd",
   "metadata": {
    "slideshow": {
     "slide_type": "subslide"
    },
    "tags": []
   },
   "source": [
    "## Subsetting the data\n",
    "Let's get the Type 1 Level 1 data. "
   ]
  },
  {
   "cell_type": "code",
   "execution_count": 6,
   "id": "a945613f-b068-4718-a8c7-221565d9d201",
   "metadata": {},
   "outputs": [
    {
     "data": {
      "text/html": [
       "<table class=\"dataframe\">\n",
       "<caption>A spec_tbl_df: 8 × 10</caption>\n",
       "<thead>\n",
       "\t<tr><th scope=col>...1</th><th scope=col>rawid</th><th scope=col>roi</th><th scope=col>volume</th><th scope=col>min</th><th scope=col>max</th><th scope=col>mean</th><th scope=col>std</th><th scope=col>type</th><th scope=col>level</th></tr>\n",
       "\t<tr><th scope=col>&lt;dbl&gt;</th><th scope=col>&lt;chr&gt;</th><th scope=col>&lt;chr&gt;</th><th scope=col>&lt;dbl&gt;</th><th scope=col>&lt;dbl&gt;</th><th scope=col>&lt;dbl&gt;</th><th scope=col>&lt;dbl&gt;</th><th scope=col>&lt;dbl&gt;</th><th scope=col>&lt;dbl&gt;</th><th scope=col>&lt;dbl&gt;</th></tr>\n",
       "</thead>\n",
       "<tbody>\n",
       "\t<tr><td>1</td><td>kirby127a_3_1_ax.img</td><td>Telencephalon_L</td><td>531111</td><td> 0</td><td>374</td><td>128.3013</td><td>51.8593</td><td>1</td><td>1</td></tr>\n",
       "\t<tr><td>2</td><td>kirby127a_3_1_ax.img</td><td>Telencephalon_R</td><td>543404</td><td> 0</td><td>300</td><td>135.0683</td><td>53.6471</td><td>1</td><td>1</td></tr>\n",
       "\t<tr><td>3</td><td>kirby127a_3_1_ax.img</td><td>Diencephalon_L </td><td>  9683</td><td>15</td><td>295</td><td>193.5488</td><td>32.2733</td><td>1</td><td>1</td></tr>\n",
       "\t<tr><td>4</td><td>kirby127a_3_1_ax.img</td><td>Diencephalon_R </td><td>  9678</td><td>10</td><td>335</td><td>193.7051</td><td>32.7869</td><td>1</td><td>1</td></tr>\n",
       "\t<tr><td>5</td><td>kirby127a_3_1_ax.img</td><td>Mesencephalon  </td><td> 10268</td><td>55</td><td>307</td><td>230.8583</td><td>29.2249</td><td>1</td><td>1</td></tr>\n",
       "\t<tr><td>6</td><td>kirby127a_3_1_ax.img</td><td>Metencephalon  </td><td>159402</td><td> 2</td><td>299</td><td>138.5200</td><td>52.2241</td><td>1</td><td>1</td></tr>\n",
       "\t<tr><td>7</td><td>kirby127a_3_1_ax.img</td><td>Myelencephalon </td><td>  4973</td><td>12</td><td>286</td><td>199.8497</td><td>36.6501</td><td>1</td><td>1</td></tr>\n",
       "\t<tr><td>8</td><td>kirby127a_3_1_ax.img</td><td>CSF            </td><td>109776</td><td> 0</td><td>258</td><td> 33.0193</td><td>26.3262</td><td>1</td><td>1</td></tr>\n",
       "</tbody>\n",
       "</table>\n"
      ],
      "text/latex": [
       "A spec\\_tbl\\_df: 8 × 10\n",
       "\\begin{tabular}{llllllllll}\n",
       " ...1 & rawid & roi & volume & min & max & mean & std & type & level\\\\\n",
       " <dbl> & <chr> & <chr> & <dbl> & <dbl> & <dbl> & <dbl> & <dbl> & <dbl> & <dbl>\\\\\n",
       "\\hline\n",
       "\t 1 & kirby127a\\_3\\_1\\_ax.img & Telencephalon\\_L & 531111 &  0 & 374 & 128.3013 & 51.8593 & 1 & 1\\\\\n",
       "\t 2 & kirby127a\\_3\\_1\\_ax.img & Telencephalon\\_R & 543404 &  0 & 300 & 135.0683 & 53.6471 & 1 & 1\\\\\n",
       "\t 3 & kirby127a\\_3\\_1\\_ax.img & Diencephalon\\_L  &   9683 & 15 & 295 & 193.5488 & 32.2733 & 1 & 1\\\\\n",
       "\t 4 & kirby127a\\_3\\_1\\_ax.img & Diencephalon\\_R  &   9678 & 10 & 335 & 193.7051 & 32.7869 & 1 & 1\\\\\n",
       "\t 5 & kirby127a\\_3\\_1\\_ax.img & Mesencephalon   &  10268 & 55 & 307 & 230.8583 & 29.2249 & 1 & 1\\\\\n",
       "\t 6 & kirby127a\\_3\\_1\\_ax.img & Metencephalon   & 159402 &  2 & 299 & 138.5200 & 52.2241 & 1 & 1\\\\\n",
       "\t 7 & kirby127a\\_3\\_1\\_ax.img & Myelencephalon  &   4973 & 12 & 286 & 199.8497 & 36.6501 & 1 & 1\\\\\n",
       "\t 8 & kirby127a\\_3\\_1\\_ax.img & CSF             & 109776 &  0 & 258 &  33.0193 & 26.3262 & 1 & 1\\\\\n",
       "\\end{tabular}\n"
      ],
      "text/markdown": [
       "\n",
       "A spec_tbl_df: 8 × 10\n",
       "\n",
       "| ...1 &lt;dbl&gt; | rawid &lt;chr&gt; | roi &lt;chr&gt; | volume &lt;dbl&gt; | min &lt;dbl&gt; | max &lt;dbl&gt; | mean &lt;dbl&gt; | std &lt;dbl&gt; | type &lt;dbl&gt; | level &lt;dbl&gt; |\n",
       "|---|---|---|---|---|---|---|---|---|---|\n",
       "| 1 | kirby127a_3_1_ax.img | Telencephalon_L | 531111 |  0 | 374 | 128.3013 | 51.8593 | 1 | 1 |\n",
       "| 2 | kirby127a_3_1_ax.img | Telencephalon_R | 543404 |  0 | 300 | 135.0683 | 53.6471 | 1 | 1 |\n",
       "| 3 | kirby127a_3_1_ax.img | Diencephalon_L  |   9683 | 15 | 295 | 193.5488 | 32.2733 | 1 | 1 |\n",
       "| 4 | kirby127a_3_1_ax.img | Diencephalon_R  |   9678 | 10 | 335 | 193.7051 | 32.7869 | 1 | 1 |\n",
       "| 5 | kirby127a_3_1_ax.img | Mesencephalon   |  10268 | 55 | 307 | 230.8583 | 29.2249 | 1 | 1 |\n",
       "| 6 | kirby127a_3_1_ax.img | Metencephalon   | 159402 |  2 | 299 | 138.5200 | 52.2241 | 1 | 1 |\n",
       "| 7 | kirby127a_3_1_ax.img | Myelencephalon  |   4973 | 12 | 286 | 199.8497 | 36.6501 | 1 | 1 |\n",
       "| 8 | kirby127a_3_1_ax.img | CSF             | 109776 |  0 | 258 |  33.0193 | 26.3262 | 1 | 1 |\n",
       "\n"
      ],
      "text/plain": [
       "  ...1 rawid                roi             volume min max mean     std    \n",
       "1 1    kirby127a_3_1_ax.img Telencephalon_L 531111  0  374 128.3013 51.8593\n",
       "2 2    kirby127a_3_1_ax.img Telencephalon_R 543404  0  300 135.0683 53.6471\n",
       "3 3    kirby127a_3_1_ax.img Diencephalon_L    9683 15  295 193.5488 32.2733\n",
       "4 4    kirby127a_3_1_ax.img Diencephalon_R    9678 10  335 193.7051 32.7869\n",
       "5 5    kirby127a_3_1_ax.img Mesencephalon    10268 55  307 230.8583 29.2249\n",
       "6 6    kirby127a_3_1_ax.img Metencephalon   159402  2  299 138.5200 52.2241\n",
       "7 7    kirby127a_3_1_ax.img Myelencephalon    4973 12  286 199.8497 36.6501\n",
       "8 8    kirby127a_3_1_ax.img CSF             109776  0  258  33.0193 26.3262\n",
       "  type level\n",
       "1 1    1    \n",
       "2 1    1    \n",
       "3 1    1    \n",
       "4 1    1    \n",
       "5 1    1    \n",
       "6 1    1    \n",
       "7 1    1    \n",
       "8 1    1    "
      ]
     },
     "metadata": {},
     "output_type": "display_data"
    }
   ],
   "source": [
    "t1l1 = dat %>% filter(type == 1, level == 1)\n",
    "t1l1"
   ]
  },
  {
   "cell_type": "markdown",
   "id": "bf9da11d-731e-4549-ac94-55c86400ef8c",
   "metadata": {
    "slideshow": {
     "slide_type": "slide"
    },
    "tags": []
   },
   "source": [
    "## Plotting using ggplot\n",
    "\n",
    "+ Below, we create a bar plot using ggplot\n",
    "+ The first line creates the base plot then adds the columns\n",
    "+ The second line sets some style choices (font and axis font orientations)"
   ]
  },
  {
   "cell_type": "code",
   "execution_count": 10,
   "id": "07267590-2556-42f4-9f4e-a6517d9d447e",
   "metadata": {
    "slideshow": {
     "slide_type": "subslide"
    },
    "tags": []
   },
   "outputs": [
    {
     "data": {
      "image/png": "[encoded data removed]",
      "text/plain": [
       "plot without title"
      ]
     },
     "metadata": {
      "image/png": {
       "height": 420,
       "width": 420
      }
     },
     "output_type": "display_data"
    }
   ],
   "source": [
    "## Set the base plot and add the columns\n",
    "g = ggplot(data = t1l1, aes(x = roi, y = volume, fill = roi), width = 4, height = 4) + geom_col()\n",
    "g + theme(text=element_text(family=\"Consolas\")) + theme(axis.text.x = element_text(angle = 45))"
   ]
  }
 ],
 "metadata": {
  "kernelspec": {
   "display_name": "R",
   "language": "R",
   "name": "ir"
  },
  "language_info": {
   "codemirror_mode": "r",
   "file_extension": ".r",
   "mimetype": "text/x-r-source",
   "name": "R",
   "pygments_lexer": "r",
   "version": "4.2.0"
  }
 },
 "nbformat": 4,
 "nbformat_minor": 5
}
