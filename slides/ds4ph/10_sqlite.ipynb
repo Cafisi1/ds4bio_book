{
 "cells": [
  {
   "cell_type": "markdown",
   "id": "b0904b87-6373-467c-8b0d-5db42fa66c42",
   "metadata": {
    "slideshow": {
     "slide_type": "slide"
    },
    "tags": []
   },
   "source": [
    "# SQL via sqlite"
   ]
  },
  {
   "cell_type": "markdown",
   "id": "4af6c360-3554-4e74-a16d-e476afef1366",
   "metadata": {
    "slideshow": {
     "slide_type": "slide"
    },
    "tags": []
   },
   "source": [
    "## SQL \n",
    "\n",
    "+ We'll cover some of the basics of SQL (structured querry language) by working through some examples\n",
    "+ SQL is a set of language standards for databases\n",
    "+ As its name implies, sqlite is a small implementation of SQL. \n",
    "+ [Here's](https://www.guru99.com/download-install-sqlite.html) a tutorial on installing for windows. (Sqlite3 is a single file.)\n",
    "+ For a Mac/linux install in the usual way\n",
    "\n"
   ]
  },
  {
   "cell_type": "markdown",
   "id": "74de261d-edb2-4850-b443-c23a7bd7c37f",
   "metadata": {
    "slideshow": {
     "slide_type": "slide"
    },
    "tags": []
   },
   "source": [
    "## Creating a database\n",
    "\n",
    "```\n",
    "command prompt> sqlite3 class.db\n",
    "sqlite> create table class(id int primary key, lname text,fname)\n",
    "sqlite> insert into class values (1, \"Wayne\", \"Bruce\");\n",
    "sqlite> insert into class values (2, \"Jennifer\", \"Walters\");\n",
    "sqlite> .header on\n",
    "sqlist> .mode column\n",
    "sqlite> select * from class;\n",
    "id  lname     fname  \n",
    "--  --------  -------\n",
    "1   Wayne     Bruce  \n",
    "2   Jennifer  Walters\n",
    "sqlite> .quit\n",
    "```"
   ]
  },
  {
   "cell_type": "markdown",
   "id": "dc410b2d-6106-482f-8b60-c43f671e4cd9",
   "metadata": {
    "slideshow": {
     "slide_type": "subslide"
    },
    "tags": []
   },
   "source": [
    "* The command `sqlite3 class.db` opens up the database, in this case creating a new one, and then enters into th sqlite command line. \n",
    "* The command `create ...` creates our table within our database\n",
    "* The `insert ...` commands insert two records\n",
    "* The `.header ...` and `.mode ...` commands format output\n",
    "* The `select ...` command grabs all records\n",
    "* Then `.quit` just quits the commmand line. "
   ]
  },
  {
   "cell_type": "markdown",
   "id": "9eb26d8a-7709-45fc-bf61-0b752196904a",
   "metadata": {},
   "source": [
    "+ `ls` in the current working directory now shows the file `class.db`\n",
    "+ Everything else we discuss below assumes working in the sqlite command prompt. "
   ]
  },
  {
   "cell_type": "markdown",
   "id": "6e6f7e9b-8a66-4638-9aaa-dfdbee960ac4",
   "metadata": {
    "slideshow": {
     "slide_type": "subslide"
    },
    "tags": []
   },
   "source": [
    "## Working in sqlite\n",
    "\n",
    "+ It's nice to work with a development environment specifically created for sql with nice highlighting and autocompletion\n",
    "+ Sqlite has \n",
    "  + SQL commands, which must be typed with a semicolon at the end\n",
    "  + sqlite specific commands, which begin with a period \n",
    "  +`pragma` commands, which are also sqlite specific\n",
    "+ Some things will be portable to other SQL implementations and others not."
   ]
  },
  {
   "cell_type": "markdown",
   "id": "72f58139-2f64-4867-a656-72517fbd8cbb",
   "metadata": {
    "slideshow": {
     "slide_type": "slide"
    },
    "tags": []
   },
   "source": [
    "## A more realistic example\n",
    "\n",
    "+ Consider the data Opiods in the US at Open Case Studies\n",
    "\n",
    "[https://github.com/opencasestudies/ocs-bp-opioid-rural-urban](https://github.com/opencasestudies/ocs-bp-opioid-rural-urban)\n",
    "\n",
    "+ It's described [here](https://www.opencasestudies.org/ocs-bp-opioid-rural-urban/#Data_Import)"
   ]
  },
  {
   "cell_type": "markdown",
   "id": "e939f995-f85b-455e-8930-8164fb1a99eb",
   "metadata": {
    "slideshow": {
     "slide_type": "subslide"
    },
    "tags": []
   },
   "source": [
    "## Downloading the data\n",
    "```\n",
    "wget https://raw.githubusercontent.com/opencasestudies/ocs-bp-opioid-rural-urban/master/data/simpler_import/county_pop_arcos.csv\n",
    "wget https://raw.githubusercontent.com/opencasestudies/ocs-bp-opioid-rural-urban/master/data/simpler_import/land_area.csv\n",
    "wget https://raw.githubusercontent.com/opencasestudies/ocs-bp-opioid-rural-urban/master/data/simpler_import/county_annual.csv\n",
    "```\n"
   ]
  },
  {
   "cell_type": "markdown",
   "id": "53770519-669e-4c22-beab-190804d77e99",
   "metadata": {
    "slideshow": {
     "slide_type": "subslide"
    },
    "tags": []
   },
   "source": [
    "## Importing into sqlite\n",
    "\n",
    "```\n",
    "command prompt> sqlite3 opioid.db\n",
    "sqlite> .mode csv\n",
    "sqlite> .import county_pop_arcos.csv population\n",
    "sqlite> .import county_annual.csv annual\n",
    "sqlite> .import land_area.csv land\n",
    "sqlite> .tables\n",
    "annual      land        population\n",
    "```"
   ]
  },
  {
   "cell_type": "markdown",
   "id": "4a86960e-e530-4763-9cad-e34ae1cb150c",
   "metadata": {
    "slideshow": {
     "slide_type": "subslide"
    },
    "tags": []
   },
   "source": [
    "### What variables do the tables include? \n",
    "```\n",
    "sqlite> pragma table_info(population);\n",
    "cid  name          type  notnull  dflt_value  pk\n",
    "---  ------------  ----  -------  ----------  --\n",
    "0                  TEXT  0                    0 \n",
    "1    BUYER_COUNTY  TEXT  0                    0 \n",
    "2    BUYER_STATE   TEXT  0                    0 \n",
    "3    countyfips    TEXT  0                    0 \n",
    "4    STATE         TEXT  0                    0 \n",
    "5    COUNTY        TEXT  0                    0 \n",
    "6    county_name   TEXT  0                    0 \n",
    "7    NAME          TEXT  0                    0 \n",
    "8    variable      TEXT  0                    0 \n",
    "9    year          TEXT  0                    0 \n",
    "10   population    TEXT  0                    0 \n",
    "```"
   ]
  },
  {
   "cell_type": "markdown",
   "id": "6ccfed69-5275-484a-a48d-b09baaca5cc1",
   "metadata": {
    "slideshow": {
     "slide_type": "subslide"
    },
    "tags": []
   },
   "source": [
    "### What variables do the tables include? continued\n",
    "\n",
    "```\n",
    "sqlite> pragma table_info(annual);\n",
    "cid  name          type  notnull  dflt_value  pk\n",
    "---  ------------  ----  -------  ----------  --\n",
    "0                  TEXT  0                    0 \n",
    "1    BUYER_COUNTY  TEXT  0                    0 \n",
    "2    BUYER_STATE   TEXT  0                    0 \n",
    "3    year          TEXT  0                    0 \n",
    "4    count         TEXT  0                    0 \n",
    "5    DOSAGE_UNIT   TEXT  0                    0 \n",
    "6    countyfips    TEXT  0                    0\n",
    "```"
   ]
  },
  {
   "cell_type": "markdown",
   "id": "9367765a-dde0-4cb5-8ae2-d6f2dfa52f10",
   "metadata": {
    "slideshow": {
     "slide_type": "subslide"
    },
    "tags": []
   },
   "source": [
    "### What variables do the tables include? continued\n",
    "\n",
    "```\n",
    "sqlite> pragma table_info(land)\n",
    "cid  name         type  notnull  dflt_value  pk\n",
    "---  -----------  ----  -------  ----------  --\n",
    "0                 TEXT  0                    0 \n",
    "1    Areaname     TEXT  0                    0 \n",
    "2    STCOU        TEXT  0                    0 \n",
    "3    LND010190F   TEXT  0                    0 \n",
    "4    LND010190D   TEXT  0                    0 \n",
    "5    LND010190N1  TEXT  0                    0\n",
    "```"
   ]
  },
  {
   "cell_type": "markdown",
   "id": "c2c0f0a4-4694-4abe-b591-feaaa3798425",
   "metadata": {
    "slideshow": {
     "slide_type": "slide"
    },
    "tags": []
   },
   "source": [
    "## Working with data\n",
    "\n",
    "+ printing out columns\n",
    "\n",
    "```\n",
    "sqlite> select BUYER_COUNTY, BUYER_STATE, STATE, COUNTY, year, population from population limit 5;\n",
    "BUYER_COUNTY  BUYER_STATE  STATE  COUNTY  year  population\n",
    "------------  -----------  -----  ------  ----  ----------\n",
    "AUTAUGA       AL           1      1       2006  51328     \n",
    "BALDWIN       AL           1      3       2006  168121    \n",
    "BARBOUR       AL           1      5       2006  27861     \n",
    "BIBB          AL           1      7       2006  22099     \n",
    "BLOUNT        AL           1      9       2006  55485   \n",
    "```\n",
    "+ `limit 5` prints out five rows\n",
    "\n"
   ]
  },
  {
   "cell_type": "markdown",
   "id": "3603b8e8-694f-4455-88af-4da02b8d1674",
   "metadata": {
    "slideshow": {
     "slide_type": "subslide"
    },
    "tags": []
   },
   "source": [
    "### Working with the data\n",
    "\n",
    "+ Let's perform some of the tasks in [the write up](https://www.opencasestudies.org/ocs-bp-opioid-rural-urban/#Data_Import)\n",
    "+ Goal is to print out some of the missing data in the annual dataset. \n",
    "\n",
    "```\n",
    "sqlite> select * from annual where countyfips = \"NA\" limit 10;\n",
    "     BUYER_COUNTY  BUYER_STATE  year  count  DOSAGE_UNIT  countyfips\n",
    "---  ------------  -----------  ----  -----  -----------  ----------\n",
    "188  ADJUNTAS      PR           2006  147    102800       NA        \n",
    "189  ADJUNTAS      PR           2007  153    104800       NA        \n",
    "190  ADJUNTAS      PR           2008  153    45400        NA        \n",
    "191  ADJUNTAS      PR           2009  184    54200        NA        \n",
    "192  ADJUNTAS      PR           2010  190    56200        NA        \n",
    "193  ADJUNTAS      PR           2011  186    65530        NA        \n",
    "194  ADJUNTAS      PR           2012  138    57330        NA        \n",
    "195  ADJUNTAS      PR           2013  138    65820        NA        \n",
    "196  ADJUNTAS      PR           2014  90     59490        NA        \n",
    "197  AGUADA        PR           2006  160    49200        NA   \n",
    "```\n",
    "\n",
    "+ Here, we used the condition \"NA\" to test for missingness, since the CSV files have the string NA values for missing data.\n"
   ]
  },
  {
   "cell_type": "markdown",
   "id": "122d4cfd-4060-4322-9bd6-6f16587c15e7",
   "metadata": {
    "slideshow": {
     "slide_type": "subslide"
    },
    "tags": []
   },
   "source": [
    "### Working with the data continued\n",
    "\n",
    "Is there missing data outside of PR?\n",
    "\n",
    "```\n",
    "sqlite> select * from annual where countyfips = \"NA\" and BUYER_STATE != \"PR\" limit 10;\n",
    "       BUYER_COUNTY  BUYER_STATE  year  count  DOSAGE_UNIT  countyfips\n",
    "-----  ------------  -----------  ----  -----  -----------  ----------\n",
    "10072  GUAM          GU           2006  319    265348       NA        \n",
    "10073  GUAM          GU           2007  330    275600       NA        \n",
    "10074  GUAM          GU           2008  313    286900       NA        \n",
    "10075  GUAM          GU           2009  390    355300       NA        \n",
    "10076  GUAM          GU           2010  510    413800       NA        \n",
    "10077  GUAM          GU           2011  559    475600       NA        \n",
    "10078  GUAM          GU           2012  616    564800       NA        \n",
    "10079  GUAM          GU           2013  728    623200       NA        \n",
    "10080  GUAM          GU           2014  712    558960       NA        \n",
    "17430  MONTGOMERY    AR           2006  469    175390       NA     \n",
    "```\n",
    "\n",
    "+ Further inspect the missing data further on your own.\n",
    "+ It looks like its the unincorporated territories and a handful of Arkansas values missing `countyfips` \n",
    "+ Montgomery county AR is missing FIPs codes. \n",
    "\n"
   ]
  },
  {
   "cell_type": "markdown",
   "id": "8017b428-ea0c-4e0a-ae8c-85f024bd61a2",
   "metadata": {
    "slideshow": {
     "slide_type": "subslide"
    },
    "tags": []
   },
   "source": [
    "### Working with the data continued\n",
    "\n",
    "+ Since we want to look US states in specific, we set the Montgomery county ones to the correct value 05097 and ignore the other missing values.\n",
    "\n",
    "```\n",
    "sqlite> update annual set countyfips = 05097 where BUYER_STATE = \"AR\" and BUYER_COUNTY = \"MONTGOMERY\"\n",
    "sqlite> select * from annual where BUYER_STATE = \"AR\" and BUYER_COUNTY = \"MONTGOMERY\"\n",
    "\n",
    "       BUYER_COUNTY  BUYER_STATE  year  count  DOSAGE_UNIT  countyfips\n",
    "-----  ------------  -----------  ----  -----  -----------  ----------\n",
    "17430  MONTGOMERY    AR           2006  469    175390       5097      \n",
    "17431  MONTGOMERY    AR           2007  597    241270       5097      \n",
    "17432  MONTGOMERY    AR           2008  561    251760       5097      \n",
    "17433  MONTGOMERY    AR           2009  554    244160       5097      \n",
    "```\n"
   ]
  },
  {
   "cell_type": "markdown",
   "id": "daa5b7d5-038f-488c-91fb-476ab110b40f",
   "metadata": {
    "slideshow": {
     "slide_type": "subslide"
    },
    "tags": []
   },
   "source": [
    "### Working with the data continued\n",
    "\n",
    "+ Lets delete rows from the `annual` table that have missing county data.\n",
    "+ (HW) Check on these counties before and verify that the've been deleted afterwards. \n",
    "```\n",
    "sqlite> delete from annual where BUYER_COUNTY = \"NA\"\n",
    "```\n",
    "+ We want to grab just three columns from the `land` table, so let's create a new one called `land_area`.\n",
    "\n",
    "```\n",
    "sqlite> create table land_area as select Areaname, STCOU, LND110210D from land;\n",
    "```\n",
    "+ Also, the column there is called `STCOU`, which we want to rename to `countyfips`. \n",
    "```\n",
    "sqlite> alter table land_area rename column STCOU to countyfips;\n",
    "```\n"
   ]
  },
  {
   "cell_type": "markdown",
   "id": "f29099c1-e4a4-4ab4-a4fa-6ae3872904b1",
   "metadata": {
    "slideshow": {
     "slide_type": "subslide"
    },
    "tags": []
   },
   "source": [
    "### Working with the data continued\n",
    "\n",
    "+ Next we want to start joining the tables\n",
    "+ So let's left join our table and print out the counts to make sure we accounted correctly.\n",
    "\n",
    "```\n",
    "sqlite> create table county_info as select * from population left join land_area using(countyfips);\n",
    "sqlite> select count(*) from land;\n",
    "3198\n",
    "sqlite> select count(*) from land_area;\n",
    "3198\n",
    "sqlite> select count(*) from county_info;\n",
    "28265\n",
    "sqlite> select count(*) from population;\n",
    "```"
   ]
  }
 ],
 "metadata": {
  "kernelspec": {
   "display_name": "Python 3.10.4 ('ds4bio')",
   "language": "python",
   "name": "python3"
  },
  "language_info": {
   "codemirror_mode": {
    "name": "ipython",
    "version": 3
   },
   "file_extension": ".py",
   "mimetype": "text/x-python",
   "name": "python",
   "nbconvert_exporter": "python",
   "pygments_lexer": "ipython3",
   "version": "3.10.4"
  },
  "vscode": {
   "interpreter": {
    "hash": "79f87720972903b6188d40b03afb0115543bf63f5f0af29aadb196967754f61a"
   }
  }
 },
 "nbformat": 4,
 "nbformat_minor": 5
}
