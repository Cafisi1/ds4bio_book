{
 "cells": [
  {
   "cell_type": "markdown",
   "metadata": {
    "colab_type": "text",
    "id": "rIzXXVGuR9YM",
    "slideshow": {
     "slide_type": "slide"
    },
    "tags": []
   },
   "source": [
    "# Linear separable models"
   ]
  },
  {
   "cell_type": "markdown",
   "metadata": {
    "slideshow": {
     "slide_type": "subslide"
    },
    "tags": []
   },
   "source": [
    "## So far\n",
    "+ We've covered two ways to do prediction with a single variable, classification using logistic regression and prediction using a line and least squares.\n",
    "+ What if we have several predictiors? \n",
    "+ In both the logistic and linear regression models, we had a linear predictor, specifically, \n",
    "\n",
    "$$\n",
    "\\eta_i = \\beta_0 + \\beta_1 x_i.\n",
    "$$\n",
    "\n",
    "+ In the continuous case, we were modeling the expected value of the outcomes as linear. \n",
    "+ In the binary case, we were assuming that the naturual logarithm of the odds of a 1 outcome was linear. "
   ]
  },
  {
   "cell_type": "markdown",
   "metadata": {
    "slideshow": {
     "slide_type": "subslide"
    },
    "tags": []
   },
   "source": [
    "## Estimation\n",
    "\n",
    "+ Minimize loss function for $\\beta_0$ and $\\beta_1$\n",
    "+ Linear regression case\n",
    "\n",
    "$$\n",
    "\\sum_{i=1}^n || y_i - \\eta_i||^2 \n",
    "$$\n",
    "\n",
    "+ Logistic regression case\n",
    "\n",
    "$$\n",
    "-\\sum_{i=1}^n \\left[\n",
    "  Y_i \\eta_i + \\log\\left\\{\\frac{1}{1 + e^{\\eta_i}} \\right\\} \\right].\n",
    "$$"
   ]
  },
  {
   "cell_type": "markdown",
   "metadata": {
    "slideshow": {
     "slide_type": "subslide"
    },
    "tags": []
   },
   "source": [
    "## Extending these models\n",
    "\n",
    "$$\n",
    "\\eta_i = \\beta_0 + \\beta_1 x_{1i} + \\beta_2 x_{2i} + \\ldots \\beta_{p-1} x_{p-1,i}\n",
    "$$\n",
    "\n",
    "+ If we think about this as vectors and matrices, we obtain\n",
    "\n",
    "$$\n",
    "\\eta = X \\beta\n",
    "$$\n",
    "\n",
    "+ where $\\eta$ is an $n \\times 1$ vector, \n",
    "+ $X$ is an $n \\times p$ matrix with $i,j$ entry $x_{ij}$\n",
    "+ $\\beta$ is a $p\\times 1$ vector with entries $\\beta_j$. "
   ]
  },
  {
   "cell_type": "markdown",
   "metadata": {
    "colab_type": "text",
    "id": "ApSoCaMXb4x-",
    "slideshow": {
     "slide_type": "skip"
    },
    "tags": []
   },
   "source": [
    "# Example \n",
    "\n",
    "Consider our voxel level data"
   ]
  },
  {
   "cell_type": "code",
   "execution_count": 27,
   "metadata": {
    "colab": {},
    "colab_type": "code",
    "id": "GMMLqAkYRxb5",
    "slideshow": {
     "slide_type": "subslide"
    },
    "tags": []
   },
   "outputs": [],
   "source": [
    "import numpy as np\n",
    "import pandas as pd\n",
    "import seaborn as sns\n",
    "import matplotlib.pyplot as plt\n",
    "import sklearn.linear_model as lm\n",
    "import sklearn as skl\n",
    "import statsmodels.formula.api as smf\n",
    "import statsmodels as sm\n",
    "## this sets some style parameters  \n",
    "sns.set()\n",
    "## Read in the data \n",
    "dat = pd.read_csv(\"https://raw.githubusercontent.com/bcaffo/ds4bme_intro/master/data/oasis.csv\")"
   ]
  },
  {
   "cell_type": "markdown",
   "metadata": {
    "colab_type": "text",
    "id": "HUih09BMdi9_",
    "slideshow": {
     "slide_type": "subslide"
    },
    "tags": []
   },
   "source": [
    "Proton density (PD) is the outcome, \n",
    "\n",
    "Let's first try to fit the proton density data from the other imaging data. "
   ]
  },
  {
   "cell_type": "code",
   "execution_count": 28,
   "metadata": {
    "colab": {},
    "colab_type": "code",
    "id": "Onw6CyaCdrtz",
    "slideshow": {
     "slide_type": "subslide"
    },
    "tags": []
   },
   "outputs": [],
   "source": [
    "trainFraction = .75\n",
    "\n",
    "sample = np.random.uniform(size = 100) < trainFraction\n",
    "trainingDat = dat[sample]\n",
    "testingDat = dat[~sample]"
   ]
  },
  {
   "cell_type": "code",
   "execution_count": 29,
   "metadata": {
    "colab": {
     "base_uri": "https://localhost:8080/",
     "height": 507
    },
    "colab_type": "code",
    "id": "fDJOnSsxe2N5",
    "outputId": "140b3f55-7e65-4bcf-91c3-417127a8769d",
    "slideshow": {
     "slide_type": "subslide"
    },
    "tags": []
   },
   "outputs": [],
   "source": [
    "results = smf.ols('PD ~ FLAIR + T1 + T2  + FLAIR_10 + T1_10 + T2_10 + FLAIR_20', \n",
    "                  data = trainingDat).fit()\n",
    "# print(results.summary2())"
   ]
  },
  {
   "cell_type": "markdown",
   "metadata": {},
   "source": [
    "```\n",
    "# Truncated results\n",
    "                 coef    std err          t      P>|t|      [0.025      0.975]\n",
    "------------------------------------------------------------------------------\n",
    "Intercept      0.2099      0.130      1.610      0.112      -0.050       0.470\n",
    "FLAIR         -0.0041      0.078     -0.053      0.958      -0.159       0.151\n",
    "T1            -0.2987      0.089     -3.348      0.001      -0.477      -0.121\n",
    "T2             0.5436      0.086      6.313      0.000       0.372       0.715\n",
    "FLAIR_10      -0.0743      0.325     -0.228      0.820      -0.723       0.575\n",
    "T1_10          0.2940      0.160      1.835      0.071      -0.026       0.614\n",
    "T2_10          0.0066      0.310      0.021      0.983      -0.611       0.624\n",
    "FLAIR_20       1.7173      0.696      2.466      0.016       0.328       3.106\n",
    "==============================================================================\n",
    "```"
   ]
  },
  {
   "cell_type": "markdown",
   "metadata": {
    "slideshow": {
     "slide_type": "slide"
    },
    "tags": []
   },
   "source": [
    "## Logistic regression example"
   ]
  },
  {
   "cell_type": "code",
   "execution_count": 30,
   "metadata": {
    "colab": {
     "base_uri": "https://localhost:8080/",
     "height": 73
    },
    "colab_type": "code",
    "id": "7UrWqsZAfF1u",
    "outputId": "fce680da-2fbb-476f-a5b9-b013192885b8"
   },
   "outputs": [],
   "source": [
    "x = dat[['FLAIR','T1', 'T2', 'FLAIR_10', 'T1_10', 'T2_10', 'FLAIR_20']]\n",
    "y = dat[['GOLD_Lesions']]\n",
    "## Add the intercept column\n",
    "x = sm.tools.add_constant(x)\n",
    "xtraining = x[sample]\n",
    "xtesting = x[~sample]\n",
    "ytraining = y[sample]\n",
    "ytesting = y[~sample]"
   ]
  },
  {
   "cell_type": "code",
   "execution_count": 31,
   "metadata": {
    "colab": {
     "base_uri": "https://localhost:8080/",
     "height": 71
    },
    "colab_type": "code",
    "id": "MaU1zUQluyFb",
    "outputId": "0bf756bd-d907-413a-a31e-4c92159e4d53",
    "slideshow": {
     "slide_type": "subslide"
    },
    "tags": []
   },
   "outputs": [
    {
     "name": "stdout",
     "output_type": "stream",
     "text": [
      "Optimization terminated successfully.\n",
      "         Current function value: 0.284652\n",
      "         Iterations 8\n"
     ]
    }
   ],
   "source": [
    "fit = sm.discrete.discrete_model.Logit(ytraining, xtraining).fit()"
   ]
  },
  {
   "cell_type": "code",
   "execution_count": 32,
   "metadata": {
    "colab": {
     "base_uri": "https://localhost:8080/",
     "height": 365
    },
    "colab_type": "code",
    "id": "clrxtIgQvDhJ",
    "outputId": "2fc144fe-1bd0-450b-e180-5788b1ca6769",
    "slideshow": {
     "slide_type": "subslide"
    },
    "tags": []
   },
   "outputs": [],
   "source": [
    "#fit.summary()()"
   ]
  },
  {
   "cell_type": "markdown",
   "metadata": {},
   "source": [
    "```\n",
    "            coef\tstd err\t       z\tP>|z|\t [0.025\t0.975]\n",
    "const\t -3.3909\t1.767\t  -1.919\t0.055\t -6.854\t  0.072\n",
    "FLAIR\t  1.5931\t1.147\t   1.389\t0.165\t -0.655\t  3.841\n",
    "T1\t      2.4984\t1.086\t   2.301\t0.021\t  0.371\t  4.626\n",
    "T2\t      1.3153\t0.994\t   1.323\t0.186\t -0.633\t  3.263\n",
    "FLAIR_10  8.6555\t3.678\t   2.353\t0.019\t  1.446\t 15.865\n",
    "T1_10\t  1.6271\t1.850\t   0.879\t0.379\t -1.999\t  5.253\n",
    "T2_10 \t -5.7317\t3.572\t  -1.605\t0.109\t-12.732\t  1.269\n",
    "FLAIR_20 -20.1731\t8.786\t  -2.296\t0.022\t-37.392\t -2.954\n",
    "```"
   ]
  },
  {
   "cell_type": "code",
   "execution_count": 33,
   "metadata": {
    "colab": {
     "base_uri": "https://localhost:8080/",
     "height": 301
    },
    "colab_type": "code",
    "id": "zxlcuTECxCyQ",
    "outputId": "94d8070e-71a3-42f1-a4f4-2a5354602f82",
    "slideshow": {
     "slide_type": "subslide"
    },
    "tags": []
   },
   "outputs": [
    {
     "data": {
      "image/png": "[encoded data removed]",
      "text/plain": [
       "<Figure size 432x288 with 1 Axes>"
      ]
     },
     "metadata": {},
     "output_type": "display_data"
    }
   ],
   "source": [
    "phatTesting = fit.predict(xtesting)\n",
    "\n",
    "## See here for plotting\n",
    "## https://stackoverflow.com/questions/25009284/how-to-plot-roc-curve-in-python\n",
    "fpr, tpr, threshold = skl.metrics.roc_curve(ytesting, phatTesting)\n",
    "roc_auc = skl.metrics.auc(fpr, tpr)\n",
    "\n",
    "plt.title('Receiver Operating Characteristic')\n",
    "plt.plot(fpr, tpr, 'b', label = 'AUC = %0.2f' % roc_auc)\n",
    "plt.legend(loc = 'lower right')\n",
    "plt.plot([0, 1], [0, 1],'r--')\n",
    "plt.xlim([0, 1])\n",
    "plt.ylim([0, 1])\n",
    "plt.ylabel('True Positive Rate')\n",
    "plt.xlabel('False Positive Rate')\n",
    "plt.show()\n"
   ]
  },
  {
   "cell_type": "markdown",
   "metadata": {
    "colab_type": "text",
    "id": "iaXw2nFg6UoO"
   },
   "source": [
    "## Aside different python packages\n",
    "\n",
    "So far we've explored several plotting libraries including: default pandas methods, matplotlib, seaborn and plotly. We've also looked at several fitting libraries including to some extent numpy, but especially scikitlearn and statsmodels. What's the difference? Well, these packages are all mantained by different people and have different features and goals. For example, scikitlearn is more expansive than statsmodels, but statsmodels functions more like one is used to with statistical output. Matplotlib is very expansive, but seaborn has nicer default options and is a little easier. So, when doing data science with python, one has to get used to trying out a few packages, weighing the cost and benefits of each, and picking one. \n",
    "\n",
    "'statsmodels', what we're using above, has multiple methods for fitting binary models including: `sm.Logit`, `smf.logit`, `BinaryModel` and `glm`. Here I'm just going to use `Logit` which does not use the formula syntax of `logit`. Note, by default, this does not add an intercept this way. So, I'm adding a column of ones, which adds an intercept.\n",
    "\n",
    "Consider the following which uses the formula API\n"
   ]
  },
  {
   "cell_type": "code",
   "execution_count": 34,
   "metadata": {
    "colab": {
     "base_uri": "https://localhost:8080/",
     "height": 420
    },
    "colab_type": "code",
    "id": "yj_2oMxvWC4S",
    "outputId": "22d63911-ebca-429a-b14b-af07c39a59bb"
   },
   "outputs": [
    {
     "name": "stdout",
     "output_type": "stream",
     "text": [
      "Optimization terminated successfully.\n",
      "         Current function value: 0.284652\n",
      "         Iterations 8\n"
     ]
    },
    {
     "data": {
      "text/html": [
       "<table class=\"simpletable\">\n",
       "<caption>Logit Regression Results</caption>\n",
       "<tr>\n",
       "  <th>Dep. Variable:</th>     <td>GOLD_Lesions</td>   <th>  No. Observations:  </th>  <td>    76</td>  \n",
       "</tr>\n",
       "<tr>\n",
       "  <th>Model:</th>                 <td>Logit</td>      <th>  Df Residuals:      </th>  <td>    68</td>  \n",
       "</tr>\n",
       "<tr>\n",
       "  <th>Method:</th>                 <td>MLE</td>       <th>  Df Model:          </th>  <td>     7</td>  \n",
       "</tr>\n",
       "<tr>\n",
       "  <th>Date:</th>            <td>Tue, 10 Oct 2023</td> <th>  Pseudo R-squ.:     </th>  <td>0.5893</td>  \n",
       "</tr>\n",
       "<tr>\n",
       "  <th>Time:</th>                <td>09:26:27</td>     <th>  Log-Likelihood:    </th> <td> -21.634</td> \n",
       "</tr>\n",
       "<tr>\n",
       "  <th>converged:</th>             <td>True</td>       <th>  LL-Null:           </th> <td> -52.679</td> \n",
       "</tr>\n",
       "<tr>\n",
       "  <th>Covariance Type:</th>     <td>nonrobust</td>    <th>  LLR p-value:       </th> <td>5.764e-11</td>\n",
       "</tr>\n",
       "</table>\n",
       "<table class=\"simpletable\">\n",
       "<tr>\n",
       "      <td></td>         <th>coef</th>     <th>std err</th>      <th>z</th>      <th>P>|z|</th>  <th>[0.025</th>    <th>0.975]</th>  \n",
       "</tr>\n",
       "<tr>\n",
       "  <th>Intercept</th> <td>   -4.6411</td> <td>    1.885</td> <td>   -2.462</td> <td> 0.014</td> <td>   -8.336</td> <td>   -0.946</td>\n",
       "</tr>\n",
       "<tr>\n",
       "  <th>FLAIR</th>     <td>    2.2939</td> <td>    1.132</td> <td>    2.026</td> <td> 0.043</td> <td>    0.075</td> <td>    4.513</td>\n",
       "</tr>\n",
       "<tr>\n",
       "  <th>T1</th>        <td>    2.2414</td> <td>    0.968</td> <td>    2.314</td> <td> 0.021</td> <td>    0.343</td> <td>    4.140</td>\n",
       "</tr>\n",
       "<tr>\n",
       "  <th>T2</th>        <td>    1.7219</td> <td>    0.962</td> <td>    1.789</td> <td> 0.074</td> <td>   -0.164</td> <td>    3.608</td>\n",
       "</tr>\n",
       "<tr>\n",
       "  <th>FLAIR_10</th>  <td>    7.8263</td> <td>    3.907</td> <td>    2.003</td> <td> 0.045</td> <td>    0.170</td> <td>   15.483</td>\n",
       "</tr>\n",
       "<tr>\n",
       "  <th>T1_10</th>     <td>    1.8550</td> <td>    1.605</td> <td>    1.156</td> <td> 0.248</td> <td>   -1.291</td> <td>    5.001</td>\n",
       "</tr>\n",
       "<tr>\n",
       "  <th>T2_10</th>     <td>   -3.9036</td> <td>    2.964</td> <td>   -1.317</td> <td> 0.188</td> <td>   -9.713</td> <td>    1.906</td>\n",
       "</tr>\n",
       "<tr>\n",
       "  <th>FLAIR_20</th>  <td>  -18.9455</td> <td>    7.940</td> <td>   -2.386</td> <td> 0.017</td> <td>  -34.507</td> <td>   -3.384</td>\n",
       "</tr>\n",
       "</table>"
      ],
      "text/plain": [
       "<class 'statsmodels.iolib.summary.Summary'>\n",
       "\"\"\"\n",
       "                           Logit Regression Results                           \n",
       "==============================================================================\n",
       "Dep. Variable:           GOLD_Lesions   No. Observations:                   76\n",
       "Model:                          Logit   Df Residuals:                       68\n",
       "Method:                           MLE   Df Model:                            7\n",
       "Date:                Tue, 10 Oct 2023   Pseudo R-squ.:                  0.5893\n",
       "Time:                        09:26:27   Log-Likelihood:                -21.634\n",
       "converged:                       True   LL-Null:                       -52.679\n",
       "Covariance Type:            nonrobust   LLR p-value:                 5.764e-11\n",
       "==============================================================================\n",
       "                 coef    std err          z      P>|z|      [0.025      0.975]\n",
       "------------------------------------------------------------------------------\n",
       "Intercept     -4.6411      1.885     -2.462      0.014      -8.336      -0.946\n",
       "FLAIR          2.2939      1.132      2.026      0.043       0.075       4.513\n",
       "T1             2.2414      0.968      2.314      0.021       0.343       4.140\n",
       "T2             1.7219      0.962      1.789      0.074      -0.164       3.608\n",
       "FLAIR_10       7.8263      3.907      2.003      0.045       0.170      15.483\n",
       "T1_10          1.8550      1.605      1.156      0.248      -1.291       5.001\n",
       "T2_10         -3.9036      2.964     -1.317      0.188      -9.713       1.906\n",
       "FLAIR_20     -18.9455      7.940     -2.386      0.017     -34.507      -3.384\n",
       "==============================================================================\n",
       "\"\"\""
      ]
     },
     "execution_count": 34,
     "metadata": {},
     "output_type": "execute_result"
    }
   ],
   "source": [
    "results = smf.logit(formula = 'GOLD_Lesions ~ FLAIR + T1 + T2 + FLAIR_10 + T1_10 + T2_10 + FLAIR_20', data = trainingDat).fit()\n",
    "results.summary()"
   ]
  }
 ],
 "metadata": {
  "colab": {
   "include_colab_link": true,
   "name": "Copy of notebook5.ipynb",
   "provenance": []
  },
  "kernelspec": {
   "display_name": "Python [conda env:.conda-ds4bio]",
   "language": "python",
   "name": "conda-env-.conda-ds4bio-py"
  },
  "language_info": {
   "codemirror_mode": {
    "name": "ipython",
    "version": 3
   },
   "file_extension": ".py",
   "mimetype": "text/x-python",
   "name": "python",
   "nbconvert_exporter": "python",
   "pygments_lexer": "ipython3",
   "version": "3.10.4"
  }
 },
 "nbformat": 4,
 "nbformat_minor": 4
}
