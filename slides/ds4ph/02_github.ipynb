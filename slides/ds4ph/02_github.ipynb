{
 "cells": [
  {
   "cell_type": "markdown",
   "id": "ae13ff38-386c-4dc4-8d2e-67d37b86d52f",
   "metadata": {
    "slideshow": {
     "slide_type": "slide"
    },
    "tags": []
   },
   "source": [
    "# Git, github and version control"
   ]
  },
  {
   "cell_type": "markdown",
   "id": "7e20bb1a-1e23-45fe-9e63-59f98d6931fc",
   "metadata": {
    "slideshow": {
     "slide_type": "slide"
    },
    "tags": []
   },
   "source": [
    "## Git\n",
    "\n",
    "+ Git is a version control system  \n",
    "+ A github repository is a directory that the software git is using to keep track of versions\n",
    "+ Install [git](https://git-scm.com/book/en/v2/Getting-Started-Installing-Git), it's already installed on most cloud services\n",
    "+ You can initialize a repository in a dir with the command `git init` (though we'll present a different workflow later\n",
    "+ Your git repo then is a locally version controlled system"
   ]
  },
  {
   "cell_type": "markdown",
   "id": "a7bf1b55-3cfd-436a-a49b-249b80aacb07",
   "metadata": {
    "slideshow": {
     "slide_type": "subslide"
    },
    "tags": []
   },
   "source": [
    "### Adding files\n",
    "+ You can add files with the command\n",
    "```\n",
    "git add FILENAME\n",
    "```\n",
    "+ The file `FILENAME` is now staged to be part of the repository\n",
    "+ Files that you haven't added won't be tracked\n",
    "+ You only need to add the file once"
   ]
  },
  {
   "cell_type": "markdown",
   "id": "e8188b7f-998b-44b7-a378-0bd73c0f131e",
   "metadata": {
    "slideshow": {
     "slide_type": "subslide"
    },
    "tags": []
   },
   "source": [
    "### Checking status\n",
    "+ One of the most useful git commands is \n",
    "```\n",
    "git status\n",
    "```\n",
    "+ This gives the status of which files are being tracked, which are not and which have changes"
   ]
  },
  {
   "cell_type": "markdown",
   "id": "bbf51081-a9ca-4d63-80f3-eb5899515849",
   "metadata": {
    "slideshow": {
     "slide_type": "subslide"
    },
    "tags": []
   },
   "source": [
    "### Commiting changes\n",
    "+ You have to actually commit your changes to the repository to have them represented\n",
    "+ Committing changes is a local operation, subsequently, we'll show you how to coordinate with a remote repository\n",
    "+ Here's the command I use to commit most often\n",
    "```\n",
    "git commit -a -m \"COMMIT MESSAGE\"\n",
    "``` \n",
    "+ Here the flag `-a` means commit all files staged for commits. You can also commit individual files or a collection of specific files\n",
    "+ The `-m \"COMMIT MESSAGE\"` is the message associated with your commit. Make your commit messages more informative. If you don't add `-m` github will bring up an editor for you to enter your commit message"
   ]
  },
  {
   "cell_type": "markdown",
   "id": "c8c0b26d-ccf9-4e4f-88ff-8c3f6b540ac1",
   "metadata": {
    "slideshow": {
     "slide_type": "slide"
    },
    "tags": []
   },
   "source": [
    "# Remote repositories\n",
    "\n",
    "+ Git becomes much more useful when it's coordinated with a remote repository\n",
    "+ Github is a server for hosting remote git repositories, there are several others, bitbucket is an example\n",
    "+ Github also includes a great deal of functionality for working with the remote repository through the website\n",
    "+ There's many git and github guis that you could use if you want. I always liked to github one and magit in emacs"
   ]
  },
  {
   "cell_type": "markdown",
   "id": "23bd16cb-c93c-47a2-97a3-6fe682b3a204",
   "metadata": {
    "slideshow": {
     "slide_type": "subslide"
    },
    "tags": []
   },
   "source": [
    "## Connecting your remote and local repos\n",
    "+ You need to connect your local repo to the remote repo\n",
    "+ First create a version of the repo on github (actually then it gives you instructions)\n",
    "+ Then you can either\n",
    "  1. *Clone* the repo from the server `git clone REMOTE SERVER`\n",
    "  2. Connect the server to your local repository \n",
    "```\n",
    "git remote add origin git@github.com:USERNAME/REPONAME.git\n",
    "```\n",
    "+ Personally, I find it easier just to create the repo on github and clone it\n",
    "+ You can clone over ssh or https, if you don't know what ssh is use https"
   ]
  },
  {
   "cell_type": "markdown",
   "id": "0cf123fd-2db9-42ec-ad68-0a20bfe7feb2",
   "metadata": {
    "slideshow": {
     "slide_type": "subslide"
    },
    "tags": []
   },
   "source": [
    "## Pushing changes \n",
    "\n",
    "+ You push from the repo you're working on to another (remote repo). So, for me, typically pushing from my computer repo to github\n",
    "```\n",
    "git push origin main\n",
    "```\n",
    "which could be read as \"push my new committed changes from my origin to the main branch on my remote repo\". \n",
    "+ Older repos had the default branch `master` instead of `main`. But, github switched in 2020 or so"
   ]
  },
  {
   "cell_type": "code",
   "execution_count": 1,
   "id": "76285fc2-df63-4d4c-97d6-bf385006e794",
   "metadata": {},
   "outputs": [
    {
     "data": {
      "image/png": "[encoded data removed]",
      "text/plain": [
       "<Figure size 144x144 with 1 Axes>"
      ]
     },
     "metadata": {},
     "output_type": "display_data"
    }
   ],
   "source": [
    "import networkx as nx\n",
    "import matplotlib.pyplot as plt\n",
    "#import numpy as np\n",
    "#import sklearn as skl\n",
    "\n",
    "plt.figure(figsize=[2, 2])\n",
    "G = nx.DiGraph()\n",
    "\n",
    "G.add_node(\"GH\",    pos = (.5, 1) )\n",
    "G.add_node(\"Local\", pos = (.5, 0))\n",
    "#G.add_edge(\"GH\", \"Local\")\n",
    "G.add_edge(\"Local\", \"GH\")\n",
    "nx.draw(G, \n",
    "        nx.get_node_attributes(G, 'pos'), \n",
    "        with_labels=True, \n",
    "        font_weight='bold', \n",
    "        node_size = 2000,\n",
    "        node_color = \"lightblue\",\n",
    "        linewidths = 3)\n",
    "ax= plt.gca()\n",
    "ax.collections[0].set_edgecolor(\"#000000\")\n",
    "ax.set_xlim([-.3, 1.3])\n",
    "ax.set_ylim([-.3, 1.3])\n",
    "plt.show()"
   ]
  },
  {
   "cell_type": "markdown",
   "id": "83a4676c-2972-427b-ad66-6e5493791a7d",
   "metadata": {
    "slideshow": {
     "slide_type": "subslide"
    },
    "tags": []
   },
   "source": [
    "## Pulling changes\n",
    "+ There might be changes that you want represented locally that were changed on the remote repository; for example, you might edit a readme file through github's web interface\n",
    "+ The command for this is really easy, it's just pull\n",
    "```\n",
    "git pull\n",
    "```\n",
    "+ The pain occurs if you have made local changes that are in conflict with the remote changes (more on this later)"
   ]
  },
  {
   "cell_type": "code",
   "execution_count": 3,
   "id": "90280aa3-e744-499e-ace6-cfdd47c4eaa8",
   "metadata": {},
   "outputs": [
    {
     "data": {
      "image/png": "[encoded data removed]",
      "text/plain": [
       "<Figure size 144x144 with 1 Axes>"
      ]
     },
     "metadata": {},
     "output_type": "display_data"
    }
   ],
   "source": [
    "plt.figure(figsize=[2, 2])\n",
    "G = nx.DiGraph()\n",
    "\n",
    "G.add_node(\"GH\",    pos = (.5, 1) )\n",
    "G.add_node(\"Local\", pos = (.5, 0))\n",
    "G.add_edge(\"GH\", \"Local\")\n",
    "#G.add_edge(\"Local\", \"GH\")\n",
    "nx.draw(G, \n",
    "        nx.get_node_attributes(G, 'pos'), \n",
    "        with_labels=True, \n",
    "        font_weight='bold', \n",
    "        node_size = 2000,\n",
    "        node_color = \"lightblue\",\n",
    "        linewidths = 3)\n",
    "ax= plt.gca()\n",
    "ax.collections[0].set_edgecolor(\"#000000\")\n",
    "ax.set_xlim([-.3, 1.3])\n",
    "ax.set_ylim([-.3, 1.3])\n",
    "plt.show()"
   ]
  },
  {
   "cell_type": "markdown",
   "id": "163accbd-e12e-40a7-90ef-639140c911ac",
   "metadata": {
    "slideshow": {
     "slide_type": "slide"
    },
    "tags": []
   },
   "source": [
    "## Cloning\n",
    "+ To clone a remote repository is simply to copy it locally\n",
    "+ If a repository is public\n",
    "  + If you own it, then you can clone it and push changes back to the remote\n",
    "  + If you don't, you can clone and pull changes, but then can't push back to the remote\n",
    "    + Try with the course repo, clone it so you have access to the files\n",
    "    + In the figure below the owner can pull and push to the repo"
   ]
  },
  {
   "cell_type": "code",
   "execution_count": 14,
   "id": "5643eda6-25fb-423c-a958-6a3d6c840bc2",
   "metadata": {},
   "outputs": [
    {
     "data": {
      "image/png": "[encoded data removed]",
      "text/plain": [
       "<Figure size 216x144 with 1 Axes>"
      ]
     },
     "metadata": {},
     "output_type": "display_data"
    }
   ],
   "source": [
    "plt.figure(figsize=[3, 2])\n",
    "G = nx.DiGraph()\n",
    "\n",
    "G.add_node(\"GH1\",    pos = (.5, 1) )\n",
    "G.add_node(\"Local1\", pos = (.5, 0))\n",
    "G.add_node(\"Local2\", pos = (1.5, 0))\n",
    "\n",
    "G.add_edge(\"GH1\", \"Local1\")\n",
    "G.add_edge(\"Local1\", \"GH1\")\n",
    "G.add_edge(\"GH1\", \"Local2\")\n",
    "\n",
    "#G.add_edge(\"Local\", \"GH\")\n",
    "nx.draw(G, \n",
    "        nx.get_node_attributes(G, 'pos'), \n",
    "        with_labels=True, \n",
    "        font_weight='bold', \n",
    "        node_size = 2500,\n",
    "        node_color = \"lightblue\",\n",
    "        linewidths = 3)\n",
    "ax= plt.gca()\n",
    "ax.collections[0].set_edgecolor(\"#000000\")\n",
    "ax.set_xlim([-.3, 2.3])\n",
    "ax.set_ylim([-.3, 1.3])\n",
    "plt.show()"
   ]
  },
  {
   "cell_type": "code",
   "execution_count": null,
   "id": "b77a88cf-d94f-4222-bce7-2fa96afe6805",
   "metadata": {
    "slideshow": {
     "slide_type": "subslide"
    },
    "tags": []
   },
   "outputs": [],
   "source": []
  }
 ],
 "metadata": {
  "kernelspec": {
   "display_name": "Python 3 (ipykernel)",
   "language": "python",
   "name": "python3"
  },
  "language_info": {
   "codemirror_mode": {
    "name": "ipython",
    "version": 3
   },
   "file_extension": ".py",
   "mimetype": "text/x-python",
   "name": "python",
   "nbconvert_exporter": "python",
   "pygments_lexer": "ipython3",
   "version": "3.9.7"
  }
 },
 "nbformat": 4,
 "nbformat_minor": 5
}
