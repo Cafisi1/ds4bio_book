{
 "cells": [
  {
   "cell_type": "code",
   "execution_count": 25,
   "metadata": {},
   "outputs": [],
   "source": [
    "from rajas import embeddings as eb"
   ]
  },
  {
   "cell_type": "code",
   "execution_count": 26,
   "metadata": {},
   "outputs": [],
   "source": [
    "eb.embed_audio('02_github.ipynb')"
   ]
  },
  {
   "cell_type": "markdown",
   "metadata": {},
   "source": [
    "Default conversion\n",
    "\n",
    "```\n",
    "02 converted with `jupyter nbconvert 02_github.ipynb --to slides --no-input`\n",
    "```\n"
   ]
  },
  {
   "cell_type": "markdown",
   "metadata": {},
   "source": [
    "Conversion with different theme\n",
    "\n",
    "```\n",
    "jupyter nbconvert 10_sqlite.ipynb --to slides --SlidesExporter.reveal_theme=solarized\n",
    "```\n"
   ]
  },
  {
   "cell_type": "code",
   "execution_count": 4,
   "metadata": {},
   "outputs": [
    {
     "name": "stdout",
     "output_type": "stream",
     "text": [
      "[NbConvertApp] Converting notebook 22_linear_separable.ipynb to slides\n",
      "[NbConvertApp] Writing 602828 bytes to 22_linear_separable.slides.html\n"
     ]
    }
   ],
   "source": [
    "!jupyter nbconvert 22_linear_separable.ipynb --to slides --SlidesExporter.reveal_theme=solarized"
   ]
  },
  {
   "cell_type": "code",
   "execution_count": 4,
   "metadata": {},
   "outputs": [
    {
     "name": "stdout",
     "output_type": "stream",
     "text": [
      "[NbConvertApp] Converting notebook 23_linear_separable_smf.ipynb to slides\n",
      "[NbConvertApp] Writing 590645 bytes to 23_linear_separable_smf.slides.html\n"
     ]
    }
   ],
   "source": [
    "!jupyter nbconvert 23_linear_separable_smf.ipynb --to slides --SlidesExporter.reveal_theme=solarized"
   ]
  },
  {
   "cell_type": "code",
   "execution_count": 1,
   "metadata": {},
   "outputs": [
    {
     "name": "stdout",
     "output_type": "stream",
     "text": [
      "[NbConvertApp] Converting notebook 24_regression_examples.ipynb to slides\n",
      "[NbConvertApp] Writing 599589 bytes to 24_regression_examples.slides.html\n"
     ]
    }
   ],
   "source": [
    "!jupyter nbconvert 24_regression_examples.ipynb --to slides --SlidesExporter.reveal_theme=solarized"
   ]
  },
  {
   "cell_type": "code",
   "execution_count": 2,
   "metadata": {},
   "outputs": [
    {
     "name": "stdout",
     "output_type": "stream",
     "text": [
      "[NbConvertApp] Converting notebook 25_regression_interpretation.ipynb to slides\n",
      "[NbConvertApp] Writing 668277 bytes to 25_regression_interpretation.slides.html\n"
     ]
    }
   ],
   "source": [
    "!jupyter nbconvert 25_regression_interpretation.ipynb --to slides --SlidesExporter.reveal_theme=solarized"
   ]
  },
  {
   "cell_type": "code",
   "execution_count": null,
   "metadata": {},
   "outputs": [
    {
     "name": "stdout",
     "output_type": "stream",
     "text": [
      "[NbConvertApp] Converting notebook 26_nns.ipynb to slides\n"
     ]
    }
   ],
   "source": [
    "!jupyter nbconvert 26_nns.ipynb --to slides --SlidesExporter.reveal_theme=solarized "
   ]
  }
 ],
 "metadata": {
  "kernelspec": {
   "display_name": "Python [conda env:.conda-ds4bio]",
   "language": "python",
   "name": "conda-env-.conda-ds4bio-py"
  },
  "language_info": {
   "codemirror_mode": {
    "name": "ipython",
    "version": 3
   },
   "file_extension": ".py",
   "mimetype": "text/x-python",
   "name": "python",
   "nbconvert_exporter": "python",
   "pygments_lexer": "ipython3",
   "version": "3.10.4"
  },
  "vscode": {
   "interpreter": {
    "hash": "79f87720972903b6188d40b03afb0115543bf63f5f0af29aadb196967754f61a"
   }
  }
 },
 "nbformat": 4,
 "nbformat_minor": 4
}
