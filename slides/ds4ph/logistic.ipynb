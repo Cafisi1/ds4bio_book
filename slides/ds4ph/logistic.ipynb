{
 "cells": [
  {
   "cell_type": "markdown",
   "metadata": {
    "slideshow": {
     "slide_type": "slide"
    },
    "tags": []
   },
   "source": [
    "# Logistic regression"
   ]
  },
  {
   "cell_type": "markdown",
   "metadata": {
    "slideshow": {
     "slide_type": "slide"
    },
    "tags": []
   },
   "source": [
    "## Classification with one continuous variable\n",
    "\n",
    "+ Consider our example MRI data\n",
    "+ Suppose now that we want to predict the gold standard from the FLAIR values. "
   ]
  },
  {
   "cell_type": "code",
   "execution_count": 11,
   "metadata": {
    "slideshow": {
     "slide_type": "subslide"
    },
    "tags": []
   },
   "outputs": [
    {
     "data": {
      "image/png": "[encoded data removed]",
      "text/plain": [
       "<Figure size 432x288 with 1 Axes>"
      ]
     },
     "metadata": {},
     "output_type": "display_data"
    }
   ],
   "source": [
    "import numpy as np\n",
    "import pandas as pd\n",
    "import seaborn as sns\n",
    "import matplotlib.pyplot as plt\n",
    "import sklearn.linear_model as lm\n",
    "sns.set()\n",
    "dat = pd.read_csv(\"https://raw.githubusercontent.com/bcaffo/ds4bme_intro/master/data/oasis.csv\")\n",
    "sns.scatterplot(x = 'FLAIR', y = 'GOLD_Lesions', data = dat);"
   ]
  },
  {
   "cell_type": "markdown",
   "metadata": {
    "id": "09w3TFe3g3Y2",
    "slideshow": {
     "slide_type": "subslide"
    },
    "tags": []
   },
   "source": [
    "## How to fit\n",
    "\n",
    "+ Fitting a line seems weird, since the outcome can only be 0 or 1. \n",
    "+ A line would allow for arbitrarily small or large predictions. \n",
    "+ Similiarly, forcing the prediction to be exactly 0 or 1 leads to difficult optimization problems. \n",
    "+ Instead consider modeling\n",
    "\n",
    "$$\n",
    "P(Y_i = 1 ~|~ X_i)\n",
    "$$\n",
    "\n",
    "+ $Y_i$ is the gold standard value for voxel $i$\n",
    "+ $X_i$ is the FLAIR value for voxel $i$"
   ]
  },
  {
   "cell_type": "markdown",
   "metadata": {
    "slideshow": {
     "slide_type": "subslide"
    },
    "tags": []
   },
   "source": [
    "## Modeling probabilities\n",
    "\n",
    "+ We need a probability model that lives between 0 and 1\n",
    "+ Log odds (logit) models convert probabliities to \n",
    "$$\n",
    "\\eta = \\mathrm{logit}(p) = \\log\\{p / (1 - p)\\}\n",
    "$$\n",
    "+ Here $p$ is the probability and $O = p/(1-p)$ is called the **odds**\n",
    "+ Note, you can go backwards from odds to probability with the function \n",
    "\n",
    "$$p = O / (1 + O)$$"
   ]
  },
  {
   "cell_type": "markdown",
   "metadata": {
    "slideshow": {
     "slide_type": "subslide"
    },
    "tags": []
   },
   "source": [
    "## Why use odds?\n",
    "\n",
    "+ There are specific study designs where odds make more sense than probabilities, particularly retrospective ones. \n",
    "+ Odds are unique in binomial models where they work out to be particularly tractible \n",
    "+ Odds have a unique gambling interpretation in that they give the ratio of a  one dollar risk to the return in a fair bet. "
   ]
  },
  {
   "cell_type": "markdown",
   "metadata": {
    "slideshow": {
     "slide_type": "subslide"
    },
    "tags": []
   },
   "source": [
    "## Logit models\n",
    "\n",
    "+ We model the log of the odds as linear in the covariate, resulting in a technique called **logistic regression**.\n",
    "\n",
    "$$\n",
    "\\eta = \\mathrm{logit}\\left\\{ P(Y = 1 ~|~ X) \\right\\}\n",
    "= \\beta_0 + \\beta_1 X.\n",
    "$$\n",
    "\n",
    "+ $e^\\beta_1$ has the nice interpretation of the odds ratio associated with a one unit change in $X$"
   ]
  },
  {
   "cell_type": "markdown",
   "metadata": {
    "slideshow": {
     "slide_type": "subslide"
    },
    "tags": []
   },
   "source": [
    "## Implied model on the probability scale\n",
    "\n",
    "$$\n",
    "p = \\frac{e^{\\eta}}{1 + e^\\eta} = \\frac{1}{1 + e^{-\\eta}}.\n",
    "$$\n",
    "\n",
    "+ This is sometimes called the **expit** function or **sigmoid**"
   ]
  },
  {
   "cell_type": "markdown",
   "metadata": {
    "slideshow": {
     "slide_type": "subslide"
    },
    "tags": []
   },
   "source": [
    "## Optimization\n",
    "\n",
    "+ We can minimize the cross entropy to obtain an estimate for $\\beta_0$ and $\\beta_1$\n",
    "\n",
    "$$\n",
    "-\\sum_{i=1}^n \\left[Y_i \\log\\{P(Y_i = 1 ~|~ X_i)\\} + (1 - Y_i) \\log\\{1 - P(Y_i = 1 ~|~ X_i)\\}\\right].\n",
    "$$\n",
    "\n",
    "+ This function has the interpretation of being the negative of the log of the probabilities assuming the $Y_i$ are independent\n",
    "\n",
    "+ Plugging our logit model in, the cross entropy now looks like\n",
    "\n",
    "$$\n",
    "-\\sum_{i=1}^n \\left[\n",
    "  Y_i \\eta_i + \\log\\left\\{\\frac{1}{1 + e^\\eta_i} \\right\\} \\right].\n",
    "$$"
   ]
  },
  {
   "cell_type": "markdown",
   "metadata": {
    "id": "x_z1yMIuqaij",
    "slideshow": {
     "slide_type": "slide"
    },
    "tags": []
   },
   "source": [
    "# Back to the data analysis\n",
    "\n",
    "Let's now fit the model. Again we're going to split into training and test data. But, now we're not going to do it manually since we have to load a library that has a function to do this."
   ]
  },
  {
   "cell_type": "code",
   "execution_count": 12,
   "metadata": {
    "id": "3e1JpcHcqkUB",
    "slideshow": {
     "slide_type": "subslide"
    },
    "tags": []
   },
   "outputs": [],
   "source": [
    "# Preparing the data\n",
    "\n",
    "x = dat[['FLAIR']]\n",
    "y = dat.GOLD_Lesions\n",
    "trainFraction = .75\n",
    "\n",
    "## Once again hold out some data\n",
    "sample = np.random.uniform(size = 100) < trainFraction\n",
    "xtrain = x[ sample]\n",
    "ytrain = y[ sample]\n",
    "xtest =  x[~sample]\n",
    "ytest =  y[~sample]"
   ]
  },
  {
   "cell_type": "code",
   "execution_count": 13,
   "metadata": {
    "id": "Ap2VTA3yr5Nm",
    "slideshow": {
     "slide_type": "subslide"
    },
    "tags": []
   },
   "outputs": [],
   "source": [
    "# Fitting \n",
    "\n",
    "lr = lm.LogisticRegression(fit_intercept=True, penalty='none')\n",
    "fit = lr.fit(xtrain, ytrain)"
   ]
  },
  {
   "cell_type": "markdown",
   "metadata": {
    "id": "sM07ock_hp1w",
    "slideshow": {
     "slide_type": "subslide"
    },
    "tags": []
   },
   "source": [
    "# Inspecting the results"
   ]
  },
  {
   "cell_type": "code",
   "execution_count": 14,
   "metadata": {
    "colab": {
     "base_uri": "https://localhost:8080/"
    },
    "id": "tH0jHnilhtTU",
    "outputId": "3b21e47c-6c6b-4892-aff4-3dbb48fea609"
   },
   "outputs": [
    {
     "data": {
      "text/plain": [
       "[-3.623754342563001, 2.2095218958965694]"
      ]
     },
     "execution_count": 14,
     "metadata": {},
     "output_type": "execute_result"
    }
   ],
   "source": [
    "beta0, beta1 = [fit.intercept_[0], fit.coef_[0][0]]\n",
    "[beta0, beta1]"
   ]
  },
  {
   "cell_type": "code",
   "execution_count": 15,
   "metadata": {
    "colab": {
     "base_uri": "https://localhost:8080/",
     "height": 392
    },
    "id": "etcphjtOu8F-",
    "outputId": "312d3ce4-49ef-4c72-bcb8-daffe893b3cf",
    "slideshow": {
     "slide_type": "subslide"
    },
    "tags": []
   },
   "outputs": [
    {
     "data": {
      "text/plain": [
       "<AxesSubplot:xlabel='FLAIR', ylabel='GOLD_Lesions'>"
      ]
     },
     "execution_count": 15,
     "metadata": {},
     "output_type": "execute_result"
    },
    {
     "data": {
      "image/png": "[encoded data removed]",
      "text/plain": [
       "<Figure size 432x288 with 1 Axes>"
      ]
     },
     "metadata": {},
     "output_type": "display_data"
    }
   ],
   "source": [
    "## Plotting\n",
    "\n",
    "n = 1000\n",
    "xplot = np.linspace(-1, 5, n)\n",
    "eta = beta0 + beta1 * xplot\n",
    "p = 1 / (1 + np.exp(-eta))\n",
    "\n",
    "sns.scatterplot(x = 'FLAIR', y = 'GOLD_Lesions', data = dat, hue = 'GOLD_Lesions')\n",
    "sns.lineplot(x = xplot, y =  p)"
   ]
  },
  {
   "cell_type": "markdown",
   "metadata": {
    "id": "_klq2nybjmnJ",
    "slideshow": {
     "slide_type": "subslide"
    },
    "tags": []
   },
   "source": [
    "# Evaluating prediction performance on the test set"
   ]
  },
  {
   "cell_type": "code",
   "execution_count": 16,
   "metadata": {
    "colab": {
     "base_uri": "https://localhost:8080/"
    },
    "id": "zYG1FVHqhQRt",
    "outputId": "144ced78-0fa6-4237-a748-b9ae9954bf14"
   },
   "outputs": [
    {
     "data": {
      "text/plain": [
       "array([0.655, 0.533, 0.786])"
      ]
     },
     "execution_count": 16,
     "metadata": {},
     "output_type": "execute_result"
    }
   ],
   "source": [
    "## This predicts the classes using a 50% probability cutoff\n",
    "yhat_test = fit.predict(xtest)\n",
    "\n",
    "## double checking that if you want\n",
    "#all(yhat_test == (fit.predict_proba(xtest)[:, 1] > .5))\n",
    "\n",
    "accuracy = np.mean(yhat_test == ytest)\n",
    "sensitivity = np.mean(yhat_test[ytest == 1] == ytest[ytest == 1])\n",
    "specificity = np.mean(yhat_test[ytest == 0] == ytest[ytest == 0])\n",
    "np.round([accuracy, sensitivity, specificity], 3)\n"
   ]
  },
  {
   "cell_type": "code",
   "execution_count": 17,
   "metadata": {
    "colab": {
     "base_uri": "https://localhost:8080/",
     "height": 301
    },
    "id": "Z4guOe34xFaD",
    "outputId": "2f45105d-dd6c-4762-f8e5-9a39cc2f6746",
    "slideshow": {
     "slide_type": "subslide"
    },
    "tags": []
   },
   "outputs": [
    {
     "data": {
      "text/plain": [
       "<Figure size 432x288 with 0 Axes>"
      ]
     },
     "metadata": {},
     "output_type": "display_data"
    }
   ],
   "source": [
    "from sklearn.metrics import accuracy_score, roc_curve, auc\n",
    "\n",
    "ptest = fit.predict_proba(xtest)[:, 1]\n",
    "fpr, tpr, thresholds = roc_curve(ytest, ptest)\n",
    "roc_auc = auc(fpr, tpr)\n",
    "plt.figure()\n",
    "lw = 2"
   ]
  },
  {
   "cell_type": "code",
   "execution_count": 18,
   "metadata": {
    "slideshow": {
     "slide_type": "subslide"
    },
    "tags": []
   },
   "outputs": [
    {
     "data": {
      "image/png": "[encoded data removed]",
      "text/plain": [
       "<Figure size 432x288 with 1 Axes>"
      ]
     },
     "metadata": {},
     "output_type": "display_data"
    }
   ],
   "source": [
    "plt.plot(fpr, tpr, color='darkorange',\n",
    "         lw=lw, label='ROC curve (area = %0.2f)' % roc_auc)\n",
    "plt.plot([0, 1], [0, 1], color='navy', lw=lw, linestyle='--')\n",
    "plt.xlim([-0.05, 1.05])\n",
    "plt.ylim([-0.05, 1.05])\n",
    "plt.xlabel('False Positive Rate')\n",
    "plt.ylabel('True Positive Rate')\n",
    "plt.title('Receiver operating characteristic example')\n",
    "plt.legend(loc=\"lower right\")\n",
    "plt.show()"
   ]
  }
 ],
 "metadata": {
  "colab": {
   "collapsed_sections": [],
   "include_colab_link": true,
   "name": "notebook4.ipynb",
   "provenance": []
  },
  "kernelspec": {
   "display_name": "Python [conda env:.conda-ds4bio]",
   "language": "python",
   "name": "conda-env-.conda-ds4bio-py"
  },
  "language_info": {
   "codemirror_mode": {
    "name": "ipython",
    "version": 3
   },
   "file_extension": ".py",
   "mimetype": "text/x-python",
   "name": "python",
   "nbconvert_exporter": "python",
   "pygments_lexer": "ipython3",
   "version": "3.10.4"
  }
 },
 "nbformat": 4,
 "nbformat_minor": 4
}
