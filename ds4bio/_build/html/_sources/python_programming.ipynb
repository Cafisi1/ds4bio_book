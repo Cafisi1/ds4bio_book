{
 "cells": [
  {
   "cell_type": "markdown",
   "source": [
    "# Python programming\n",
    "Try the following requests input from a user using the command `input` then it tests the value of the input using an `if` statement. A couple of things to take note of. First, python uses the white space instead of inclosing the statement in braces or parentheses. Secondly, don't forget the colons after programming statements like `if`, `else`, `for`, `def` and so on. Otherwise, if/else statements work just like you'd expect. "
   ],
   "metadata": {}
  },
  {
   "cell_type": "code",
   "execution_count": 1,
   "source": [
    "# do this if you'd like to prompt for an input\n",
    "# x = input(\"are you mean (y/n)? > \")\n",
    "# Let's just assume the user input 'n'\n",
    "x = 'n'\n",
    "if x == 'y': \n",
    " print(\"Slytherine!\")\n",
    "else:\n",
    " print(\"Gryffindor\")"
   ],
   "outputs": [
    {
     "output_type": "stream",
     "name": "stdout",
     "text": [
      "Gryffindor\n"
     ]
    }
   ],
   "metadata": {}
  },
  {
   "cell_type": "markdown",
   "source": [
    "Just to further describe white space useage in python, consider testing whether `statementA` is True. Below, `statementB` is executed as part of the if statement whereas `statementC` is outside of it because it's not indented. This is often considered an eye rolling aspect of the language, but I think it's nice in the sense that it bakes good code identation practices into the language.\n",
    "\n",
    "```\n",
    "## Some more about white space\n",
    "if statementA:\n",
    "  statementB   # Executed if statementA is True\n",
    "statementC     # Executed regardless since it's not indented\n",
    "```\n",
    "The generic structure of if statements in python are \n",
    "```\n",
    "if statement1 :\n",
    " ...\n",
    "elif statement2 :\n",
    " ...\n",
    "else \n",
    " ...\n",
    "```\n",
    "Here's an example (note this is just equal to the statement `(a < 0) - (a > 0)`"
   ],
   "metadata": {}
  },
  {
   "cell_type": "code",
   "execution_count": 3,
   "source": [
    "a = 5\n",
    "\n",
    "if a < 0 :\n",
    "  a = -1\n",
    "elif a > 0 :\n",
    "  a = 1\n",
    "else :\n",
    "  a = 0\n",
    "\n",
    "print(a)"
   ],
   "outputs": [
    {
     "output_type": "stream",
     "name": "stdout",
     "text": [
      "1\n"
     ]
    }
   ],
   "metadata": {}
  },
  {
   "cell_type": "markdown",
   "source": [
    "`for` and `while` loops can be used for iteration. Here's some examples"
   ],
   "metadata": {}
  },
  {
   "cell_type": "code",
   "execution_count": 8,
   "source": [
    "for i in range(4) :\n",
    " print(i)\n",
    " "
   ],
   "outputs": [
    {
     "output_type": "stream",
     "name": "stdout",
     "text": [
      "0\n",
      "1\n",
      "2\n",
      "3\n"
     ]
    }
   ],
   "metadata": {}
  },
  {
   "cell_type": "code",
   "execution_count": 7,
   "source": [
    "x = 4\n",
    "while x > 0 :\n",
    " x = x - 1\n",
    " print(x)"
   ],
   "outputs": [
    {
     "output_type": "stream",
     "name": "stdout",
     "text": [
      "3\n",
      "2\n",
      "1\n",
      "0\n"
     ]
    }
   ],
   "metadata": {}
  },
  {
   "cell_type": "markdown",
   "source": [
    "Note `for` loops can iterate over list-like structures."
   ],
   "metadata": {}
  },
  {
   "cell_type": "code",
   "execution_count": 9,
   "source": [
    "for w in 'word':\n",
    " print(w)"
   ],
   "outputs": [
    {
     "output_type": "stream",
     "name": "stdout",
     "text": [
      "w\n",
      "o\n",
      "r\n",
      "d\n"
     ]
    }
   ],
   "metadata": {}
  },
  {
   "cell_type": "markdown",
   "source": [
    "The range function is useful for creating a structure to loop over. It creates a data type that can be iterated over, but isn't itself a list. So if you want a list out of it, you have to convert it."
   ],
   "metadata": {}
  },
  {
   "cell_type": "code",
   "execution_count": 16,
   "source": [
    "a = range(3)\n",
    "print(a)\n",
    "print(list(a))"
   ],
   "outputs": [
    {
     "output_type": "stream",
     "name": "stdout",
     "text": [
      "range(0, 3)\n",
      "[0, 1, 2]\n"
     ]
    }
   ],
   "metadata": {}
  }
 ],
 "metadata": {
  "orig_nbformat": 4,
  "language_info": {
   "name": "python",
   "version": "3.9.6",
   "mimetype": "text/x-python",
   "codemirror_mode": {
    "name": "ipython",
    "version": 3
   },
   "pygments_lexer": "ipython3",
   "nbconvert_exporter": "python",
   "file_extension": ".py"
  },
  "kernelspec": {
   "name": "python3",
   "display_name": "Python 3.9.6 64-bit ('ds4bio': conda)"
  },
  "interpreter": {
   "hash": "625a8f875bfb3f569e4f618df17e1f8389970b6b26ee2c84acb92c5fbebf95c3"
  }
 },
 "nbformat": 4,
 "nbformat_minor": 2
}