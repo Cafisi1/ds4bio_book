{
 "cells": [
  {
   "cell_type": "markdown",
   "metadata": {
    "colab_type": "text",
    "id": "view-in-github"
   },
   "source": [
    "<a href=\"https://colab.research.google.com/github/bcaffo/ds4bme_intro/blob/master/notebooks/notebook5.ipynb\" target=\"_parent\"><img src=\"https://colab.research.google.com/assets/colab-badge.svg\" alt=\"Open In Colab\"/></a>"
   ]
  },
  {
   "cell_type": "markdown",
   "metadata": {
    "colab_type": "text",
    "id": "rIzXXVGuR9YM"
   },
   "source": [
    "# Linear separable models\n",
    "\n",
    "We've now covered two ways to do prediction with a single variable, classification using logistic regression and prediction using a line and least squares. What if we have several predictiors? \n",
    "\n",
    "In both the logistic and linear regression models, we had a linear predictor, specifically, \n",
    "\n",
    "$$\n",
    "\\eta_i = \\beta_0 + \\beta_1 x_i.\n",
    "$$\n",
    "\n",
    "In the continuous case, we were modeling the expected value of the outcomes as linear. In the binary case, we were assuming that the naturual logarithm of the odds of a 1 outcome was linear. \n",
    "\n",
    "To estimate the unknown parameters, $\\beta_0$ and $\\beta_1$ we minimized\n",
    "\n",
    "$$\n",
    "\\sum_{i=1}^n || y_i - \\eta_i||^2 \n",
    "$$\n",
    "\n",
    "in the linear case and \n",
    "\n",
    "$$\n",
    "-\\sum_{i=1}^n \\left[\n",
    "  Y_i \\eta_i + \\log\\left\\{\\frac{1}{1 + e^{\\eta_i}} \\right\\} \\right].\n",
    "$$\n",
    "\n",
    "in the binary outcome case (where, recall, $\\eta_i$ depends on the parameters).  We can easily extend these models to multiple predictors by assuming that the impact of the multiple predictors is linear and separable. That is,\n",
    "\n",
    "$$\n",
    "\\eta_i = \\beta_0 + \\beta_1 x_{1i} + \\beta_2 x_{2i} + \\ldots \\beta_{p-1} x_{p-1,i}\n",
    "$$\n",
    "\n",
    "If we think about this as vectors and matrices, we obtain\n",
    "\n",
    "$$\n",
    "\\eta = X \\beta\n",
    "$$\n",
    "\n",
    "where $\\eta$ is an $n \\times 1$ vector, $X$ is an $n \\times p$ matrix with $i,j$ entry $x_{ij}$ and $\\beta$ is a $p\\times 1$ vector with entries $\\beta_j$. \n"
   ]
  },
  {
   "cell_type": "markdown",
   "metadata": {
    "colab_type": "text",
    "id": "ApSoCaMXb4x-"
   },
   "source": [
    "Let's look at the voxel-level data that we've been working with. First let's load the data."
   ]
  },
  {
   "cell_type": "code",
   "execution_count": 1,
   "metadata": {
    "colab": {},
    "colab_type": "code",
    "id": "GMMLqAkYRxb5"
   },
   "outputs": [
    {
     "name": "stdout",
     "output_type": "stream",
     "text": [
      "--2021-09-22 19:56:06--  https://raw.githubusercontent.com/bcaffo/ds4bme_intro/master/data/oasis.csv\r\n",
      "Resolving raw.githubusercontent.com (raw.githubusercontent.com)... 185.199.109.133, 185.199.110.133, 185.199.111.133, ...\r\n",
      "Connecting to raw.githubusercontent.com (raw.githubusercontent.com)|185.199.109.133|:443... connected.\r\n"
     ]
    },
    {
     "name": "stdout",
     "output_type": "stream",
     "text": [
      "HTTP request sent, awaiting response... "
     ]
    },
    {
     "name": "stdout",
     "output_type": "stream",
     "text": [
      "200 OK\r\n",
      "Length: 22274 (22K) [text/plain]\r\n",
      "Saving to: ‘oasis.csv’\r\n",
      "\r\n",
      "\r",
      "oasis.csv             0%[                    ]       0  --.-KB/s               \r",
      "oasis.csv           100%[===================>]  21.75K  --.-KB/s    in 0.008s  \r\n",
      "\r\n",
      "2021-09-22 19:56:06 (2.55 MB/s) - ‘oasis.csv’ saved [22274/22274]\r\n",
      "\r\n"
     ]
    }
   ],
   "source": [
    "import numpy as np\n",
    "import pandas as pd\n",
    "import seaborn as sns\n",
    "import matplotlib.pyplot as plt\n",
    "import sklearn.linear_model as lm\n",
    "import sklearn as skl\n",
    "import statsmodels.formula.api as smf\n",
    "import statsmodels as sm\n",
    "\n",
    "## this sets some style parameters\n",
    "sns.set()\n",
    "\n",
    "## Download in the data if it's not already there\n",
    "! if [ ! -e oasis.csv ]; \\\n",
    "then wget https://raw.githubusercontent.com/bcaffo/ds4bme_intro/master/data/oasis.csv; \\\n",
    "fi;\n",
    "\n",
    "## Read in the data and display a few rows\n",
    "dat = pd.read_csv(\"oasis.csv\")"
   ]
  },
  {
   "cell_type": "markdown",
   "metadata": {
    "colab_type": "text",
    "id": "HUih09BMdi9_"
   },
   "source": [
    "Let's first try to fit the proton density data from the other imaging data. I'm going to use the `statsmodels` version of linear models since it has a nice format for dataframes."
   ]
  },
  {
   "cell_type": "code",
   "execution_count": 2,
   "metadata": {
    "colab": {},
    "colab_type": "code",
    "id": "Onw6CyaCdrtz"
   },
   "outputs": [],
   "source": [
    "trainFraction = .75\n",
    "\n",
    "sample = np.random.uniform(size = 100) < trainFraction\n",
    "trainingDat = dat[sample]\n",
    "testingDat = dat[~sample]"
   ]
  },
  {
   "cell_type": "code",
   "execution_count": 3,
   "metadata": {
    "colab": {
     "base_uri": "https://localhost:8080/",
     "height": 507
    },
    "colab_type": "code",
    "id": "fDJOnSsxe2N5",
    "outputId": "140b3f55-7e65-4bcf-91c3-417127a8769d"
   },
   "outputs": [
    {
     "name": "stdout",
     "output_type": "stream",
     "text": [
      "                 Results: Ordinary least squares\n",
      "=================================================================\n",
      "Model:              OLS              Adj. R-squared:     0.784   \n",
      "Dependent Variable: PD               AIC:                66.9299 \n",
      "Date:               2021-09-22 19:56 BIC:                85.4698 \n",
      "No. Observations:   75               Log-Likelihood:     -25.465 \n",
      "Df Model:           7                F-statistic:        39.31   \n",
      "Df Residuals:       67               Prob (F-statistic): 2.48e-21\n",
      "R-squared:          0.804            Scale:              0.12925 \n",
      "------------------------------------------------------------------\n",
      "               Coef.   Std.Err.     t     P>|t|    [0.025   0.975]\n",
      "------------------------------------------------------------------\n",
      "Intercept      0.1995    0.1396   1.4290  0.1577  -0.0792   0.4782\n",
      "FLAIR          0.0018    0.0909   0.0194  0.9846  -0.1796   0.1831\n",
      "T1            -0.2478    0.0986  -2.5144  0.0143  -0.4446  -0.0511\n",
      "T2             0.6053    0.0968   6.2515  0.0000   0.4121   0.7986\n",
      "FLAIR_10      -0.2391    0.3260  -0.7334  0.4659  -0.8899   0.4117\n",
      "T1_10          0.3112    0.1932   1.6108  0.1119  -0.0744   0.6967\n",
      "T2_10          0.0495    0.2910   0.1702  0.8654  -0.5312   0.6303\n",
      "FLAIR_20       2.0178    0.6979   2.8912  0.0052   0.6248   3.4109\n",
      "-----------------------------------------------------------------\n",
      "Omnibus:              1.265        Durbin-Watson:           2.000\n",
      "Prob(Omnibus):        0.531        Jarque-Bera (JB):        0.685\n",
      "Skew:                 0.167        Prob(JB):                0.710\n",
      "Kurtosis:             3.327        Condition No.:           38   \n",
      "=================================================================\n",
      "\n"
     ]
    }
   ],
   "source": [
    "results = smf.ols('PD ~ FLAIR + T1 + T2  + FLAIR_10 + T1_10 + T2_10 + FLAIR_20', data = trainingDat).fit()\n",
    "print(results.summary2())"
   ]
  },
  {
   "cell_type": "code",
   "execution_count": 4,
   "metadata": {
    "colab": {
     "base_uri": "https://localhost:8080/",
     "height": 73
    },
    "colab_type": "code",
    "id": "7UrWqsZAfF1u",
    "outputId": "fce680da-2fbb-476f-a5b9-b013192885b8"
   },
   "outputs": [
    {
     "name": "stderr",
     "output_type": "stream",
     "text": [
      "/home/bcaffo/miniconda3/envs/ds4bio/lib/python3.9/site-packages/statsmodels/tsa/tsatools.py:142: FutureWarning: In a future version of pandas all arguments of concat except for the argument 'objs' will be keyword-only\n",
      "  x = pd.concat(x[::order], 1)\n"
     ]
    }
   ],
   "source": [
    "x = dat[['FLAIR','T1', 'T2', 'FLAIR_10', 'T1_10', 'T2_10', 'FLAIR_20']]\n",
    "y = dat[['GOLD_Lesions']]\n",
    "## Add the intercept column\n",
    "x = sm.tools.add_constant(x)\n",
    "\n",
    "xtraining = x[sample]\n",
    "xtesting = x[~sample]\n",
    "ytraining = y[sample]\n",
    "ytesting = y[~sample]\n"
   ]
  },
  {
   "cell_type": "code",
   "execution_count": 5,
   "metadata": {
    "colab": {
     "base_uri": "https://localhost:8080/",
     "height": 71
    },
    "colab_type": "code",
    "id": "MaU1zUQluyFb",
    "outputId": "0bf756bd-d907-413a-a31e-4c92159e4d53"
   },
   "outputs": [
    {
     "name": "stdout",
     "output_type": "stream",
     "text": [
      "Optimization terminated successfully.\n",
      "         Current function value: 0.245666\n",
      "         Iterations 8\n"
     ]
    }
   ],
   "source": [
    "fit = sm.discrete.discrete_model.Logit(ytraining, xtraining).fit()"
   ]
  },
  {
   "cell_type": "code",
   "execution_count": 6,
   "metadata": {
    "colab": {
     "base_uri": "https://localhost:8080/",
     "height": 365
    },
    "colab_type": "code",
    "id": "clrxtIgQvDhJ",
    "outputId": "2fc144fe-1bd0-450b-e180-5788b1ca6769"
   },
   "outputs": [
    {
     "data": {
      "text/html": [
       "<table class=\"simpletable\">\n",
       "<caption>Logit Regression Results</caption>\n",
       "<tr>\n",
       "  <th>Dep. Variable:</th>     <td>GOLD_Lesions</td>   <th>  No. Observations:  </th>  <td>    75</td>  \n",
       "</tr>\n",
       "<tr>\n",
       "  <th>Model:</th>                 <td>Logit</td>      <th>  Df Residuals:      </th>  <td>    67</td>  \n",
       "</tr>\n",
       "<tr>\n",
       "  <th>Method:</th>                 <td>MLE</td>       <th>  Df Model:          </th>  <td>     7</td>  \n",
       "</tr>\n",
       "<tr>\n",
       "  <th>Date:</th>            <td>Wed, 22 Sep 2021</td> <th>  Pseudo R-squ.:     </th>  <td>0.6452</td>  \n",
       "</tr>\n",
       "<tr>\n",
       "  <th>Time:</th>                <td>19:56:06</td>     <th>  Log-Likelihood:    </th> <td> -18.425</td> \n",
       "</tr>\n",
       "<tr>\n",
       "  <th>converged:</th>             <td>True</td>       <th>  LL-Null:           </th> <td> -51.926</td> \n",
       "</tr>\n",
       "<tr>\n",
       "  <th>Covariance Type:</th>     <td>nonrobust</td>    <th>  LLR p-value:       </th> <td>5.948e-12</td>\n",
       "</tr>\n",
       "</table>\n",
       "<table class=\"simpletable\">\n",
       "<tr>\n",
       "      <td></td>        <th>coef</th>     <th>std err</th>      <th>z</th>      <th>P>|z|</th>  <th>[0.025</th>    <th>0.975]</th>  \n",
       "</tr>\n",
       "<tr>\n",
       "  <th>const</th>    <td>   -6.2474</td> <td>    2.210</td> <td>   -2.827</td> <td> 0.005</td> <td>  -10.578</td> <td>   -1.917</td>\n",
       "</tr>\n",
       "<tr>\n",
       "  <th>FLAIR</th>    <td>    3.2947</td> <td>    1.379</td> <td>    2.390</td> <td> 0.017</td> <td>    0.593</td> <td>    5.997</td>\n",
       "</tr>\n",
       "<tr>\n",
       "  <th>T1</th>       <td>    2.1040</td> <td>    1.082</td> <td>    1.944</td> <td> 0.052</td> <td>   -0.017</td> <td>    4.225</td>\n",
       "</tr>\n",
       "<tr>\n",
       "  <th>T2</th>       <td>    1.4139</td> <td>    0.990</td> <td>    1.428</td> <td> 0.153</td> <td>   -0.527</td> <td>    3.355</td>\n",
       "</tr>\n",
       "<tr>\n",
       "  <th>FLAIR_10</th> <td>    8.3876</td> <td>    3.843</td> <td>    2.183</td> <td> 0.029</td> <td>    0.856</td> <td>   15.919</td>\n",
       "</tr>\n",
       "<tr>\n",
       "  <th>T1_10</th>    <td>    3.5353</td> <td>    2.156</td> <td>    1.640</td> <td> 0.101</td> <td>   -0.690</td> <td>    7.761</td>\n",
       "</tr>\n",
       "<tr>\n",
       "  <th>T2_10</th>    <td>   -3.6273</td> <td>    3.102</td> <td>   -1.170</td> <td> 0.242</td> <td>   -9.706</td> <td>    2.452</td>\n",
       "</tr>\n",
       "<tr>\n",
       "  <th>FLAIR_20</th> <td>  -18.5510</td> <td>    8.057</td> <td>   -2.302</td> <td> 0.021</td> <td>  -34.343</td> <td>   -2.759</td>\n",
       "</tr>\n",
       "</table>"
      ],
      "text/plain": [
       "<class 'statsmodels.iolib.summary.Summary'>\n",
       "\"\"\"\n",
       "                           Logit Regression Results                           \n",
       "==============================================================================\n",
       "Dep. Variable:           GOLD_Lesions   No. Observations:                   75\n",
       "Model:                          Logit   Df Residuals:                       67\n",
       "Method:                           MLE   Df Model:                            7\n",
       "Date:                Wed, 22 Sep 2021   Pseudo R-squ.:                  0.6452\n",
       "Time:                        19:56:06   Log-Likelihood:                -18.425\n",
       "converged:                       True   LL-Null:                       -51.926\n",
       "Covariance Type:            nonrobust   LLR p-value:                 5.948e-12\n",
       "==============================================================================\n",
       "                 coef    std err          z      P>|z|      [0.025      0.975]\n",
       "------------------------------------------------------------------------------\n",
       "const         -6.2474      2.210     -2.827      0.005     -10.578      -1.917\n",
       "FLAIR          3.2947      1.379      2.390      0.017       0.593       5.997\n",
       "T1             2.1040      1.082      1.944      0.052      -0.017       4.225\n",
       "T2             1.4139      0.990      1.428      0.153      -0.527       3.355\n",
       "FLAIR_10       8.3876      3.843      2.183      0.029       0.856      15.919\n",
       "T1_10          3.5353      2.156      1.640      0.101      -0.690       7.761\n",
       "T2_10         -3.6273      3.102     -1.170      0.242      -9.706       2.452\n",
       "FLAIR_20     -18.5510      8.057     -2.302      0.021     -34.343      -2.759\n",
       "==============================================================================\n",
       "\"\"\""
      ]
     },
     "execution_count": 6,
     "metadata": {},
     "output_type": "execute_result"
    }
   ],
   "source": [
    "fit.summary()"
   ]
  },
  {
   "cell_type": "markdown",
   "metadata": {
    "colab_type": "text",
    "id": "EkCEdWt0xGzn"
   },
   "source": [
    "Now let's evaluate our prediction. Here, we're not going to classify as 0 or 1, but rather estimate the prediction. Note, we then would need to pick a threshold to have a classifier. We could use .5 as our threshold. However, it's often the case that we don't necessarily want to threshold at specifically that level. A solution for evalution is to plot how the sensitivity and specificity change by the threshold. \n",
    "\n",
    "In other words, consider the triplets\n",
    "$$\n",
    "(t, sens(t), spec(t))\n",
    "$$\n",
    "where $t$ is the threshold, `sens(t)` is the sensitivity at threshold $t$, `spec(t)` is the specificity at threshold `t`. \n",
    "\n",
    "Necessarily, the sensitivity and specificity \n",
    "\n"
   ]
  },
  {
   "cell_type": "code",
   "execution_count": 7,
   "metadata": {
    "colab": {
     "base_uri": "https://localhost:8080/",
     "height": 301
    },
    "colab_type": "code",
    "id": "zxlcuTECxCyQ",
    "outputId": "94d8070e-71a3-42f1-a4f4-2a5354602f82"
   },
   "outputs": [
    {
     "data": {
      "image/png": "[encoded data removed]",
      "text/plain": [
       "<Figure size 432x288 with 1 Axes>"
      ]
     },
     "metadata": {
      "filenames": {
       "image/png": "/home/bcaffo/sandboxes/ds4bio_book/_build/jupyter_execute/linearSeparable_11_0.png"
      }
     },
     "output_type": "display_data"
    }
   ],
   "source": [
    "phatTesting = fit.predict(xtesting)\n",
    "\n",
    "## See here for plotting\n",
    "## https://stackoverflow.com/questions/25009284/how-to-plot-roc-curve-in-python\n",
    "fpr, tpr, threshold = skl.metrics.roc_curve(ytesting, phatTesting)\n",
    "roc_auc = skl.metrics.auc(fpr, tpr)\n",
    "\n",
    "# method I: plt\n",
    "import matplotlib.pyplot as plt\n",
    "plt.title('Receiver Operating Characteristic')\n",
    "plt.plot(fpr, tpr, 'b', label = 'AUC = %0.2f' % roc_auc)\n",
    "plt.legend(loc = 'lower right')\n",
    "plt.plot([0, 1], [0, 1],'r--')\n",
    "plt.xlim([0, 1])\n",
    "plt.ylim([0, 1])\n",
    "plt.ylabel('True Positive Rate')\n",
    "plt.xlabel('False Positive Rate')\n",
    "plt.show()\n"
   ]
  },
  {
   "cell_type": "markdown",
   "metadata": {
    "colab_type": "text",
    "id": "iaXw2nFg6UoO"
   },
   "source": [
    "## Aside different python packages\n",
    "\n",
    "So far we've explored several plotting libraries including: default pandas methods, matplotlib, seaborn and plotly. We've also looked at several fitting libraries including to some extent numpy, but especially scikitlearn and statsmodels. What's the difference? Well, these packages are all mantained by different people and have different features and goals. For example, scikitlearn is more expansive than statsmodels, but statsmodels functions more like one is used to with statistical output. Matplotlib is very expansive, but seaborn has nicer default options and is a little easier. So, when doing data science with python, one has to get used to trying out a few packages, weighing the cost and benefits of each, and picking one. \n",
    "\n",
    "'statsmodels', what we're using above, has multiple methods for fitting binary models including: `sm.Logit`, `smf.logit`, `BinaryModel` and `glm`. Here I'm just going to use `Logit` which does not use the formula syntax of `logit`. Note, by default, this does not add an intercept this way. So, I'm adding a column of ones, which adds an intercept.\n",
    "\n",
    "Consider the following which uses the formula API\n"
   ]
  },
  {
   "cell_type": "code",
   "execution_count": 8,
   "metadata": {
    "colab": {
     "base_uri": "https://localhost:8080/",
     "height": 420
    },
    "colab_type": "code",
    "id": "yj_2oMxvWC4S",
    "outputId": "22d63911-ebca-429a-b14b-af07c39a59bb"
   },
   "outputs": [
    {
     "name": "stdout",
     "output_type": "stream",
     "text": [
      "Optimization terminated successfully.\n",
      "         Current function value: 0.245666\n",
      "         Iterations 8\n"
     ]
    },
    {
     "data": {
      "text/html": [
       "<table class=\"simpletable\">\n",
       "<caption>Logit Regression Results</caption>\n",
       "<tr>\n",
       "  <th>Dep. Variable:</th>     <td>GOLD_Lesions</td>   <th>  No. Observations:  </th>  <td>    75</td>  \n",
       "</tr>\n",
       "<tr>\n",
       "  <th>Model:</th>                 <td>Logit</td>      <th>  Df Residuals:      </th>  <td>    67</td>  \n",
       "</tr>\n",
       "<tr>\n",
       "  <th>Method:</th>                 <td>MLE</td>       <th>  Df Model:          </th>  <td>     7</td>  \n",
       "</tr>\n",
       "<tr>\n",
       "  <th>Date:</th>            <td>Wed, 22 Sep 2021</td> <th>  Pseudo R-squ.:     </th>  <td>0.6452</td>  \n",
       "</tr>\n",
       "<tr>\n",
       "  <th>Time:</th>                <td>19:56:06</td>     <th>  Log-Likelihood:    </th> <td> -18.425</td> \n",
       "</tr>\n",
       "<tr>\n",
       "  <th>converged:</th>             <td>True</td>       <th>  LL-Null:           </th> <td> -51.926</td> \n",
       "</tr>\n",
       "<tr>\n",
       "  <th>Covariance Type:</th>     <td>nonrobust</td>    <th>  LLR p-value:       </th> <td>5.948e-12</td>\n",
       "</tr>\n",
       "</table>\n",
       "<table class=\"simpletable\">\n",
       "<tr>\n",
       "      <td></td>         <th>coef</th>     <th>std err</th>      <th>z</th>      <th>P>|z|</th>  <th>[0.025</th>    <th>0.975]</th>  \n",
       "</tr>\n",
       "<tr>\n",
       "  <th>Intercept</th> <td>   -6.2474</td> <td>    2.210</td> <td>   -2.827</td> <td> 0.005</td> <td>  -10.578</td> <td>   -1.917</td>\n",
       "</tr>\n",
       "<tr>\n",
       "  <th>FLAIR</th>     <td>    3.2947</td> <td>    1.379</td> <td>    2.390</td> <td> 0.017</td> <td>    0.593</td> <td>    5.997</td>\n",
       "</tr>\n",
       "<tr>\n",
       "  <th>T1</th>        <td>    2.1040</td> <td>    1.082</td> <td>    1.944</td> <td> 0.052</td> <td>   -0.017</td> <td>    4.225</td>\n",
       "</tr>\n",
       "<tr>\n",
       "  <th>T2</th>        <td>    1.4139</td> <td>    0.990</td> <td>    1.428</td> <td> 0.153</td> <td>   -0.527</td> <td>    3.355</td>\n",
       "</tr>\n",
       "<tr>\n",
       "  <th>FLAIR_10</th>  <td>    8.3876</td> <td>    3.843</td> <td>    2.183</td> <td> 0.029</td> <td>    0.856</td> <td>   15.919</td>\n",
       "</tr>\n",
       "<tr>\n",
       "  <th>T1_10</th>     <td>    3.5353</td> <td>    2.156</td> <td>    1.640</td> <td> 0.101</td> <td>   -0.690</td> <td>    7.761</td>\n",
       "</tr>\n",
       "<tr>\n",
       "  <th>T2_10</th>     <td>   -3.6273</td> <td>    3.102</td> <td>   -1.170</td> <td> 0.242</td> <td>   -9.706</td> <td>    2.452</td>\n",
       "</tr>\n",
       "<tr>\n",
       "  <th>FLAIR_20</th>  <td>  -18.5510</td> <td>    8.057</td> <td>   -2.302</td> <td> 0.021</td> <td>  -34.343</td> <td>   -2.759</td>\n",
       "</tr>\n",
       "</table>"
      ],
      "text/plain": [
       "<class 'statsmodels.iolib.summary.Summary'>\n",
       "\"\"\"\n",
       "                           Logit Regression Results                           \n",
       "==============================================================================\n",
       "Dep. Variable:           GOLD_Lesions   No. Observations:                   75\n",
       "Model:                          Logit   Df Residuals:                       67\n",
       "Method:                           MLE   Df Model:                            7\n",
       "Date:                Wed, 22 Sep 2021   Pseudo R-squ.:                  0.6452\n",
       "Time:                        19:56:06   Log-Likelihood:                -18.425\n",
       "converged:                       True   LL-Null:                       -51.926\n",
       "Covariance Type:            nonrobust   LLR p-value:                 5.948e-12\n",
       "==============================================================================\n",
       "                 coef    std err          z      P>|z|      [0.025      0.975]\n",
       "------------------------------------------------------------------------------\n",
       "Intercept     -6.2474      2.210     -2.827      0.005     -10.578      -1.917\n",
       "FLAIR          3.2947      1.379      2.390      0.017       0.593       5.997\n",
       "T1             2.1040      1.082      1.944      0.052      -0.017       4.225\n",
       "T2             1.4139      0.990      1.428      0.153      -0.527       3.355\n",
       "FLAIR_10       8.3876      3.843      2.183      0.029       0.856      15.919\n",
       "T1_10          3.5353      2.156      1.640      0.101      -0.690       7.761\n",
       "T2_10         -3.6273      3.102     -1.170      0.242      -9.706       2.452\n",
       "FLAIR_20     -18.5510      8.057     -2.302      0.021     -34.343      -2.759\n",
       "==============================================================================\n",
       "\"\"\""
      ]
     },
     "execution_count": 8,
     "metadata": {},
     "output_type": "execute_result"
    }
   ],
   "source": [
    "results = smf.logit(formula = 'GOLD_Lesions ~ FLAIR + T1 + T2 + FLAIR_10 + T1_10 + T2_10 + FLAIR_20', data = trainingDat).fit()\n",
    "results.summary()"
   ]
  }
 ],
 "metadata": {
  "colab": {
   "include_colab_link": true,
   "name": "Copy of notebook5.ipynb",
   "provenance": []
  },
  "kernelspec": {
   "display_name": "Python 3",
   "name": "python3"
  },
  "language_info": {
   "codemirror_mode": {
    "name": "ipython",
    "version": 3
   },
   "file_extension": ".py",
   "mimetype": "text/x-python",
   "name": "python",
   "nbconvert_exporter": "python",
   "pygments_lexer": "ipython3",
   "version": "3.9.6"
  }
 },
 "nbformat": 4,
 "nbformat_minor": 2
}