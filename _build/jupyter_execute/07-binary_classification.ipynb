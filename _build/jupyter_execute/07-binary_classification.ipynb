{
 "cells": [
  {
   "cell_type": "markdown",
   "metadata": {
    "id": "M9KR7pRVFucG"
   },
   "source": [
    "# Introduction to binary classification"
   ]
  },
  {
   "cell_type": "markdown",
   "metadata": {
    "id": "pOGWpDlgRp6l"
   },
   "source": [
    "The data we're going to be working with for this example is the `oasis` data from Elizabeth Sweeney's R package. The data contain MR (magnetic resonance) images for lesion segmentation in multiple sclerosis (MS). MS is a disorder primarily caused by whtie matter lesions. This dataset is a collection of voxels from an image with radiologists labeling of whether or not a white matter lesion exists at that location. "
   ]
  },
  {
   "cell_type": "code",
   "execution_count": 1,
   "metadata": {
    "id": "G87LkI7xOQbh"
   },
   "outputs": [],
   "source": [
    "import numpy as np\n",
    "import pandas as pd\n",
    "import seaborn as sns\n",
    "import matplotlib.pyplot as plt\n",
    "## this sets some style parameters\n",
    "sns.set()\n",
    "from sklearn.metrics import accuracy_score, roc_curve, auc\n"
   ]
  },
  {
   "cell_type": "code",
   "execution_count": 2,
   "metadata": {
    "colab": {
     "base_uri": "https://localhost:8080/",
     "height": 187
    },
    "id": "sn3GZp8USNmd",
    "outputId": "11bfa671-9698-4814-d6ff-083f448edc93"
   },
   "outputs": [
    {
     "data": {
      "text/html": [
       "<div>\n",
       "<style scoped>\n",
       "    .dataframe tbody tr th:only-of-type {\n",
       "        vertical-align: middle;\n",
       "    }\n",
       "\n",
       "    .dataframe tbody tr th {\n",
       "        vertical-align: top;\n",
       "    }\n",
       "\n",
       "    .dataframe thead th {\n",
       "        text-align: right;\n",
       "    }\n",
       "</style>\n",
       "<table border=\"1\" class=\"dataframe\">\n",
       "  <thead>\n",
       "    <tr style=\"text-align: right;\">\n",
       "      <th></th>\n",
       "      <th>FLAIR</th>\n",
       "      <th>PD</th>\n",
       "      <th>T1</th>\n",
       "      <th>T2</th>\n",
       "      <th>FLAIR_10</th>\n",
       "      <th>PD_10</th>\n",
       "      <th>T1_10</th>\n",
       "      <th>T2_10</th>\n",
       "      <th>FLAIR_20</th>\n",
       "      <th>PD_20</th>\n",
       "      <th>T1_20</th>\n",
       "      <th>T2_20</th>\n",
       "      <th>GOLD_Lesions</th>\n",
       "    </tr>\n",
       "  </thead>\n",
       "  <tbody>\n",
       "    <tr>\n",
       "      <th>0</th>\n",
       "      <td>1.143692</td>\n",
       "      <td>1.586219</td>\n",
       "      <td>-0.799859</td>\n",
       "      <td>1.634467</td>\n",
       "      <td>0.437568</td>\n",
       "      <td>0.823800</td>\n",
       "      <td>-0.002059</td>\n",
       "      <td>0.573663</td>\n",
       "      <td>0.279832</td>\n",
       "      <td>0.548341</td>\n",
       "      <td>0.219136</td>\n",
       "      <td>0.298662</td>\n",
       "      <td>0</td>\n",
       "    </tr>\n",
       "    <tr>\n",
       "      <th>1</th>\n",
       "      <td>1.652552</td>\n",
       "      <td>1.766672</td>\n",
       "      <td>-1.250992</td>\n",
       "      <td>0.921230</td>\n",
       "      <td>0.663037</td>\n",
       "      <td>0.880250</td>\n",
       "      <td>-0.422060</td>\n",
       "      <td>0.542597</td>\n",
       "      <td>0.422182</td>\n",
       "      <td>0.549711</td>\n",
       "      <td>0.061573</td>\n",
       "      <td>0.280972</td>\n",
       "      <td>0</td>\n",
       "    </tr>\n",
       "    <tr>\n",
       "      <th>2</th>\n",
       "      <td>1.036099</td>\n",
       "      <td>0.262042</td>\n",
       "      <td>-0.858565</td>\n",
       "      <td>-0.058211</td>\n",
       "      <td>-0.044280</td>\n",
       "      <td>-0.308569</td>\n",
       "      <td>0.014766</td>\n",
       "      <td>-0.256075</td>\n",
       "      <td>-0.136532</td>\n",
       "      <td>-0.350905</td>\n",
       "      <td>0.020673</td>\n",
       "      <td>-0.259914</td>\n",
       "      <td>0</td>\n",
       "    </tr>\n",
       "    <tr>\n",
       "      <th>3</th>\n",
       "      <td>1.037692</td>\n",
       "      <td>0.011104</td>\n",
       "      <td>-1.228796</td>\n",
       "      <td>-0.470222</td>\n",
       "      <td>-0.013971</td>\n",
       "      <td>-0.000498</td>\n",
       "      <td>-0.395575</td>\n",
       "      <td>-0.221900</td>\n",
       "      <td>0.000807</td>\n",
       "      <td>-0.003085</td>\n",
       "      <td>-0.193249</td>\n",
       "      <td>-0.139284</td>\n",
       "      <td>0</td>\n",
       "    </tr>\n",
       "  </tbody>\n",
       "</table>\n",
       "</div>"
      ],
      "text/plain": [
       "      FLAIR        PD        T1        T2  FLAIR_10     PD_10     T1_10  \\\n",
       "0  1.143692  1.586219 -0.799859  1.634467  0.437568  0.823800 -0.002059   \n",
       "1  1.652552  1.766672 -1.250992  0.921230  0.663037  0.880250 -0.422060   \n",
       "2  1.036099  0.262042 -0.858565 -0.058211 -0.044280 -0.308569  0.014766   \n",
       "3  1.037692  0.011104 -1.228796 -0.470222 -0.013971 -0.000498 -0.395575   \n",
       "\n",
       "      T2_10  FLAIR_20     PD_20     T1_20     T2_20  GOLD_Lesions  \n",
       "0  0.573663  0.279832  0.548341  0.219136  0.298662             0  \n",
       "1  0.542597  0.422182  0.549711  0.061573  0.280972             0  \n",
       "2 -0.256075 -0.136532 -0.350905  0.020673 -0.259914             0  \n",
       "3 -0.221900  0.000807 -0.003085 -0.193249 -0.139284             0  "
      ]
     },
     "execution_count": 2,
     "metadata": {},
     "output_type": "execute_result"
    }
   ],
   "source": [
    "dat = pd.read_csv(\"https://raw.githubusercontent.com/bcaffo/ds4bme_intro/master/data/oasis.csv\")\n",
    "dat.head(4)"
   ]
  },
  {
   "cell_type": "markdown",
   "metadata": {
    "id": "Gb7bSjRHSJW9"
   },
   "source": [
    "Note that we loaded `pandas` first. The various columns are voxel values from different kinds of MR images of the same patient. FLAIR (fluid attenuated inversion recovery), PD (proton density), T1 and T2. The latter two aren't acronyms, but instead named for the specific part of the *relaxation time* of the MR signal. Roughly, the relaxation time is related to the signal produced by protons snapping back into alignment in a strong magnetic field (recall *magnetic* resonance imaging). The `_10` and `_20` ending variables are local averages of the neighboring voxels. We're trying to predict `GOLD_Lesions`, which is the radiologist standard of whether or not there is a lesion at this voxel. (A voxel is a three dimensional pixel.) \n",
    "\n",
    "Note here we are doing *voxelwise segmentation* that is trying to predict whether there is a lesion at each specific voxel. This can be viewed as an image processing problem. Other classification problem consider, for example, whether a patient has any lesions (and then where as a followup). Approaching the problem that way is a *image  level* segmentation approach. \n",
    "\n",
    "Let's plot it. I'm showing a couple of ways. I've been testing out plotting libraries in python, and I think that I like 'seaborn' (the second plot) the best. In the seaborn plots, I show both the marginal plot (without considering the gold standard) and then stratified by whether or not there was a lesion at that voxel."
   ]
  },
  {
   "cell_type": "code",
   "execution_count": 3,
   "metadata": {
    "colab": {
     "base_uri": "https://localhost:8080/",
     "height": 338
    },
    "id": "3jlT2wVkXDNy",
    "outputId": "ba38743a-f439-4976-b112-ec2754a49a08"
   },
   "outputs": [
    {
     "data": {
      "text/plain": [
       "GOLD_Lesions\n",
       "0    AxesSubplot(0.125,0.125;0.775x0.755)\n",
       "1    AxesSubplot(0.125,0.125;0.775x0.755)\n",
       "Name: FLAIR, dtype: object"
      ]
     },
     "execution_count": 3,
     "metadata": {},
     "output_type": "execute_result"
    },
    {
     "data": {
      "image/png": "[encoded data removed]",
      "text/plain": [
       "<Figure size 432x288 with 1 Axes>"
      ]
     },
     "metadata": {
      "filenames": {
       "image/png": "/home/bcaffo/sandboxes/ds4bio_book/_build/jupyter_execute/07-binary_classification_5_1.png"
      }
     },
     "output_type": "display_data"
    }
   ],
   "source": [
    "dat.groupby('GOLD_Lesions').FLAIR.hist(alpha= .5)"
   ]
  },
  {
   "cell_type": "code",
   "execution_count": 4,
   "metadata": {
    "colab": {
     "base_uri": "https://localhost:8080/",
     "height": 556
    },
    "id": "XbdVFgByj_mo",
    "outputId": "45a2e3ca-3747-4236-bd91-e0b5b3b042ac"
   },
   "outputs": [
    {
     "data": {
      "image/png": "[encoded data removed]",
      "text/plain": [
       "<Figure size 432x288 with 1 Axes>"
      ]
     },
     "metadata": {
      "filenames": {
       "image/png": "/home/bcaffo/sandboxes/ds4bio_book/_build/jupyter_execute/07-binary_classification_6_0.png"
      }
     },
     "output_type": "display_data"
    },
    {
     "data": {
      "image/png": "[encoded data removed]",
      "text/plain": [
       "<Figure size 432x288 with 1 Axes>"
      ]
     },
     "metadata": {
      "filenames": {
       "image/png": "/home/bcaffo/sandboxes/ds4bio_book/_build/jupyter_execute/07-binary_classification_6_1.png"
      }
     },
     "output_type": "display_data"
    }
   ],
   "source": [
    "\n",
    "x0 = dat.FLAIR[dat.GOLD_Lesions == 0]\n",
    "x1 = dat.FLAIR[dat.GOLD_Lesions == 1]\n",
    "x2 = dat.FLAIR\n",
    "\n",
    "\n",
    "sns.kdeplot(x2, shade = True, label = 'Marginal')\n",
    "\n",
    "plt.show()\n",
    "\n",
    "sns.kdeplot(x0, shade = True, label = 'Gold Std = 0')\n",
    "sns.kdeplot(x1, shade = True, label = 'Gold Std = 1')\n",
    "\n",
    "plt.show()\n",
    "\n",
    "\n"
   ]
  },
  {
   "cell_type": "markdown",
   "metadata": {
    "id": "R8hBTU2Unxes"
   },
   "source": [
    "# Classification\n",
    "\n",
    "Let's try creating the simplest possible classifier, a threshold. So here we want to pick the value of the threshold so that lower values are classified `GOLD_Lesion == 0` (i.e. no lesion) and higher values are `GOLD_Lesion == 1` (lesion at this voxel). We want to do this on labeled voxels so that we can pick a meaningful threshold on voxels without a gold standard labeling. That is, for new patients we want to automatically label their images one voxel at a time with a simple thresholding rule. We're going to use our **training data** where we know the truth to develop the threshold. \n",
    "\n",
    "*Note the idea behind doing this is only useful if the new images without the gold standard are in the same units as the old one, which is not usually the case for MRIs. The technique for trying to make images comparable is called normalization*. \n",
    "\n",
    "Let's first just try each of the datapoints itself as a threshold and pick which one does best.\n",
    "However, I'm going to break the data into a training and testing set. The reason for this is that I want to make sure that I don't overfit. That is, we're going to test our algorithm on a dataset that wasn't used to train the algorithm. \n"
   ]
  },
  {
   "cell_type": "code",
   "execution_count": 5,
   "metadata": {
    "id": "Qykc4u2KMrWv"
   },
   "outputs": [],
   "source": [
    "x = dat.FLAIR\n",
    "y = dat.GOLD_Lesions\n",
    "n = len(x)\n",
    "trainFraction = .75\n",
    "\n",
    "## Build a training and testing set\n",
    "## Prob of being in the train set is trainFraction\n",
    "sample = np.random.uniform(size = n) < trainFraction\n",
    "\n",
    "## Get the training and testing sets\n",
    "xtrain = x[ sample]\n",
    "ytrain = y[ sample]\n",
    "xtest =  x[~sample]\n",
    "ytest =  y[~sample]\n",
    "\n"
   ]
  },
  {
   "cell_type": "code",
   "execution_count": 6,
   "metadata": {
    "id": "FkxeXhYgbBou"
   },
   "outputs": [],
   "source": [
    "## Starting values, just set it to \n",
    "## 0 so that it improves on the first\n",
    "## try\n",
    "bestAccuracySoFar = 0\n",
    "\n",
    "for t in np.sort(xtrain):\n",
    "  ## Strictly greater than the threshold is\n",
    "  ## our algorithm\n",
    "  predictions = (xtrain > t)\n",
    "  accuracy = np.mean(ytrain == predictions)\n",
    "  if (accuracy > bestAccuracySoFar):\n",
    "    bestThresholdSoFar = t \n",
    "    bestAccuracySoFar = accuracy \n",
    "\n",
    "threshold = bestThresholdSoFar\n",
    "  "
   ]
  },
  {
   "cell_type": "markdown",
   "metadata": {
    "id": "DuHaFEoLd_VQ"
   },
   "source": [
    "Now let's test our our \"algorithm\", on the test set. We'll look at the test set accuracy, but also how it breaks up into the sensisitivity and specificity.\n",
    "\n",
    "## Definitions\n",
    "test set **accuracy** = proportion of correct classifications on the test data\n",
    "\n",
    "test set **sensitivity** = proportion declared diseased among those that are actually diseased. (In this case lesion = disease)\n",
    "\n",
    "test set **specificity** = proportion declared not diseased among those that are actually not diseased.\n",
    "\n",
    "To interpret the sensitivity and specificity, imagine setting the threshold nearly to zero. Then we'll declare almost every voxel a lesion and we'll have nearly 100% sensitivity and nearly 0% specificity. If we declare a voxel as a lesion it's not that interesting. If we declare a voxel as not lesions, then it's probably not a lesion.\n",
    "\n",
    "If we set the threshold really high, then we'll have nearly 0% sensitivity and 100% specificity. If we say a voxel is not lesioned, it's not that informative, since we declare nearly everything not a lesion. But if we declare a voxel a lesion, it usually is.\n",
    "\n",
    "\n",
    "So, if you have a high sensitivity, it's good for ruling diseases out. If you have a high specificity it's good for ruling diseases in. If you have a high both? Then you have a very good test.\n",
    "\n"
   ]
  },
  {
   "cell_type": "code",
   "execution_count": 7,
   "metadata": {
    "colab": {
     "base_uri": "https://localhost:8080/",
     "height": 77
    },
    "id": "EhimOFe8Pjmv",
    "outputId": "ee93dd60-9916-46b7-b1a8-f37ce4e6539b"
   },
   "outputs": [
    {
     "data": {
      "text/html": [
       "<div>\n",
       "<style scoped>\n",
       "    .dataframe tbody tr th:only-of-type {\n",
       "        vertical-align: middle;\n",
       "    }\n",
       "\n",
       "    .dataframe tbody tr th {\n",
       "        vertical-align: top;\n",
       "    }\n",
       "\n",
       "    .dataframe thead th {\n",
       "        text-align: right;\n",
       "    }\n",
       "</style>\n",
       "<table border=\"1\" class=\"dataframe\">\n",
       "  <thead>\n",
       "    <tr style=\"text-align: right;\">\n",
       "      <th></th>\n",
       "      <th>Threshold</th>\n",
       "      <th>Accuracy</th>\n",
       "      <th>Specificity</th>\n",
       "      <th>Sensitivity</th>\n",
       "    </tr>\n",
       "  </thead>\n",
       "  <tbody>\n",
       "    <tr>\n",
       "      <th>0</th>\n",
       "      <td>1.4632</td>\n",
       "      <td>0.730769</td>\n",
       "      <td>0.666667</td>\n",
       "      <td>0.818182</td>\n",
       "    </tr>\n",
       "  </tbody>\n",
       "</table>\n",
       "</div>"
      ],
      "text/plain": [
       "   Threshold  Accuracy  Specificity  Sensitivity\n",
       "0     1.4632  0.730769     0.666667     0.818182"
      ]
     },
     "execution_count": 7,
     "metadata": {},
     "output_type": "execute_result"
    }
   ],
   "source": [
    "## Let's test it out on the test set\n",
    "testPredictions = (xtest > threshold)\n",
    "\n",
    "## The test set accuracy\n",
    "testAccuracy = np.mean(testPredictions == ytest)\n",
    "\n",
    "## Let's see how it specifically does on the\n",
    "## set of instances where ytest == 0 and ytest == 1\n",
    "## The % it gets correct on ytest == 0 is called\n",
    "## the specificity and the percent correct when \n",
    "## ytest == 1 is called the sensitivity.\n",
    "sub0 = ytest == 0\n",
    "sub1 = ytest == 1\n",
    "\n",
    "testSpec = np.mean(ytest[sub0] == testPredictions[sub0])\n",
    "testSens = np.mean(ytest[sub1] == testPredictions[sub1])\n",
    "\n",
    "pd.DataFrame({\n",
    " \n",
    " 'Threshold': threshold,\n",
    " 'Accuracy': testAccuracy, \n",
    " 'Specificity': testSpec, \n",
    " 'Sensitivity': testSens}, index = [0])\n",
    "\n",
    "\n"
   ]
  },
  {
   "cell_type": "code",
   "execution_count": 8,
   "metadata": {
    "colab": {
     "base_uri": "https://localhost:8080/",
     "height": 285
    },
    "id": "j2GagXHug8T3",
    "outputId": "0946a96e-90b1-4518-f795-d764e9cbed49"
   },
   "outputs": [
    {
     "data": {
      "image/png": "[encoded data removed]",
      "text/plain": [
       "<Figure size 432x288 with 1 Axes>"
      ]
     },
     "metadata": {
      "filenames": {
       "image/png": "/home/bcaffo/sandboxes/ds4bio_book/_build/jupyter_execute/07-binary_classification_12_0.png"
      }
     },
     "output_type": "display_data"
    }
   ],
   "source": [
    "sns.kdeplot(x0, shade = True, label = 'Gold Std = 0')\n",
    "sns.kdeplot(x1, shade = True, label = 'Gold Std = 1')\n",
    "plt.axvline(x=threshold)\n",
    "            \n",
    "plt.show()\n"
   ]
  },
  {
   "cell_type": "markdown",
   "metadata": {
    "id": "qZH4t-52g8nz"
   },
   "source": [
    "OK, so out plot has better sensitivity than specificity and a test set accuracy of around 68%. The lower specificity is because there's a lower percentage of blue below the line than orange above the line. Recall,  we're saying above the threshold is a lesion and orange is the distribution for voxels with lesions.\n",
    "\n",
    "So, for this algorithm, the high sensitivity says that all else being equal, if you declare a voxel as not being a lesion, it probably isn't. In other words, if you're out in the lower part of the orange distribution, there's a lot of blue there.\n",
    "\n",
    "However, all else isn't equal. Most voxels aren't lesions. This factors into our discussion in a way that we'll discuss later.\n",
    "\n"
   ]
  },
  {
   "cell_type": "code",
   "execution_count": 9,
   "metadata": {
    "id": "W4cTGDUnvWOH"
   },
   "outputs": [],
   "source": [
    "fpr, tpr, thresholds = roc_curve(ytest, xtest)\n",
    "roc_auc = auc(fpr, tpr)"
   ]
  },
  {
   "cell_type": "code",
   "execution_count": 10,
   "metadata": {
    "colab": {
     "base_uri": "https://localhost:8080/",
     "height": 301
    },
    "id": "Qq-AIu3owmqa",
    "outputId": "238aa73e-9beb-4290-b2c2-5fcf8f9fb511"
   },
   "outputs": [
    {
     "data": {
      "image/png": "[encoded data removed]",
      "text/plain": [
       "<Figure size 432x288 with 1 Axes>"
      ]
     },
     "metadata": {
      "filenames": {
       "image/png": "/home/bcaffo/sandboxes/ds4bio_book/_build/jupyter_execute/07-binary_classification_15_0.png"
      }
     },
     "output_type": "display_data"
    }
   ],
   "source": [
    "plt.figure()\n",
    "lw = 2\n",
    "plt.plot(fpr, tpr, color='darkorange',\n",
    "         lw=lw, label='ROC curve (area = %0.2f)' % roc_auc)\n",
    "plt.plot([0, 1], [0, 1], color='navy', lw=lw, linestyle='--')\n",
    "plt.xlim([-0.05, 1.05])\n",
    "plt.ylim([-0.05, 1.05])\n",
    "plt.xlabel('False Positive Rate')\n",
    "plt.ylabel('True Positive Rate')\n",
    "plt.title('Receiver operating characteristic example')\n",
    "plt.legend(loc=\"lower right\")\n",
    "plt.show()"
   ]
  }
 ],
 "metadata": {
  "colab": {
   "collapsed_sections": [],
   "include_colab_link": true,
   "name": "notebook2.ipynb",
   "provenance": []
  },
  "interpreter": {
   "hash": "625a8f875bfb3f569e4f618df17e1f8389970b6b26ee2c84acb92c5fbebf95c3"
  },
  "kernelspec": {
   "display_name": "Python 3.9.6 64-bit ('ds4bio': conda)",
   "name": "python3"
  },
  "language_info": {
   "codemirror_mode": {
    "name": "ipython",
    "version": 3
   },
   "file_extension": ".py",
   "mimetype": "text/x-python",
   "name": "python",
   "nbconvert_exporter": "python",
   "pygments_lexer": "ipython3",
   "version": "3.9.6"
  }
 },
 "nbformat": 4,
 "nbformat_minor": 2
}